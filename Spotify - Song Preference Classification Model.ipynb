{
 "cells": [
  {
   "cell_type": "markdown",
   "metadata": {},
   "source": [
    "# Personal Project: Spotify - Song Preference Classification Model\n",
    "\n",
    "In this project, we use 5 models we know to create a classifier that predicts who will perfer a random song from Spotify.\n",
    "\n",
    "Our analysis contains the following components:\n",
    "\n",
    "- Using `Spotify API` and the `Spotipy` libaray to get audio features and information about tracks from our personal playlist on Spotify. (code in **Spotify API.py**)\n",
    "- The data science lifecycle: data selection and cleaning, EDA, feature engineering, and model selection.\n",
    "- Using `sklearn` to process data and fit logistic regression, decision tree, random forest, K-nearst Neighbor and  Support Vector Classification (SVC) models.\n",
    "\n",
    "**Contributors**: *Sophie Lou, Zihan Wen*"
   ]
  },
  {
   "cell_type": "code",
   "execution_count": 1,
   "metadata": {},
   "outputs": [],
   "source": [
    "import numpy as np\n",
    "import pandas as pd\n",
    "import matplotlib.pyplot as plt\n",
    "%matplotlib inline\n",
    "\n",
    "import seaborn as sns\n",
    "sns.set(style = \"whitegrid\", \n",
    "        color_codes = True,\n",
    "        font_scale = 1.5)"
   ]
  },
  {
   "cell_type": "code",
   "execution_count": 2,
   "metadata": {},
   "outputs": [],
   "source": [
    "import warnings \n",
    "warnings.filterwarnings(\"ignore\")"
   ]
  },
  {
   "cell_type": "code",
   "execution_count": 3,
   "metadata": {},
   "outputs": [
    {
     "data": {
      "text/html": [
       "<div>\n",
       "<style scoped>\n",
       "    .dataframe tbody tr th:only-of-type {\n",
       "        vertical-align: middle;\n",
       "    }\n",
       "\n",
       "    .dataframe tbody tr th {\n",
       "        vertical-align: top;\n",
       "    }\n",
       "\n",
       "    .dataframe thead th {\n",
       "        text-align: right;\n",
       "    }\n",
       "</style>\n",
       "<table border=\"1\" class=\"dataframe\">\n",
       "  <thead>\n",
       "    <tr style=\"text-align: right;\">\n",
       "      <th></th>\n",
       "      <th>Unnamed: 0</th>\n",
       "      <th>name</th>\n",
       "      <th>album</th>\n",
       "      <th>artist</th>\n",
       "      <th>release_date</th>\n",
       "      <th>length</th>\n",
       "      <th>popularity</th>\n",
       "      <th>danceability</th>\n",
       "      <th>acousticness</th>\n",
       "      <th>energy</th>\n",
       "      <th>instrumentalness</th>\n",
       "      <th>liveness</th>\n",
       "      <th>loudness</th>\n",
       "      <th>speechiness</th>\n",
       "      <th>valence</th>\n",
       "      <th>tempo</th>\n",
       "      <th>time_signature</th>\n",
       "    </tr>\n",
       "  </thead>\n",
       "  <tbody>\n",
       "    <tr>\n",
       "      <th>0</th>\n",
       "      <td>0</td>\n",
       "      <td>Un Año</td>\n",
       "      <td>Un Año</td>\n",
       "      <td>Sebastian Yatra</td>\n",
       "      <td>2019-01-18</td>\n",
       "      <td>164440</td>\n",
       "      <td>74</td>\n",
       "      <td>0.1480</td>\n",
       "      <td>0.771</td>\n",
       "      <td>0.382</td>\n",
       "      <td>0.000000</td>\n",
       "      <td>0.1040</td>\n",
       "      <td>-6.808</td>\n",
       "      <td>0.0514</td>\n",
       "      <td>0.535</td>\n",
       "      <td>94.931</td>\n",
       "      <td>4</td>\n",
       "    </tr>\n",
       "    <tr>\n",
       "      <th>1</th>\n",
       "      <td>1</td>\n",
       "      <td>What I'm Leaving For - ACM Presents: Our Country</td>\n",
       "      <td>What I'm Leaving For (ACM Presents: Our Country)</td>\n",
       "      <td>Lady A</td>\n",
       "      <td>2020-04-06</td>\n",
       "      <td>205562</td>\n",
       "      <td>44</td>\n",
       "      <td>0.4470</td>\n",
       "      <td>0.534</td>\n",
       "      <td>0.462</td>\n",
       "      <td>0.000000</td>\n",
       "      <td>0.1600</td>\n",
       "      <td>-7.151</td>\n",
       "      <td>0.0261</td>\n",
       "      <td>0.416</td>\n",
       "      <td>148.013</td>\n",
       "      <td>4</td>\n",
       "    </tr>\n",
       "    <tr>\n",
       "      <th>2</th>\n",
       "      <td>2</td>\n",
       "      <td>I'll Be There</td>\n",
       "      <td>I'll Be There</td>\n",
       "      <td>Jess Glynne</td>\n",
       "      <td>2018-05-03</td>\n",
       "      <td>193923</td>\n",
       "      <td>71</td>\n",
       "      <td>0.0228</td>\n",
       "      <td>0.623</td>\n",
       "      <td>0.851</td>\n",
       "      <td>0.000000</td>\n",
       "      <td>0.1200</td>\n",
       "      <td>-3.111</td>\n",
       "      <td>0.0409</td>\n",
       "      <td>0.400</td>\n",
       "      <td>100.063</td>\n",
       "      <td>4</td>\n",
       "    </tr>\n",
       "    <tr>\n",
       "      <th>3</th>\n",
       "      <td>3</td>\n",
       "      <td>Stolen Dance</td>\n",
       "      <td>Sadnecessary</td>\n",
       "      <td>Milky Chance</td>\n",
       "      <td>2014-06-20</td>\n",
       "      <td>313684</td>\n",
       "      <td>73</td>\n",
       "      <td>0.4270</td>\n",
       "      <td>0.885</td>\n",
       "      <td>0.581</td>\n",
       "      <td>0.000204</td>\n",
       "      <td>0.0759</td>\n",
       "      <td>-8.813</td>\n",
       "      <td>0.0378</td>\n",
       "      <td>0.728</td>\n",
       "      <td>114.016</td>\n",
       "      <td>4</td>\n",
       "    </tr>\n",
       "    <tr>\n",
       "      <th>4</th>\n",
       "      <td>4</td>\n",
       "      <td>The Bones - with Hozier</td>\n",
       "      <td>The Bones (with Hozier)</td>\n",
       "      <td>Maren Morris</td>\n",
       "      <td>2019-10-04</td>\n",
       "      <td>197298</td>\n",
       "      <td>78</td>\n",
       "      <td>0.2860</td>\n",
       "      <td>0.561</td>\n",
       "      <td>0.597</td>\n",
       "      <td>0.000000</td>\n",
       "      <td>0.0979</td>\n",
       "      <td>-6.000</td>\n",
       "      <td>0.0405</td>\n",
       "      <td>0.355</td>\n",
       "      <td>76.826</td>\n",
       "      <td>4</td>\n",
       "    </tr>\n",
       "  </tbody>\n",
       "</table>\n",
       "</div>"
      ],
      "text/plain": [
       "   Unnamed: 0                                              name  \\\n",
       "0           0                                            Un Año   \n",
       "1           1  What I'm Leaving For - ACM Presents: Our Country   \n",
       "2           2                                     I'll Be There   \n",
       "3           3                                      Stolen Dance   \n",
       "4           4                           The Bones - with Hozier   \n",
       "\n",
       "                                              album           artist  \\\n",
       "0                                            Un Año  Sebastian Yatra   \n",
       "1  What I'm Leaving For (ACM Presents: Our Country)           Lady A   \n",
       "2                                     I'll Be There      Jess Glynne   \n",
       "3                                      Sadnecessary     Milky Chance   \n",
       "4                           The Bones (with Hozier)     Maren Morris   \n",
       "\n",
       "  release_date  length  popularity  danceability  acousticness  energy  \\\n",
       "0   2019-01-18  164440          74        0.1480         0.771   0.382   \n",
       "1   2020-04-06  205562          44        0.4470         0.534   0.462   \n",
       "2   2018-05-03  193923          71        0.0228         0.623   0.851   \n",
       "3   2014-06-20  313684          73        0.4270         0.885   0.581   \n",
       "4   2019-10-04  197298          78        0.2860         0.561   0.597   \n",
       "\n",
       "   instrumentalness  liveness  loudness  speechiness  valence    tempo  \\\n",
       "0          0.000000    0.1040    -6.808       0.0514    0.535   94.931   \n",
       "1          0.000000    0.1600    -7.151       0.0261    0.416  148.013   \n",
       "2          0.000000    0.1200    -3.111       0.0409    0.400  100.063   \n",
       "3          0.000204    0.0759    -8.813       0.0378    0.728  114.016   \n",
       "4          0.000000    0.0979    -6.000       0.0405    0.355   76.826   \n",
       "\n",
       "   time_signature  \n",
       "0               4  \n",
       "1               4  \n",
       "2               4  \n",
       "3               4  \n",
       "4               4  "
      ]
     },
     "execution_count": 3,
     "metadata": {},
     "output_type": "execute_result"
    }
   ],
   "source": [
    "sophie = pd.read_csv('mix.csv')\n",
    "sophie.head()"
   ]
  },
  {
   "cell_type": "code",
   "execution_count": 4,
   "metadata": {},
   "outputs": [],
   "source": [
    "sophie['release_date'] = pd.to_datetime(sophie['release_date'])"
   ]
  },
  {
   "cell_type": "code",
   "execution_count": 5,
   "metadata": {},
   "outputs": [],
   "source": [
    "sophie = sophie.drop('Unnamed: 0', axis=1)"
   ]
  },
  {
   "cell_type": "code",
   "execution_count": 6,
   "metadata": {},
   "outputs": [
    {
     "data": {
      "text/html": [
       "<div>\n",
       "<style scoped>\n",
       "    .dataframe tbody tr th:only-of-type {\n",
       "        vertical-align: middle;\n",
       "    }\n",
       "\n",
       "    .dataframe tbody tr th {\n",
       "        vertical-align: top;\n",
       "    }\n",
       "\n",
       "    .dataframe thead th {\n",
       "        text-align: right;\n",
       "    }\n",
       "</style>\n",
       "<table border=\"1\" class=\"dataframe\">\n",
       "  <thead>\n",
       "    <tr style=\"text-align: right;\">\n",
       "      <th></th>\n",
       "      <th>danceability</th>\n",
       "      <th>acousticness</th>\n",
       "      <th>energy</th>\n",
       "      <th>instrumentalness</th>\n",
       "      <th>liveness</th>\n",
       "      <th>speechiness</th>\n",
       "      <th>valence</th>\n",
       "    </tr>\n",
       "  </thead>\n",
       "  <tbody>\n",
       "    <tr>\n",
       "      <th>0</th>\n",
       "      <td>0.1480</td>\n",
       "      <td>0.771</td>\n",
       "      <td>0.382</td>\n",
       "      <td>0.000000</td>\n",
       "      <td>0.1040</td>\n",
       "      <td>0.0514</td>\n",
       "      <td>0.535</td>\n",
       "    </tr>\n",
       "    <tr>\n",
       "      <th>1</th>\n",
       "      <td>0.4470</td>\n",
       "      <td>0.534</td>\n",
       "      <td>0.462</td>\n",
       "      <td>0.000000</td>\n",
       "      <td>0.1600</td>\n",
       "      <td>0.0261</td>\n",
       "      <td>0.416</td>\n",
       "    </tr>\n",
       "    <tr>\n",
       "      <th>2</th>\n",
       "      <td>0.0228</td>\n",
       "      <td>0.623</td>\n",
       "      <td>0.851</td>\n",
       "      <td>0.000000</td>\n",
       "      <td>0.1200</td>\n",
       "      <td>0.0409</td>\n",
       "      <td>0.400</td>\n",
       "    </tr>\n",
       "    <tr>\n",
       "      <th>3</th>\n",
       "      <td>0.4270</td>\n",
       "      <td>0.885</td>\n",
       "      <td>0.581</td>\n",
       "      <td>0.000204</td>\n",
       "      <td>0.0759</td>\n",
       "      <td>0.0378</td>\n",
       "      <td>0.728</td>\n",
       "    </tr>\n",
       "    <tr>\n",
       "      <th>4</th>\n",
       "      <td>0.2860</td>\n",
       "      <td>0.561</td>\n",
       "      <td>0.597</td>\n",
       "      <td>0.000000</td>\n",
       "      <td>0.0979</td>\n",
       "      <td>0.0405</td>\n",
       "      <td>0.355</td>\n",
       "    </tr>\n",
       "  </tbody>\n",
       "</table>\n",
       "</div>"
      ],
      "text/plain": [
       "   danceability  acousticness  energy  instrumentalness  liveness  \\\n",
       "0        0.1480         0.771   0.382          0.000000    0.1040   \n",
       "1        0.4470         0.534   0.462          0.000000    0.1600   \n",
       "2        0.0228         0.623   0.851          0.000000    0.1200   \n",
       "3        0.4270         0.885   0.581          0.000204    0.0759   \n",
       "4        0.2860         0.561   0.597          0.000000    0.0979   \n",
       "\n",
       "   speechiness  valence  \n",
       "0       0.0514    0.535  \n",
       "1       0.0261    0.416  \n",
       "2       0.0409    0.400  \n",
       "3       0.0378    0.728  \n",
       "4       0.0405    0.355  "
      ]
     },
     "execution_count": 6,
     "metadata": {},
     "output_type": "execute_result"
    }
   ],
   "source": [
    "s_features = sophie.loc[:,['danceability', 'acousticness', 'energy', 'instrumentalness', 'liveness', 'speechiness','valence']]\n",
    "s_features.head()"
   ]
  },
  {
   "cell_type": "code",
   "execution_count": 7,
   "metadata": {},
   "outputs": [
    {
     "data": {
      "text/html": [
       "<div>\n",
       "<style scoped>\n",
       "    .dataframe tbody tr th:only-of-type {\n",
       "        vertical-align: middle;\n",
       "    }\n",
       "\n",
       "    .dataframe tbody tr th {\n",
       "        vertical-align: top;\n",
       "    }\n",
       "\n",
       "    .dataframe thead th {\n",
       "        text-align: right;\n",
       "    }\n",
       "</style>\n",
       "<table border=\"1\" class=\"dataframe\">\n",
       "  <thead>\n",
       "    <tr style=\"text-align: right;\">\n",
       "      <th></th>\n",
       "      <th>Unnamed: 0</th>\n",
       "      <th>name</th>\n",
       "      <th>album</th>\n",
       "      <th>artist</th>\n",
       "      <th>release_date</th>\n",
       "      <th>length</th>\n",
       "      <th>popularity</th>\n",
       "      <th>danceability</th>\n",
       "      <th>acousticness</th>\n",
       "      <th>energy</th>\n",
       "      <th>instrumentalness</th>\n",
       "      <th>liveness</th>\n",
       "      <th>loudness</th>\n",
       "      <th>speechiness</th>\n",
       "      <th>valence</th>\n",
       "      <th>tempo</th>\n",
       "      <th>time_signature</th>\n",
       "    </tr>\n",
       "  </thead>\n",
       "  <tbody>\n",
       "    <tr>\n",
       "      <th>0</th>\n",
       "      <td>0</td>\n",
       "      <td>Better Together</td>\n",
       "      <td>In Between Dreams</td>\n",
       "      <td>Jack Johnson</td>\n",
       "      <td>2005-01-01</td>\n",
       "      <td>207680</td>\n",
       "      <td>72</td>\n",
       "      <td>0.868</td>\n",
       "      <td>0.3080</td>\n",
       "      <td>0.347</td>\n",
       "      <td>0.000020</td>\n",
       "      <td>0.1100</td>\n",
       "      <td>-9.529</td>\n",
       "      <td>0.0536</td>\n",
       "      <td>0.659</td>\n",
       "      <td>110.059</td>\n",
       "      <td>4</td>\n",
       "    </tr>\n",
       "    <tr>\n",
       "      <th>1</th>\n",
       "      <td>1</td>\n",
       "      <td>Do You Remember</td>\n",
       "      <td>In Between Dreams</td>\n",
       "      <td>Jack Johnson</td>\n",
       "      <td>2005-01-01</td>\n",
       "      <td>144013</td>\n",
       "      <td>61</td>\n",
       "      <td>0.598</td>\n",
       "      <td>0.7620</td>\n",
       "      <td>0.289</td>\n",
       "      <td>0.000082</td>\n",
       "      <td>0.2620</td>\n",
       "      <td>-11.405</td>\n",
       "      <td>0.0334</td>\n",
       "      <td>0.714</td>\n",
       "      <td>92.035</td>\n",
       "      <td>4</td>\n",
       "    </tr>\n",
       "    <tr>\n",
       "      <th>2</th>\n",
       "      <td>2</td>\n",
       "      <td>I Got You</td>\n",
       "      <td>From Here To Now To You</td>\n",
       "      <td>Jack Johnson</td>\n",
       "      <td>2013-01-01</td>\n",
       "      <td>179346</td>\n",
       "      <td>64</td>\n",
       "      <td>0.899</td>\n",
       "      <td>0.6100</td>\n",
       "      <td>0.399</td>\n",
       "      <td>0.000015</td>\n",
       "      <td>0.0923</td>\n",
       "      <td>-6.553</td>\n",
       "      <td>0.0380</td>\n",
       "      <td>0.544</td>\n",
       "      <td>98.067</td>\n",
       "      <td>4</td>\n",
       "    </tr>\n",
       "    <tr>\n",
       "      <th>3</th>\n",
       "      <td>3</td>\n",
       "      <td>Over the Rainbow</td>\n",
       "      <td>Alone In Iz World</td>\n",
       "      <td>Israel Kamakawiwo'ole</td>\n",
       "      <td>2001-09-25</td>\n",
       "      <td>211933</td>\n",
       "      <td>71</td>\n",
       "      <td>0.671</td>\n",
       "      <td>0.9120</td>\n",
       "      <td>0.153</td>\n",
       "      <td>0.000055</td>\n",
       "      <td>0.0771</td>\n",
       "      <td>-13.569</td>\n",
       "      <td>0.0404</td>\n",
       "      <td>0.658</td>\n",
       "      <td>85.600</td>\n",
       "      <td>4</td>\n",
       "    </tr>\n",
       "    <tr>\n",
       "      <th>4</th>\n",
       "      <td>4</td>\n",
       "      <td>Crush</td>\n",
       "      <td>Crush</td>\n",
       "      <td>Tessa Violet</td>\n",
       "      <td>2018-06-15</td>\n",
       "      <td>216266</td>\n",
       "      <td>66</td>\n",
       "      <td>0.910</td>\n",
       "      <td>0.0302</td>\n",
       "      <td>0.401</td>\n",
       "      <td>0.000159</td>\n",
       "      <td>0.0801</td>\n",
       "      <td>-9.552</td>\n",
       "      <td>0.0855</td>\n",
       "      <td>0.824</td>\n",
       "      <td>135.994</td>\n",
       "      <td>4</td>\n",
       "    </tr>\n",
       "  </tbody>\n",
       "</table>\n",
       "</div>"
      ],
      "text/plain": [
       "   Unnamed: 0              name                    album  \\\n",
       "0           0   Better Together        In Between Dreams   \n",
       "1           1   Do You Remember        In Between Dreams   \n",
       "2           2         I Got You  From Here To Now To You   \n",
       "3           3  Over the Rainbow        Alone In Iz World   \n",
       "4           4             Crush                    Crush   \n",
       "\n",
       "                  artist release_date  length  popularity  danceability  \\\n",
       "0           Jack Johnson   2005-01-01  207680          72         0.868   \n",
       "1           Jack Johnson   2005-01-01  144013          61         0.598   \n",
       "2           Jack Johnson   2013-01-01  179346          64         0.899   \n",
       "3  Israel Kamakawiwo'ole   2001-09-25  211933          71         0.671   \n",
       "4           Tessa Violet   2018-06-15  216266          66         0.910   \n",
       "\n",
       "   acousticness  energy  instrumentalness  liveness  loudness  speechiness  \\\n",
       "0        0.3080   0.347          0.000020    0.1100    -9.529       0.0536   \n",
       "1        0.7620   0.289          0.000082    0.2620   -11.405       0.0334   \n",
       "2        0.6100   0.399          0.000015    0.0923    -6.553       0.0380   \n",
       "3        0.9120   0.153          0.000055    0.0771   -13.569       0.0404   \n",
       "4        0.0302   0.401          0.000159    0.0801    -9.552       0.0855   \n",
       "\n",
       "   valence    tempo  time_signature  \n",
       "0    0.659  110.059               4  \n",
       "1    0.714   92.035               4  \n",
       "2    0.544   98.067               4  \n",
       "3    0.658   85.600               4  \n",
       "4    0.824  135.994               4  "
      ]
     },
     "execution_count": 7,
     "metadata": {},
     "output_type": "execute_result"
    }
   ],
   "source": [
    "zihan = pd.read_csv(\"spotify_2.csv\")\n",
    "zihan.head()"
   ]
  },
  {
   "cell_type": "code",
   "execution_count": 8,
   "metadata": {},
   "outputs": [],
   "source": [
    "zihan['release_date'] = pd.to_datetime(zihan['release_date'])"
   ]
  },
  {
   "cell_type": "code",
   "execution_count": 9,
   "metadata": {},
   "outputs": [
    {
     "data": {
      "text/html": [
       "<div>\n",
       "<style scoped>\n",
       "    .dataframe tbody tr th:only-of-type {\n",
       "        vertical-align: middle;\n",
       "    }\n",
       "\n",
       "    .dataframe tbody tr th {\n",
       "        vertical-align: top;\n",
       "    }\n",
       "\n",
       "    .dataframe thead th {\n",
       "        text-align: right;\n",
       "    }\n",
       "</style>\n",
       "<table border=\"1\" class=\"dataframe\">\n",
       "  <thead>\n",
       "    <tr style=\"text-align: right;\">\n",
       "      <th></th>\n",
       "      <th>danceability</th>\n",
       "      <th>acousticness</th>\n",
       "      <th>energy</th>\n",
       "      <th>instrumentalness</th>\n",
       "      <th>liveness</th>\n",
       "      <th>speechiness</th>\n",
       "      <th>valence</th>\n",
       "    </tr>\n",
       "  </thead>\n",
       "  <tbody>\n",
       "    <tr>\n",
       "      <th>0</th>\n",
       "      <td>0.868</td>\n",
       "      <td>0.3080</td>\n",
       "      <td>0.347</td>\n",
       "      <td>0.000020</td>\n",
       "      <td>0.1100</td>\n",
       "      <td>0.0536</td>\n",
       "      <td>0.659</td>\n",
       "    </tr>\n",
       "    <tr>\n",
       "      <th>1</th>\n",
       "      <td>0.598</td>\n",
       "      <td>0.7620</td>\n",
       "      <td>0.289</td>\n",
       "      <td>0.000082</td>\n",
       "      <td>0.2620</td>\n",
       "      <td>0.0334</td>\n",
       "      <td>0.714</td>\n",
       "    </tr>\n",
       "    <tr>\n",
       "      <th>2</th>\n",
       "      <td>0.899</td>\n",
       "      <td>0.6100</td>\n",
       "      <td>0.399</td>\n",
       "      <td>0.000015</td>\n",
       "      <td>0.0923</td>\n",
       "      <td>0.0380</td>\n",
       "      <td>0.544</td>\n",
       "    </tr>\n",
       "    <tr>\n",
       "      <th>3</th>\n",
       "      <td>0.671</td>\n",
       "      <td>0.9120</td>\n",
       "      <td>0.153</td>\n",
       "      <td>0.000055</td>\n",
       "      <td>0.0771</td>\n",
       "      <td>0.0404</td>\n",
       "      <td>0.658</td>\n",
       "    </tr>\n",
       "    <tr>\n",
       "      <th>4</th>\n",
       "      <td>0.910</td>\n",
       "      <td>0.0302</td>\n",
       "      <td>0.401</td>\n",
       "      <td>0.000159</td>\n",
       "      <td>0.0801</td>\n",
       "      <td>0.0855</td>\n",
       "      <td>0.824</td>\n",
       "    </tr>\n",
       "  </tbody>\n",
       "</table>\n",
       "</div>"
      ],
      "text/plain": [
       "   danceability  acousticness  energy  instrumentalness  liveness  \\\n",
       "0         0.868        0.3080   0.347          0.000020    0.1100   \n",
       "1         0.598        0.7620   0.289          0.000082    0.2620   \n",
       "2         0.899        0.6100   0.399          0.000015    0.0923   \n",
       "3         0.671        0.9120   0.153          0.000055    0.0771   \n",
       "4         0.910        0.0302   0.401          0.000159    0.0801   \n",
       "\n",
       "   speechiness  valence  \n",
       "0       0.0536    0.659  \n",
       "1       0.0334    0.714  \n",
       "2       0.0380    0.544  \n",
       "3       0.0404    0.658  \n",
       "4       0.0855    0.824  "
      ]
     },
     "execution_count": 9,
     "metadata": {},
     "output_type": "execute_result"
    }
   ],
   "source": [
    "z_features = zihan.loc[:,['danceability', 'acousticness', 'energy', 'instrumentalness', 'liveness', 'speechiness','valence']]\n",
    "z_features.head()"
   ]
  },
  {
   "cell_type": "code",
   "execution_count": 10,
   "metadata": {
    "scrolled": false
   },
   "outputs": [
    {
     "data": {
      "image/png": "[encoded data removed]",
      "text/plain": [
       "<Figure size 1296x1296 with 1 Axes>"
      ]
     },
     "metadata": {},
     "output_type": "display_data"
    }
   ],
   "source": [
    "labels= list(s_features)[:]\n",
    "stats= s_features.mean().tolist()\n",
    "stats2 = z_features.mean().tolist()\n",
    "\n",
    "angles=np.linspace(0, 2*np.pi, len(labels), endpoint=False)\n",
    "\n",
    "# close the plot\n",
    "stats=np.concatenate((stats,[stats[0]]))\n",
    "stats2 =np.concatenate((stats2,[stats2[0]])) \n",
    "angles=np.concatenate((angles,[angles[0]]))\n",
    "\n",
    "#Size of the figure\n",
    "fig=plt.figure(figsize = (18,18))\n",
    "\n",
    "ax = fig.add_subplot(221, polar=True)\n",
    "ax.plot(angles, stats, 'o-', linewidth=2, label = \"Sophie\", color= 'gold')\n",
    "ax.fill(angles, stats, alpha=0.25, facecolor='gold')\n",
    "ax.set_thetagrids(angles * 180/np.pi, labels , fontsize = 13)\n",
    "\n",
    "\n",
    "ax.set_rlabel_position(250)\n",
    "plt.yticks([0.2 , 0.4 , 0.6 , 0.8  ], [\"0.2\",'0.4', \"0.6\", \"0.8\"], color=\"gray\", size=12)\n",
    "plt.ylim(0,1)\n",
    "\n",
    "ax.plot(angles, stats2, 'o-', linewidth=2, label = \"Zihan\", color = 'coral')\n",
    "ax.fill(angles, stats2, alpha=0.25, facecolor='coral' )\n",
    "ax.set_title('Mean Values of the audio features')\n",
    "ax.grid(True)\n",
    "\n",
    "plt.legend(loc='best', bbox_to_anchor=(0.1, 0.1));"
   ]
  },
  {
   "cell_type": "code",
   "execution_count": 11,
   "metadata": {},
   "outputs": [],
   "source": [
    "zihan = zihan.drop('Unnamed: 0', axis=1)"
   ]
  },
  {
   "cell_type": "code",
   "execution_count": 12,
   "metadata": {},
   "outputs": [
    {
     "data": {
      "text/html": [
       "<div>\n",
       "<style scoped>\n",
       "    .dataframe tbody tr th:only-of-type {\n",
       "        vertical-align: middle;\n",
       "    }\n",
       "\n",
       "    .dataframe tbody tr th {\n",
       "        vertical-align: top;\n",
       "    }\n",
       "\n",
       "    .dataframe thead th {\n",
       "        text-align: right;\n",
       "    }\n",
       "</style>\n",
       "<table border=\"1\" class=\"dataframe\">\n",
       "  <thead>\n",
       "    <tr style=\"text-align: right;\">\n",
       "      <th></th>\n",
       "      <th>name</th>\n",
       "      <th>album</th>\n",
       "      <th>artist</th>\n",
       "      <th>release_date</th>\n",
       "      <th>length</th>\n",
       "      <th>popularity</th>\n",
       "      <th>danceability</th>\n",
       "      <th>acousticness</th>\n",
       "      <th>energy</th>\n",
       "      <th>instrumentalness</th>\n",
       "      <th>liveness</th>\n",
       "      <th>loudness</th>\n",
       "      <th>speechiness</th>\n",
       "      <th>valence</th>\n",
       "      <th>tempo</th>\n",
       "      <th>time_signature</th>\n",
       "    </tr>\n",
       "  </thead>\n",
       "  <tbody>\n",
       "    <tr>\n",
       "      <th>0</th>\n",
       "      <td>Better Together</td>\n",
       "      <td>In Between Dreams</td>\n",
       "      <td>Jack Johnson</td>\n",
       "      <td>2005-01-01</td>\n",
       "      <td>207680</td>\n",
       "      <td>72</td>\n",
       "      <td>0.868</td>\n",
       "      <td>0.3080</td>\n",
       "      <td>0.347</td>\n",
       "      <td>0.000020</td>\n",
       "      <td>0.1100</td>\n",
       "      <td>-9.529</td>\n",
       "      <td>0.0536</td>\n",
       "      <td>0.659</td>\n",
       "      <td>110.059</td>\n",
       "      <td>4</td>\n",
       "    </tr>\n",
       "    <tr>\n",
       "      <th>1</th>\n",
       "      <td>Do You Remember</td>\n",
       "      <td>In Between Dreams</td>\n",
       "      <td>Jack Johnson</td>\n",
       "      <td>2005-01-01</td>\n",
       "      <td>144013</td>\n",
       "      <td>61</td>\n",
       "      <td>0.598</td>\n",
       "      <td>0.7620</td>\n",
       "      <td>0.289</td>\n",
       "      <td>0.000082</td>\n",
       "      <td>0.2620</td>\n",
       "      <td>-11.405</td>\n",
       "      <td>0.0334</td>\n",
       "      <td>0.714</td>\n",
       "      <td>92.035</td>\n",
       "      <td>4</td>\n",
       "    </tr>\n",
       "    <tr>\n",
       "      <th>2</th>\n",
       "      <td>I Got You</td>\n",
       "      <td>From Here To Now To You</td>\n",
       "      <td>Jack Johnson</td>\n",
       "      <td>2013-01-01</td>\n",
       "      <td>179346</td>\n",
       "      <td>64</td>\n",
       "      <td>0.899</td>\n",
       "      <td>0.6100</td>\n",
       "      <td>0.399</td>\n",
       "      <td>0.000015</td>\n",
       "      <td>0.0923</td>\n",
       "      <td>-6.553</td>\n",
       "      <td>0.0380</td>\n",
       "      <td>0.544</td>\n",
       "      <td>98.067</td>\n",
       "      <td>4</td>\n",
       "    </tr>\n",
       "    <tr>\n",
       "      <th>3</th>\n",
       "      <td>Over the Rainbow</td>\n",
       "      <td>Alone In Iz World</td>\n",
       "      <td>Israel Kamakawiwo'ole</td>\n",
       "      <td>2001-09-25</td>\n",
       "      <td>211933</td>\n",
       "      <td>71</td>\n",
       "      <td>0.671</td>\n",
       "      <td>0.9120</td>\n",
       "      <td>0.153</td>\n",
       "      <td>0.000055</td>\n",
       "      <td>0.0771</td>\n",
       "      <td>-13.569</td>\n",
       "      <td>0.0404</td>\n",
       "      <td>0.658</td>\n",
       "      <td>85.600</td>\n",
       "      <td>4</td>\n",
       "    </tr>\n",
       "    <tr>\n",
       "      <th>4</th>\n",
       "      <td>Crush</td>\n",
       "      <td>Crush</td>\n",
       "      <td>Tessa Violet</td>\n",
       "      <td>2018-06-15</td>\n",
       "      <td>216266</td>\n",
       "      <td>66</td>\n",
       "      <td>0.910</td>\n",
       "      <td>0.0302</td>\n",
       "      <td>0.401</td>\n",
       "      <td>0.000159</td>\n",
       "      <td>0.0801</td>\n",
       "      <td>-9.552</td>\n",
       "      <td>0.0855</td>\n",
       "      <td>0.824</td>\n",
       "      <td>135.994</td>\n",
       "      <td>4</td>\n",
       "    </tr>\n",
       "  </tbody>\n",
       "</table>\n",
       "</div>"
      ],
      "text/plain": [
       "               name                    album                 artist  \\\n",
       "0   Better Together        In Between Dreams           Jack Johnson   \n",
       "1   Do You Remember        In Between Dreams           Jack Johnson   \n",
       "2         I Got You  From Here To Now To You           Jack Johnson   \n",
       "3  Over the Rainbow        Alone In Iz World  Israel Kamakawiwo'ole   \n",
       "4             Crush                    Crush           Tessa Violet   \n",
       "\n",
       "  release_date  length  popularity  danceability  acousticness  energy  \\\n",
       "0   2005-01-01  207680          72         0.868        0.3080   0.347   \n",
       "1   2005-01-01  144013          61         0.598        0.7620   0.289   \n",
       "2   2013-01-01  179346          64         0.899        0.6100   0.399   \n",
       "3   2001-09-25  211933          71         0.671        0.9120   0.153   \n",
       "4   2018-06-15  216266          66         0.910        0.0302   0.401   \n",
       "\n",
       "   instrumentalness  liveness  loudness  speechiness  valence    tempo  \\\n",
       "0          0.000020    0.1100    -9.529       0.0536    0.659  110.059   \n",
       "1          0.000082    0.2620   -11.405       0.0334    0.714   92.035   \n",
       "2          0.000015    0.0923    -6.553       0.0380    0.544   98.067   \n",
       "3          0.000055    0.0771   -13.569       0.0404    0.658   85.600   \n",
       "4          0.000159    0.0801    -9.552       0.0855    0.824  135.994   \n",
       "\n",
       "   time_signature  \n",
       "0               4  \n",
       "1               4  \n",
       "2               4  \n",
       "3               4  \n",
       "4               4  "
      ]
     },
     "execution_count": 12,
     "metadata": {},
     "output_type": "execute_result"
    }
   ],
   "source": [
    "zihan.head()"
   ]
  },
  {
   "cell_type": "code",
   "execution_count": 13,
   "metadata": {},
   "outputs": [
    {
     "data": {
      "text/html": [
       "<div>\n",
       "<style scoped>\n",
       "    .dataframe tbody tr th:only-of-type {\n",
       "        vertical-align: middle;\n",
       "    }\n",
       "\n",
       "    .dataframe tbody tr th {\n",
       "        vertical-align: top;\n",
       "    }\n",
       "\n",
       "    .dataframe thead th {\n",
       "        text-align: right;\n",
       "    }\n",
       "</style>\n",
       "<table border=\"1\" class=\"dataframe\">\n",
       "  <thead>\n",
       "    <tr style=\"text-align: right;\">\n",
       "      <th></th>\n",
       "      <th>name</th>\n",
       "      <th>album</th>\n",
       "      <th>artist</th>\n",
       "      <th>release_date</th>\n",
       "      <th>length</th>\n",
       "      <th>popularity</th>\n",
       "      <th>danceability</th>\n",
       "      <th>acousticness</th>\n",
       "      <th>energy</th>\n",
       "      <th>instrumentalness</th>\n",
       "      <th>liveness</th>\n",
       "      <th>loudness</th>\n",
       "      <th>speechiness</th>\n",
       "      <th>valence</th>\n",
       "      <th>tempo</th>\n",
       "      <th>time_signature</th>\n",
       "      <th>category</th>\n",
       "    </tr>\n",
       "  </thead>\n",
       "  <tbody>\n",
       "    <tr>\n",
       "      <th>0</th>\n",
       "      <td>Better Together</td>\n",
       "      <td>In Between Dreams</td>\n",
       "      <td>Jack Johnson</td>\n",
       "      <td>2005-01-01</td>\n",
       "      <td>207680</td>\n",
       "      <td>72</td>\n",
       "      <td>0.868</td>\n",
       "      <td>0.3080</td>\n",
       "      <td>0.347</td>\n",
       "      <td>0.000020</td>\n",
       "      <td>0.1100</td>\n",
       "      <td>-9.529</td>\n",
       "      <td>0.0536</td>\n",
       "      <td>0.659</td>\n",
       "      <td>110.059</td>\n",
       "      <td>4</td>\n",
       "      <td>1</td>\n",
       "    </tr>\n",
       "    <tr>\n",
       "      <th>1</th>\n",
       "      <td>Do You Remember</td>\n",
       "      <td>In Between Dreams</td>\n",
       "      <td>Jack Johnson</td>\n",
       "      <td>2005-01-01</td>\n",
       "      <td>144013</td>\n",
       "      <td>61</td>\n",
       "      <td>0.598</td>\n",
       "      <td>0.7620</td>\n",
       "      <td>0.289</td>\n",
       "      <td>0.000082</td>\n",
       "      <td>0.2620</td>\n",
       "      <td>-11.405</td>\n",
       "      <td>0.0334</td>\n",
       "      <td>0.714</td>\n",
       "      <td>92.035</td>\n",
       "      <td>4</td>\n",
       "      <td>1</td>\n",
       "    </tr>\n",
       "    <tr>\n",
       "      <th>2</th>\n",
       "      <td>I Got You</td>\n",
       "      <td>From Here To Now To You</td>\n",
       "      <td>Jack Johnson</td>\n",
       "      <td>2013-01-01</td>\n",
       "      <td>179346</td>\n",
       "      <td>64</td>\n",
       "      <td>0.899</td>\n",
       "      <td>0.6100</td>\n",
       "      <td>0.399</td>\n",
       "      <td>0.000015</td>\n",
       "      <td>0.0923</td>\n",
       "      <td>-6.553</td>\n",
       "      <td>0.0380</td>\n",
       "      <td>0.544</td>\n",
       "      <td>98.067</td>\n",
       "      <td>4</td>\n",
       "      <td>1</td>\n",
       "    </tr>\n",
       "    <tr>\n",
       "      <th>3</th>\n",
       "      <td>Over the Rainbow</td>\n",
       "      <td>Alone In Iz World</td>\n",
       "      <td>Israel Kamakawiwo'ole</td>\n",
       "      <td>2001-09-25</td>\n",
       "      <td>211933</td>\n",
       "      <td>71</td>\n",
       "      <td>0.671</td>\n",
       "      <td>0.9120</td>\n",
       "      <td>0.153</td>\n",
       "      <td>0.000055</td>\n",
       "      <td>0.0771</td>\n",
       "      <td>-13.569</td>\n",
       "      <td>0.0404</td>\n",
       "      <td>0.658</td>\n",
       "      <td>85.600</td>\n",
       "      <td>4</td>\n",
       "      <td>1</td>\n",
       "    </tr>\n",
       "    <tr>\n",
       "      <th>4</th>\n",
       "      <td>Crush</td>\n",
       "      <td>Crush</td>\n",
       "      <td>Tessa Violet</td>\n",
       "      <td>2018-06-15</td>\n",
       "      <td>216266</td>\n",
       "      <td>66</td>\n",
       "      <td>0.910</td>\n",
       "      <td>0.0302</td>\n",
       "      <td>0.401</td>\n",
       "      <td>0.000159</td>\n",
       "      <td>0.0801</td>\n",
       "      <td>-9.552</td>\n",
       "      <td>0.0855</td>\n",
       "      <td>0.824</td>\n",
       "      <td>135.994</td>\n",
       "      <td>4</td>\n",
       "      <td>1</td>\n",
       "    </tr>\n",
       "  </tbody>\n",
       "</table>\n",
       "</div>"
      ],
      "text/plain": [
       "               name                    album                 artist  \\\n",
       "0   Better Together        In Between Dreams           Jack Johnson   \n",
       "1   Do You Remember        In Between Dreams           Jack Johnson   \n",
       "2         I Got You  From Here To Now To You           Jack Johnson   \n",
       "3  Over the Rainbow        Alone In Iz World  Israel Kamakawiwo'ole   \n",
       "4             Crush                    Crush           Tessa Violet   \n",
       "\n",
       "  release_date  length  popularity  danceability  acousticness  energy  \\\n",
       "0   2005-01-01  207680          72         0.868        0.3080   0.347   \n",
       "1   2005-01-01  144013          61         0.598        0.7620   0.289   \n",
       "2   2013-01-01  179346          64         0.899        0.6100   0.399   \n",
       "3   2001-09-25  211933          71         0.671        0.9120   0.153   \n",
       "4   2018-06-15  216266          66         0.910        0.0302   0.401   \n",
       "\n",
       "   instrumentalness  liveness  loudness  speechiness  valence    tempo  \\\n",
       "0          0.000020    0.1100    -9.529       0.0536    0.659  110.059   \n",
       "1          0.000082    0.2620   -11.405       0.0334    0.714   92.035   \n",
       "2          0.000015    0.0923    -6.553       0.0380    0.544   98.067   \n",
       "3          0.000055    0.0771   -13.569       0.0404    0.658   85.600   \n",
       "4          0.000159    0.0801    -9.552       0.0855    0.824  135.994   \n",
       "\n",
       "   time_signature  category  \n",
       "0               4         1  \n",
       "1               4         1  \n",
       "2               4         1  \n",
       "3               4         1  \n",
       "4               4         1  "
      ]
     },
     "execution_count": 13,
     "metadata": {},
     "output_type": "execute_result"
    }
   ],
   "source": [
    "all_ones = np.ones(zihan.shape[0], dtype = 'int')\n",
    "zihan['category'] = all_ones\n",
    "zihan.head()"
   ]
  },
  {
   "cell_type": "code",
   "execution_count": 14,
   "metadata": {},
   "outputs": [
    {
     "data": {
      "text/html": [
       "<div>\n",
       "<style scoped>\n",
       "    .dataframe tbody tr th:only-of-type {\n",
       "        vertical-align: middle;\n",
       "    }\n",
       "\n",
       "    .dataframe tbody tr th {\n",
       "        vertical-align: top;\n",
       "    }\n",
       "\n",
       "    .dataframe thead th {\n",
       "        text-align: right;\n",
       "    }\n",
       "</style>\n",
       "<table border=\"1\" class=\"dataframe\">\n",
       "  <thead>\n",
       "    <tr style=\"text-align: right;\">\n",
       "      <th></th>\n",
       "      <th>name</th>\n",
       "      <th>album</th>\n",
       "      <th>artist</th>\n",
       "      <th>release_date</th>\n",
       "      <th>length</th>\n",
       "      <th>popularity</th>\n",
       "      <th>danceability</th>\n",
       "      <th>acousticness</th>\n",
       "      <th>energy</th>\n",
       "      <th>instrumentalness</th>\n",
       "      <th>liveness</th>\n",
       "      <th>loudness</th>\n",
       "      <th>speechiness</th>\n",
       "      <th>valence</th>\n",
       "      <th>tempo</th>\n",
       "      <th>time_signature</th>\n",
       "      <th>category</th>\n",
       "    </tr>\n",
       "  </thead>\n",
       "  <tbody>\n",
       "    <tr>\n",
       "      <th>0</th>\n",
       "      <td>Un Año</td>\n",
       "      <td>Un Año</td>\n",
       "      <td>Sebastian Yatra</td>\n",
       "      <td>2019-01-18</td>\n",
       "      <td>164440</td>\n",
       "      <td>74</td>\n",
       "      <td>0.1480</td>\n",
       "      <td>0.771</td>\n",
       "      <td>0.382</td>\n",
       "      <td>0.000000</td>\n",
       "      <td>0.1040</td>\n",
       "      <td>-6.808</td>\n",
       "      <td>0.0514</td>\n",
       "      <td>0.535</td>\n",
       "      <td>94.931</td>\n",
       "      <td>4</td>\n",
       "      <td>0</td>\n",
       "    </tr>\n",
       "    <tr>\n",
       "      <th>1</th>\n",
       "      <td>What I'm Leaving For - ACM Presents: Our Country</td>\n",
       "      <td>What I'm Leaving For (ACM Presents: Our Country)</td>\n",
       "      <td>Lady A</td>\n",
       "      <td>2020-04-06</td>\n",
       "      <td>205562</td>\n",
       "      <td>44</td>\n",
       "      <td>0.4470</td>\n",
       "      <td>0.534</td>\n",
       "      <td>0.462</td>\n",
       "      <td>0.000000</td>\n",
       "      <td>0.1600</td>\n",
       "      <td>-7.151</td>\n",
       "      <td>0.0261</td>\n",
       "      <td>0.416</td>\n",
       "      <td>148.013</td>\n",
       "      <td>4</td>\n",
       "      <td>0</td>\n",
       "    </tr>\n",
       "    <tr>\n",
       "      <th>2</th>\n",
       "      <td>I'll Be There</td>\n",
       "      <td>I'll Be There</td>\n",
       "      <td>Jess Glynne</td>\n",
       "      <td>2018-05-03</td>\n",
       "      <td>193923</td>\n",
       "      <td>71</td>\n",
       "      <td>0.0228</td>\n",
       "      <td>0.623</td>\n",
       "      <td>0.851</td>\n",
       "      <td>0.000000</td>\n",
       "      <td>0.1200</td>\n",
       "      <td>-3.111</td>\n",
       "      <td>0.0409</td>\n",
       "      <td>0.400</td>\n",
       "      <td>100.063</td>\n",
       "      <td>4</td>\n",
       "      <td>0</td>\n",
       "    </tr>\n",
       "    <tr>\n",
       "      <th>3</th>\n",
       "      <td>Stolen Dance</td>\n",
       "      <td>Sadnecessary</td>\n",
       "      <td>Milky Chance</td>\n",
       "      <td>2014-06-20</td>\n",
       "      <td>313684</td>\n",
       "      <td>73</td>\n",
       "      <td>0.4270</td>\n",
       "      <td>0.885</td>\n",
       "      <td>0.581</td>\n",
       "      <td>0.000204</td>\n",
       "      <td>0.0759</td>\n",
       "      <td>-8.813</td>\n",
       "      <td>0.0378</td>\n",
       "      <td>0.728</td>\n",
       "      <td>114.016</td>\n",
       "      <td>4</td>\n",
       "      <td>0</td>\n",
       "    </tr>\n",
       "    <tr>\n",
       "      <th>4</th>\n",
       "      <td>The Bones - with Hozier</td>\n",
       "      <td>The Bones (with Hozier)</td>\n",
       "      <td>Maren Morris</td>\n",
       "      <td>2019-10-04</td>\n",
       "      <td>197298</td>\n",
       "      <td>78</td>\n",
       "      <td>0.2860</td>\n",
       "      <td>0.561</td>\n",
       "      <td>0.597</td>\n",
       "      <td>0.000000</td>\n",
       "      <td>0.0979</td>\n",
       "      <td>-6.000</td>\n",
       "      <td>0.0405</td>\n",
       "      <td>0.355</td>\n",
       "      <td>76.826</td>\n",
       "      <td>4</td>\n",
       "      <td>0</td>\n",
       "    </tr>\n",
       "  </tbody>\n",
       "</table>\n",
       "</div>"
      ],
      "text/plain": [
       "                                               name  \\\n",
       "0                                            Un Año   \n",
       "1  What I'm Leaving For - ACM Presents: Our Country   \n",
       "2                                     I'll Be There   \n",
       "3                                      Stolen Dance   \n",
       "4                           The Bones - with Hozier   \n",
       "\n",
       "                                              album           artist  \\\n",
       "0                                            Un Año  Sebastian Yatra   \n",
       "1  What I'm Leaving For (ACM Presents: Our Country)           Lady A   \n",
       "2                                     I'll Be There      Jess Glynne   \n",
       "3                                      Sadnecessary     Milky Chance   \n",
       "4                           The Bones (with Hozier)     Maren Morris   \n",
       "\n",
       "  release_date  length  popularity  danceability  acousticness  energy  \\\n",
       "0   2019-01-18  164440          74        0.1480         0.771   0.382   \n",
       "1   2020-04-06  205562          44        0.4470         0.534   0.462   \n",
       "2   2018-05-03  193923          71        0.0228         0.623   0.851   \n",
       "3   2014-06-20  313684          73        0.4270         0.885   0.581   \n",
       "4   2019-10-04  197298          78        0.2860         0.561   0.597   \n",
       "\n",
       "   instrumentalness  liveness  loudness  speechiness  valence    tempo  \\\n",
       "0          0.000000    0.1040    -6.808       0.0514    0.535   94.931   \n",
       "1          0.000000    0.1600    -7.151       0.0261    0.416  148.013   \n",
       "2          0.000000    0.1200    -3.111       0.0409    0.400  100.063   \n",
       "3          0.000204    0.0759    -8.813       0.0378    0.728  114.016   \n",
       "4          0.000000    0.0979    -6.000       0.0405    0.355   76.826   \n",
       "\n",
       "   time_signature  category  \n",
       "0               4         0  \n",
       "1               4         0  \n",
       "2               4         0  \n",
       "3               4         0  \n",
       "4               4         0  "
      ]
     },
     "execution_count": 14,
     "metadata": {},
     "output_type": "execute_result"
    }
   ],
   "source": [
    "all_zeros = np.zeros(sophie.shape[0], dtype = 'int')\n",
    "sophie['category'] = all_zeros\n",
    "sophie.head()"
   ]
  },
  {
   "cell_type": "code",
   "execution_count": 15,
   "metadata": {},
   "outputs": [
    {
     "data": {
      "text/plain": [
       "array([0, 1])"
      ]
     },
     "execution_count": 15,
     "metadata": {},
     "output_type": "execute_result"
    }
   ],
   "source": [
    "spotify = pd.concat([sophie, zihan])\n",
    "spotify['category'].unique()"
   ]
  },
  {
   "cell_type": "code",
   "execution_count": 16,
   "metadata": {},
   "outputs": [
    {
     "data": {
      "text/html": [
       "<div>\n",
       "<style scoped>\n",
       "    .dataframe tbody tr th:only-of-type {\n",
       "        vertical-align: middle;\n",
       "    }\n",
       "\n",
       "    .dataframe tbody tr th {\n",
       "        vertical-align: top;\n",
       "    }\n",
       "\n",
       "    .dataframe thead th {\n",
       "        text-align: right;\n",
       "    }\n",
       "</style>\n",
       "<table border=\"1\" class=\"dataframe\">\n",
       "  <thead>\n",
       "    <tr style=\"text-align: right;\">\n",
       "      <th></th>\n",
       "      <th>name</th>\n",
       "      <th>album</th>\n",
       "      <th>artist</th>\n",
       "      <th>release_date</th>\n",
       "      <th>length</th>\n",
       "      <th>popularity</th>\n",
       "      <th>danceability</th>\n",
       "      <th>acousticness</th>\n",
       "      <th>energy</th>\n",
       "      <th>instrumentalness</th>\n",
       "      <th>liveness</th>\n",
       "      <th>loudness</th>\n",
       "      <th>speechiness</th>\n",
       "      <th>valence</th>\n",
       "      <th>tempo</th>\n",
       "      <th>time_signature</th>\n",
       "      <th>category</th>\n",
       "      <th>release_year</th>\n",
       "    </tr>\n",
       "  </thead>\n",
       "  <tbody>\n",
       "    <tr>\n",
       "      <th>0</th>\n",
       "      <td>Un Año</td>\n",
       "      <td>Un Año</td>\n",
       "      <td>Sebastian Yatra</td>\n",
       "      <td>2019-01-18</td>\n",
       "      <td>164440</td>\n",
       "      <td>74</td>\n",
       "      <td>0.1480</td>\n",
       "      <td>0.771</td>\n",
       "      <td>0.382</td>\n",
       "      <td>0.000000</td>\n",
       "      <td>0.1040</td>\n",
       "      <td>-6.808</td>\n",
       "      <td>0.0514</td>\n",
       "      <td>0.535</td>\n",
       "      <td>94.931</td>\n",
       "      <td>4</td>\n",
       "      <td>0</td>\n",
       "      <td>2019</td>\n",
       "    </tr>\n",
       "    <tr>\n",
       "      <th>1</th>\n",
       "      <td>What I'm Leaving For - ACM Presents: Our Country</td>\n",
       "      <td>What I'm Leaving For (ACM Presents: Our Country)</td>\n",
       "      <td>Lady A</td>\n",
       "      <td>2020-04-06</td>\n",
       "      <td>205562</td>\n",
       "      <td>44</td>\n",
       "      <td>0.4470</td>\n",
       "      <td>0.534</td>\n",
       "      <td>0.462</td>\n",
       "      <td>0.000000</td>\n",
       "      <td>0.1600</td>\n",
       "      <td>-7.151</td>\n",
       "      <td>0.0261</td>\n",
       "      <td>0.416</td>\n",
       "      <td>148.013</td>\n",
       "      <td>4</td>\n",
       "      <td>0</td>\n",
       "      <td>2020</td>\n",
       "    </tr>\n",
       "    <tr>\n",
       "      <th>2</th>\n",
       "      <td>I'll Be There</td>\n",
       "      <td>I'll Be There</td>\n",
       "      <td>Jess Glynne</td>\n",
       "      <td>2018-05-03</td>\n",
       "      <td>193923</td>\n",
       "      <td>71</td>\n",
       "      <td>0.0228</td>\n",
       "      <td>0.623</td>\n",
       "      <td>0.851</td>\n",
       "      <td>0.000000</td>\n",
       "      <td>0.1200</td>\n",
       "      <td>-3.111</td>\n",
       "      <td>0.0409</td>\n",
       "      <td>0.400</td>\n",
       "      <td>100.063</td>\n",
       "      <td>4</td>\n",
       "      <td>0</td>\n",
       "      <td>2018</td>\n",
       "    </tr>\n",
       "    <tr>\n",
       "      <th>3</th>\n",
       "      <td>Stolen Dance</td>\n",
       "      <td>Sadnecessary</td>\n",
       "      <td>Milky Chance</td>\n",
       "      <td>2014-06-20</td>\n",
       "      <td>313684</td>\n",
       "      <td>73</td>\n",
       "      <td>0.4270</td>\n",
       "      <td>0.885</td>\n",
       "      <td>0.581</td>\n",
       "      <td>0.000204</td>\n",
       "      <td>0.0759</td>\n",
       "      <td>-8.813</td>\n",
       "      <td>0.0378</td>\n",
       "      <td>0.728</td>\n",
       "      <td>114.016</td>\n",
       "      <td>4</td>\n",
       "      <td>0</td>\n",
       "      <td>2014</td>\n",
       "    </tr>\n",
       "    <tr>\n",
       "      <th>4</th>\n",
       "      <td>The Bones - with Hozier</td>\n",
       "      <td>The Bones (with Hozier)</td>\n",
       "      <td>Maren Morris</td>\n",
       "      <td>2019-10-04</td>\n",
       "      <td>197298</td>\n",
       "      <td>78</td>\n",
       "      <td>0.2860</td>\n",
       "      <td>0.561</td>\n",
       "      <td>0.597</td>\n",
       "      <td>0.000000</td>\n",
       "      <td>0.0979</td>\n",
       "      <td>-6.000</td>\n",
       "      <td>0.0405</td>\n",
       "      <td>0.355</td>\n",
       "      <td>76.826</td>\n",
       "      <td>4</td>\n",
       "      <td>0</td>\n",
       "      <td>2019</td>\n",
       "    </tr>\n",
       "  </tbody>\n",
       "</table>\n",
       "</div>"
      ],
      "text/plain": [
       "                                               name  \\\n",
       "0                                            Un Año   \n",
       "1  What I'm Leaving For - ACM Presents: Our Country   \n",
       "2                                     I'll Be There   \n",
       "3                                      Stolen Dance   \n",
       "4                           The Bones - with Hozier   \n",
       "\n",
       "                                              album           artist  \\\n",
       "0                                            Un Año  Sebastian Yatra   \n",
       "1  What I'm Leaving For (ACM Presents: Our Country)           Lady A   \n",
       "2                                     I'll Be There      Jess Glynne   \n",
       "3                                      Sadnecessary     Milky Chance   \n",
       "4                           The Bones (with Hozier)     Maren Morris   \n",
       "\n",
       "  release_date  length  popularity  danceability  acousticness  energy  \\\n",
       "0   2019-01-18  164440          74        0.1480         0.771   0.382   \n",
       "1   2020-04-06  205562          44        0.4470         0.534   0.462   \n",
       "2   2018-05-03  193923          71        0.0228         0.623   0.851   \n",
       "3   2014-06-20  313684          73        0.4270         0.885   0.581   \n",
       "4   2019-10-04  197298          78        0.2860         0.561   0.597   \n",
       "\n",
       "   instrumentalness  liveness  loudness  speechiness  valence    tempo  \\\n",
       "0          0.000000    0.1040    -6.808       0.0514    0.535   94.931   \n",
       "1          0.000000    0.1600    -7.151       0.0261    0.416  148.013   \n",
       "2          0.000000    0.1200    -3.111       0.0409    0.400  100.063   \n",
       "3          0.000204    0.0759    -8.813       0.0378    0.728  114.016   \n",
       "4          0.000000    0.0979    -6.000       0.0405    0.355   76.826   \n",
       "\n",
       "   time_signature  category  release_year  \n",
       "0               4         0          2019  \n",
       "1               4         0          2020  \n",
       "2               4         0          2018  \n",
       "3               4         0          2014  \n",
       "4               4         0          2019  "
      ]
     },
     "execution_count": 16,
     "metadata": {},
     "output_type": "execute_result"
    }
   ],
   "source": [
    "#feature engineering\n",
    "year = spotify['release_date'].dt.year\n",
    "spotify['release_year'] = year \n",
    "spotify.head()"
   ]
  },
  {
   "cell_type": "code",
   "execution_count": 17,
   "metadata": {},
   "outputs": [
    {
     "data": {
      "text/html": [
       "<div>\n",
       "<style scoped>\n",
       "    .dataframe tbody tr th:only-of-type {\n",
       "        vertical-align: middle;\n",
       "    }\n",
       "\n",
       "    .dataframe tbody tr th {\n",
       "        vertical-align: top;\n",
       "    }\n",
       "\n",
       "    .dataframe thead th {\n",
       "        text-align: right;\n",
       "    }\n",
       "</style>\n",
       "<table border=\"1\" class=\"dataframe\">\n",
       "  <thead>\n",
       "    <tr style=\"text-align: right;\">\n",
       "      <th></th>\n",
       "      <th>length</th>\n",
       "      <th>popularity</th>\n",
       "      <th>danceability</th>\n",
       "      <th>acousticness</th>\n",
       "      <th>energy</th>\n",
       "      <th>instrumentalness</th>\n",
       "      <th>liveness</th>\n",
       "      <th>loudness</th>\n",
       "      <th>speechiness</th>\n",
       "      <th>valence</th>\n",
       "      <th>tempo</th>\n",
       "      <th>time_signature</th>\n",
       "      <th>category</th>\n",
       "      <th>release_year</th>\n",
       "    </tr>\n",
       "  </thead>\n",
       "  <tbody>\n",
       "    <tr>\n",
       "      <th>0</th>\n",
       "      <td>164440</td>\n",
       "      <td>74</td>\n",
       "      <td>0.1480</td>\n",
       "      <td>0.771</td>\n",
       "      <td>0.382</td>\n",
       "      <td>0.000000</td>\n",
       "      <td>0.1040</td>\n",
       "      <td>-6.808</td>\n",
       "      <td>0.0514</td>\n",
       "      <td>0.535</td>\n",
       "      <td>94.931</td>\n",
       "      <td>4</td>\n",
       "      <td>0</td>\n",
       "      <td>2019</td>\n",
       "    </tr>\n",
       "    <tr>\n",
       "      <th>1</th>\n",
       "      <td>205562</td>\n",
       "      <td>44</td>\n",
       "      <td>0.4470</td>\n",
       "      <td>0.534</td>\n",
       "      <td>0.462</td>\n",
       "      <td>0.000000</td>\n",
       "      <td>0.1600</td>\n",
       "      <td>-7.151</td>\n",
       "      <td>0.0261</td>\n",
       "      <td>0.416</td>\n",
       "      <td>148.013</td>\n",
       "      <td>4</td>\n",
       "      <td>0</td>\n",
       "      <td>2020</td>\n",
       "    </tr>\n",
       "    <tr>\n",
       "      <th>2</th>\n",
       "      <td>193923</td>\n",
       "      <td>71</td>\n",
       "      <td>0.0228</td>\n",
       "      <td>0.623</td>\n",
       "      <td>0.851</td>\n",
       "      <td>0.000000</td>\n",
       "      <td>0.1200</td>\n",
       "      <td>-3.111</td>\n",
       "      <td>0.0409</td>\n",
       "      <td>0.400</td>\n",
       "      <td>100.063</td>\n",
       "      <td>4</td>\n",
       "      <td>0</td>\n",
       "      <td>2018</td>\n",
       "    </tr>\n",
       "    <tr>\n",
       "      <th>3</th>\n",
       "      <td>313684</td>\n",
       "      <td>73</td>\n",
       "      <td>0.4270</td>\n",
       "      <td>0.885</td>\n",
       "      <td>0.581</td>\n",
       "      <td>0.000204</td>\n",
       "      <td>0.0759</td>\n",
       "      <td>-8.813</td>\n",
       "      <td>0.0378</td>\n",
       "      <td>0.728</td>\n",
       "      <td>114.016</td>\n",
       "      <td>4</td>\n",
       "      <td>0</td>\n",
       "      <td>2014</td>\n",
       "    </tr>\n",
       "    <tr>\n",
       "      <th>4</th>\n",
       "      <td>197298</td>\n",
       "      <td>78</td>\n",
       "      <td>0.2860</td>\n",
       "      <td>0.561</td>\n",
       "      <td>0.597</td>\n",
       "      <td>0.000000</td>\n",
       "      <td>0.0979</td>\n",
       "      <td>-6.000</td>\n",
       "      <td>0.0405</td>\n",
       "      <td>0.355</td>\n",
       "      <td>76.826</td>\n",
       "      <td>4</td>\n",
       "      <td>0</td>\n",
       "      <td>2019</td>\n",
       "    </tr>\n",
       "  </tbody>\n",
       "</table>\n",
       "</div>"
      ],
      "text/plain": [
       "   length  popularity  danceability  acousticness  energy  instrumentalness  \\\n",
       "0  164440          74        0.1480         0.771   0.382          0.000000   \n",
       "1  205562          44        0.4470         0.534   0.462          0.000000   \n",
       "2  193923          71        0.0228         0.623   0.851          0.000000   \n",
       "3  313684          73        0.4270         0.885   0.581          0.000204   \n",
       "4  197298          78        0.2860         0.561   0.597          0.000000   \n",
       "\n",
       "   liveness  loudness  speechiness  valence    tempo  time_signature  \\\n",
       "0    0.1040    -6.808       0.0514    0.535   94.931               4   \n",
       "1    0.1600    -7.151       0.0261    0.416  148.013               4   \n",
       "2    0.1200    -3.111       0.0409    0.400  100.063               4   \n",
       "3    0.0759    -8.813       0.0378    0.728  114.016               4   \n",
       "4    0.0979    -6.000       0.0405    0.355   76.826               4   \n",
       "\n",
       "   category  release_year  \n",
       "0         0          2019  \n",
       "1         0          2020  \n",
       "2         0          2018  \n",
       "3         0          2014  \n",
       "4         0          2019  "
      ]
     },
     "execution_count": 17,
     "metadata": {},
     "output_type": "execute_result"
    }
   ],
   "source": [
    "info = spotify.drop([\"name\", \"album\", \"artist\", \"release_date\"], axis=1)\n",
    "info.head()"
   ]
  },
  {
   "cell_type": "code",
   "execution_count": 18,
   "metadata": {},
   "outputs": [],
   "source": [
    "info_label = info[['category']]\n",
    "info_feature = info.drop('category', axis=1)"
   ]
  },
  {
   "cell_type": "code",
   "execution_count": 19,
   "metadata": {},
   "outputs": [
    {
     "data": {
      "text/html": [
       "<div>\n",
       "<style scoped>\n",
       "    .dataframe tbody tr th:only-of-type {\n",
       "        vertical-align: middle;\n",
       "    }\n",
       "\n",
       "    .dataframe tbody tr th {\n",
       "        vertical-align: top;\n",
       "    }\n",
       "\n",
       "    .dataframe thead th {\n",
       "        text-align: right;\n",
       "    }\n",
       "</style>\n",
       "<table border=\"1\" class=\"dataframe\">\n",
       "  <thead>\n",
       "    <tr style=\"text-align: right;\">\n",
       "      <th></th>\n",
       "      <th>length</th>\n",
       "      <th>popularity</th>\n",
       "      <th>danceability</th>\n",
       "      <th>acousticness</th>\n",
       "      <th>energy</th>\n",
       "      <th>instrumentalness</th>\n",
       "      <th>liveness</th>\n",
       "      <th>loudness</th>\n",
       "      <th>speechiness</th>\n",
       "      <th>valence</th>\n",
       "      <th>tempo</th>\n",
       "      <th>time_signature</th>\n",
       "      <th>release_year</th>\n",
       "    </tr>\n",
       "  </thead>\n",
       "  <tbody>\n",
       "    <tr>\n",
       "      <th>0</th>\n",
       "      <td>164440</td>\n",
       "      <td>74</td>\n",
       "      <td>0.1480</td>\n",
       "      <td>0.771</td>\n",
       "      <td>0.382</td>\n",
       "      <td>0.000000</td>\n",
       "      <td>0.1040</td>\n",
       "      <td>-6.808</td>\n",
       "      <td>0.0514</td>\n",
       "      <td>0.535</td>\n",
       "      <td>94.931</td>\n",
       "      <td>4</td>\n",
       "      <td>2019</td>\n",
       "    </tr>\n",
       "    <tr>\n",
       "      <th>1</th>\n",
       "      <td>205562</td>\n",
       "      <td>44</td>\n",
       "      <td>0.4470</td>\n",
       "      <td>0.534</td>\n",
       "      <td>0.462</td>\n",
       "      <td>0.000000</td>\n",
       "      <td>0.1600</td>\n",
       "      <td>-7.151</td>\n",
       "      <td>0.0261</td>\n",
       "      <td>0.416</td>\n",
       "      <td>148.013</td>\n",
       "      <td>4</td>\n",
       "      <td>2020</td>\n",
       "    </tr>\n",
       "    <tr>\n",
       "      <th>2</th>\n",
       "      <td>193923</td>\n",
       "      <td>71</td>\n",
       "      <td>0.0228</td>\n",
       "      <td>0.623</td>\n",
       "      <td>0.851</td>\n",
       "      <td>0.000000</td>\n",
       "      <td>0.1200</td>\n",
       "      <td>-3.111</td>\n",
       "      <td>0.0409</td>\n",
       "      <td>0.400</td>\n",
       "      <td>100.063</td>\n",
       "      <td>4</td>\n",
       "      <td>2018</td>\n",
       "    </tr>\n",
       "    <tr>\n",
       "      <th>3</th>\n",
       "      <td>313684</td>\n",
       "      <td>73</td>\n",
       "      <td>0.4270</td>\n",
       "      <td>0.885</td>\n",
       "      <td>0.581</td>\n",
       "      <td>0.000204</td>\n",
       "      <td>0.0759</td>\n",
       "      <td>-8.813</td>\n",
       "      <td>0.0378</td>\n",
       "      <td>0.728</td>\n",
       "      <td>114.016</td>\n",
       "      <td>4</td>\n",
       "      <td>2014</td>\n",
       "    </tr>\n",
       "    <tr>\n",
       "      <th>4</th>\n",
       "      <td>197298</td>\n",
       "      <td>78</td>\n",
       "      <td>0.2860</td>\n",
       "      <td>0.561</td>\n",
       "      <td>0.597</td>\n",
       "      <td>0.000000</td>\n",
       "      <td>0.0979</td>\n",
       "      <td>-6.000</td>\n",
       "      <td>0.0405</td>\n",
       "      <td>0.355</td>\n",
       "      <td>76.826</td>\n",
       "      <td>4</td>\n",
       "      <td>2019</td>\n",
       "    </tr>\n",
       "  </tbody>\n",
       "</table>\n",
       "</div>"
      ],
      "text/plain": [
       "   length  popularity  danceability  acousticness  energy  instrumentalness  \\\n",
       "0  164440          74        0.1480         0.771   0.382          0.000000   \n",
       "1  205562          44        0.4470         0.534   0.462          0.000000   \n",
       "2  193923          71        0.0228         0.623   0.851          0.000000   \n",
       "3  313684          73        0.4270         0.885   0.581          0.000204   \n",
       "4  197298          78        0.2860         0.561   0.597          0.000000   \n",
       "\n",
       "   liveness  loudness  speechiness  valence    tempo  time_signature  \\\n",
       "0    0.1040    -6.808       0.0514    0.535   94.931               4   \n",
       "1    0.1600    -7.151       0.0261    0.416  148.013               4   \n",
       "2    0.1200    -3.111       0.0409    0.400  100.063               4   \n",
       "3    0.0759    -8.813       0.0378    0.728  114.016               4   \n",
       "4    0.0979    -6.000       0.0405    0.355   76.826               4   \n",
       "\n",
       "   release_year  \n",
       "0          2019  \n",
       "1          2020  \n",
       "2          2018  \n",
       "3          2014  \n",
       "4          2019  "
      ]
     },
     "execution_count": 19,
     "metadata": {},
     "output_type": "execute_result"
    }
   ],
   "source": [
    "info_feature.head()"
   ]
  },
  {
   "cell_type": "code",
   "execution_count": 20,
   "metadata": {},
   "outputs": [
    {
     "data": {
      "text/html": [
       "<div>\n",
       "<style scoped>\n",
       "    .dataframe tbody tr th:only-of-type {\n",
       "        vertical-align: middle;\n",
       "    }\n",
       "\n",
       "    .dataframe tbody tr th {\n",
       "        vertical-align: top;\n",
       "    }\n",
       "\n",
       "    .dataframe thead th {\n",
       "        text-align: right;\n",
       "    }\n",
       "</style>\n",
       "<table border=\"1\" class=\"dataframe\">\n",
       "  <thead>\n",
       "    <tr style=\"text-align: right;\">\n",
       "      <th></th>\n",
       "      <th>category</th>\n",
       "    </tr>\n",
       "  </thead>\n",
       "  <tbody>\n",
       "    <tr>\n",
       "      <th>0</th>\n",
       "      <td>0</td>\n",
       "    </tr>\n",
       "    <tr>\n",
       "      <th>1</th>\n",
       "      <td>0</td>\n",
       "    </tr>\n",
       "    <tr>\n",
       "      <th>2</th>\n",
       "      <td>0</td>\n",
       "    </tr>\n",
       "    <tr>\n",
       "      <th>3</th>\n",
       "      <td>0</td>\n",
       "    </tr>\n",
       "    <tr>\n",
       "      <th>4</th>\n",
       "      <td>0</td>\n",
       "    </tr>\n",
       "  </tbody>\n",
       "</table>\n",
       "</div>"
      ],
      "text/plain": [
       "   category\n",
       "0         0\n",
       "1         0\n",
       "2         0\n",
       "3         0\n",
       "4         0"
      ]
     },
     "execution_count": 20,
     "metadata": {},
     "output_type": "execute_result"
    }
   ],
   "source": [
    "info_label.head()"
   ]
  },
  {
   "cell_type": "code",
   "execution_count": 21,
   "metadata": {},
   "outputs": [],
   "source": [
    "from sklearn.preprocessing import StandardScaler\n",
    "scaler = StandardScaler()\n",
    "scaled_features = scaler.fit_transform(info_feature)"
   ]
  },
  {
   "cell_type": "code",
   "execution_count": 22,
   "metadata": {},
   "outputs": [
    {
     "data": {
      "text/html": [
       "<style  type=\"text/css\" >\n",
       "    #T_7fef1ade_adf3_11ea_836c_4a850c62b8c6row0_col0 {\n",
       "            background-color:  #023858;\n",
       "            color:  #f1f1f1;\n",
       "        }    #T_7fef1ade_adf3_11ea_836c_4a850c62b8c6row0_col1 {\n",
       "            background-color:  #d0d1e6;\n",
       "            color:  #000000;\n",
       "        }    #T_7fef1ade_adf3_11ea_836c_4a850c62b8c6row0_col2 {\n",
       "            background-color:  #d1d2e6;\n",
       "            color:  #000000;\n",
       "        }    #T_7fef1ade_adf3_11ea_836c_4a850c62b8c6row0_col3 {\n",
       "            background-color:  #d2d2e7;\n",
       "            color:  #000000;\n",
       "        }    #T_7fef1ade_adf3_11ea_836c_4a850c62b8c6row0_col4 {\n",
       "            background-color:  #a8bedc;\n",
       "            color:  #000000;\n",
       "        }    #T_7fef1ade_adf3_11ea_836c_4a850c62b8c6row0_col5 {\n",
       "            background-color:  #99b8d8;\n",
       "            color:  #000000;\n",
       "        }    #T_7fef1ade_adf3_11ea_836c_4a850c62b8c6row0_col6 {\n",
       "            background-color:  #f8f1f8;\n",
       "            color:  #000000;\n",
       "        }    #T_7fef1ade_adf3_11ea_836c_4a850c62b8c6row0_col7 {\n",
       "            background-color:  #b7c5df;\n",
       "            color:  #000000;\n",
       "        }    #T_7fef1ade_adf3_11ea_836c_4a850c62b8c6row0_col8 {\n",
       "            background-color:  #fff7fb;\n",
       "            color:  #000000;\n",
       "        }    #T_7fef1ade_adf3_11ea_836c_4a850c62b8c6row0_col9 {\n",
       "            background-color:  #fff7fb;\n",
       "            color:  #000000;\n",
       "        }    #T_7fef1ade_adf3_11ea_836c_4a850c62b8c6row0_col10 {\n",
       "            background-color:  #dedcec;\n",
       "            color:  #000000;\n",
       "        }    #T_7fef1ade_adf3_11ea_836c_4a850c62b8c6row0_col11 {\n",
       "            background-color:  #ede7f2;\n",
       "            color:  #000000;\n",
       "        }    #T_7fef1ade_adf3_11ea_836c_4a850c62b8c6row0_col12 {\n",
       "            background-color:  #e0deed;\n",
       "            color:  #000000;\n",
       "        }    #T_7fef1ade_adf3_11ea_836c_4a850c62b8c6row1_col0 {\n",
       "            background-color:  #cccfe5;\n",
       "            color:  #000000;\n",
       "        }    #T_7fef1ade_adf3_11ea_836c_4a850c62b8c6row1_col1 {\n",
       "            background-color:  #023858;\n",
       "            color:  #f1f1f1;\n",
       "        }    #T_7fef1ade_adf3_11ea_836c_4a850c62b8c6row1_col2 {\n",
       "            background-color:  #e6e2ef;\n",
       "            color:  #000000;\n",
       "        }    #T_7fef1ade_adf3_11ea_836c_4a850c62b8c6row1_col3 {\n",
       "            background-color:  #c2cbe2;\n",
       "            color:  #000000;\n",
       "        }    #T_7fef1ade_adf3_11ea_836c_4a850c62b8c6row1_col4 {\n",
       "            background-color:  #80aed2;\n",
       "            color:  #000000;\n",
       "        }    #T_7fef1ade_adf3_11ea_836c_4a850c62b8c6row1_col5 {\n",
       "            background-color:  #f9f2f8;\n",
       "            color:  #000000;\n",
       "        }    #T_7fef1ade_adf3_11ea_836c_4a850c62b8c6row1_col6 {\n",
       "            background-color:  #f0eaf4;\n",
       "            color:  #000000;\n",
       "        }    #T_7fef1ade_adf3_11ea_836c_4a850c62b8c6row1_col7 {\n",
       "            background-color:  #6da6cd;\n",
       "            color:  #000000;\n",
       "        }    #T_7fef1ade_adf3_11ea_836c_4a850c62b8c6row1_col8 {\n",
       "            background-color:  #ebe6f2;\n",
       "            color:  #000000;\n",
       "        }    #T_7fef1ade_adf3_11ea_836c_4a850c62b8c6row1_col9 {\n",
       "            background-color:  #ece7f2;\n",
       "            color:  #000000;\n",
       "        }    #T_7fef1ade_adf3_11ea_836c_4a850c62b8c6row1_col10 {\n",
       "            background-color:  #eee9f3;\n",
       "            color:  #000000;\n",
       "        }    #T_7fef1ade_adf3_11ea_836c_4a850c62b8c6row1_col11 {\n",
       "            background-color:  #d1d2e6;\n",
       "            color:  #000000;\n",
       "        }    #T_7fef1ade_adf3_11ea_836c_4a850c62b8c6row1_col12 {\n",
       "            background-color:  #9fbad9;\n",
       "            color:  #000000;\n",
       "        }    #T_7fef1ade_adf3_11ea_836c_4a850c62b8c6row2_col0 {\n",
       "            background-color:  #ebe6f2;\n",
       "            color:  #000000;\n",
       "        }    #T_7fef1ade_adf3_11ea_836c_4a850c62b8c6row2_col1 {\n",
       "            background-color:  #fff7fb;\n",
       "            color:  #000000;\n",
       "        }    #T_7fef1ade_adf3_11ea_836c_4a850c62b8c6row2_col2 {\n",
       "            background-color:  #023858;\n",
       "            color:  #f1f1f1;\n",
       "        }    #T_7fef1ade_adf3_11ea_836c_4a850c62b8c6row2_col3 {\n",
       "            background-color:  #f4eef6;\n",
       "            color:  #000000;\n",
       "        }    #T_7fef1ade_adf3_11ea_836c_4a850c62b8c6row2_col4 {\n",
       "            background-color:  #fff7fb;\n",
       "            color:  #000000;\n",
       "        }    #T_7fef1ade_adf3_11ea_836c_4a850c62b8c6row2_col5 {\n",
       "            background-color:  #d9d8ea;\n",
       "            color:  #000000;\n",
       "        }    #T_7fef1ade_adf3_11ea_836c_4a850c62b8c6row2_col6 {\n",
       "            background-color:  #fff7fb;\n",
       "            color:  #000000;\n",
       "        }    #T_7fef1ade_adf3_11ea_836c_4a850c62b8c6row2_col7 {\n",
       "            background-color:  #f7f0f7;\n",
       "            color:  #000000;\n",
       "        }    #T_7fef1ade_adf3_11ea_836c_4a850c62b8c6row2_col8 {\n",
       "            background-color:  #f7f0f7;\n",
       "            color:  #000000;\n",
       "        }    #T_7fef1ade_adf3_11ea_836c_4a850c62b8c6row2_col9 {\n",
       "            background-color:  #c0c9e2;\n",
       "            color:  #000000;\n",
       "        }    #T_7fef1ade_adf3_11ea_836c_4a850c62b8c6row2_col10 {\n",
       "            background-color:  #fff7fb;\n",
       "            color:  #000000;\n",
       "        }    #T_7fef1ade_adf3_11ea_836c_4a850c62b8c6row2_col11 {\n",
       "            background-color:  #fff7fb;\n",
       "            color:  #000000;\n",
       "        }    #T_7fef1ade_adf3_11ea_836c_4a850c62b8c6row2_col12 {\n",
       "            background-color:  #fdf5fa;\n",
       "            color:  #000000;\n",
       "        }    #T_7fef1ade_adf3_11ea_836c_4a850c62b8c6row3_col0 {\n",
       "            background-color:  #e9e5f1;\n",
       "            color:  #000000;\n",
       "        }    #T_7fef1ade_adf3_11ea_836c_4a850c62b8c6row3_col1 {\n",
       "            background-color:  #e1dfed;\n",
       "            color:  #000000;\n",
       "        }    #T_7fef1ade_adf3_11ea_836c_4a850c62b8c6row3_col2 {\n",
       "            background-color:  #f2ecf5;\n",
       "            color:  #000000;\n",
       "        }    #T_7fef1ade_adf3_11ea_836c_4a850c62b8c6row3_col3 {\n",
       "            background-color:  #023858;\n",
       "            color:  #f1f1f1;\n",
       "        }    #T_7fef1ade_adf3_11ea_836c_4a850c62b8c6row3_col4 {\n",
       "            background-color:  #fbf4f9;\n",
       "            color:  #000000;\n",
       "        }    #T_7fef1ade_adf3_11ea_836c_4a850c62b8c6row3_col5 {\n",
       "            background-color:  #d2d3e7;\n",
       "            color:  #000000;\n",
       "        }    #T_7fef1ade_adf3_11ea_836c_4a850c62b8c6row3_col6 {\n",
       "            background-color:  #eae6f1;\n",
       "            color:  #000000;\n",
       "        }    #T_7fef1ade_adf3_11ea_836c_4a850c62b8c6row3_col7 {\n",
       "            background-color:  #fff7fb;\n",
       "            color:  #000000;\n",
       "        }    #T_7fef1ade_adf3_11ea_836c_4a850c62b8c6row3_col8 {\n",
       "            background-color:  #ede7f2;\n",
       "            color:  #000000;\n",
       "        }    #T_7fef1ade_adf3_11ea_836c_4a850c62b8c6row3_col9 {\n",
       "            background-color:  #f7f0f7;\n",
       "            color:  #000000;\n",
       "        }    #T_7fef1ade_adf3_11ea_836c_4a850c62b8c6row3_col10 {\n",
       "            background-color:  #f7f0f7;\n",
       "            color:  #000000;\n",
       "        }    #T_7fef1ade_adf3_11ea_836c_4a850c62b8c6row3_col11 {\n",
       "            background-color:  #f8f1f8;\n",
       "            color:  #000000;\n",
       "        }    #T_7fef1ade_adf3_11ea_836c_4a850c62b8c6row3_col12 {\n",
       "            background-color:  #d6d6e9;\n",
       "            color:  #000000;\n",
       "        }    #T_7fef1ade_adf3_11ea_836c_4a850c62b8c6row4_col0 {\n",
       "            background-color:  #c9cee4;\n",
       "            color:  #000000;\n",
       "        }    #T_7fef1ade_adf3_11ea_836c_4a850c62b8c6row4_col1 {\n",
       "            background-color:  #a5bddb;\n",
       "            color:  #000000;\n",
       "        }    #T_7fef1ade_adf3_11ea_836c_4a850c62b8c6row4_col2 {\n",
       "            background-color:  #fff7fb;\n",
       "            color:  #000000;\n",
       "        }    #T_7fef1ade_adf3_11ea_836c_4a850c62b8c6row4_col3 {\n",
       "            background-color:  #fef6fa;\n",
       "            color:  #000000;\n",
       "        }    #T_7fef1ade_adf3_11ea_836c_4a850c62b8c6row4_col4 {\n",
       "            background-color:  #023858;\n",
       "            color:  #f1f1f1;\n",
       "        }    #T_7fef1ade_adf3_11ea_836c_4a850c62b8c6row4_col5 {\n",
       "            background-color:  #e7e3f0;\n",
       "            color:  #000000;\n",
       "        }    #T_7fef1ade_adf3_11ea_836c_4a850c62b8c6row4_col6 {\n",
       "            background-color:  #e3e0ee;\n",
       "            color:  #000000;\n",
       "        }    #T_7fef1ade_adf3_11ea_836c_4a850c62b8c6row4_col7 {\n",
       "            background-color:  #045b8f;\n",
       "            color:  #f1f1f1;\n",
       "        }    #T_7fef1ade_adf3_11ea_836c_4a850c62b8c6row4_col8 {\n",
       "            background-color:  #d8d7e9;\n",
       "            color:  #000000;\n",
       "        }    #T_7fef1ade_adf3_11ea_836c_4a850c62b8c6row4_col9 {\n",
       "            background-color:  #a7bddb;\n",
       "            color:  #000000;\n",
       "        }    #T_7fef1ade_adf3_11ea_836c_4a850c62b8c6row4_col10 {\n",
       "            background-color:  #dddbec;\n",
       "            color:  #000000;\n",
       "        }    #T_7fef1ade_adf3_11ea_836c_4a850c62b8c6row4_col11 {\n",
       "            background-color:  #b8c6e0;\n",
       "            color:  #000000;\n",
       "        }    #T_7fef1ade_adf3_11ea_836c_4a850c62b8c6row4_col12 {\n",
       "            background-color:  #adc1dd;\n",
       "            color:  #000000;\n",
       "        }    #T_7fef1ade_adf3_11ea_836c_4a850c62b8c6row5_col0 {\n",
       "            background-color:  #9cb9d9;\n",
       "            color:  #000000;\n",
       "        }    #T_7fef1ade_adf3_11ea_836c_4a850c62b8c6row5_col1 {\n",
       "            background-color:  #fef6fa;\n",
       "            color:  #000000;\n",
       "        }    #T_7fef1ade_adf3_11ea_836c_4a850c62b8c6row5_col2 {\n",
       "            background-color:  #bcc7e1;\n",
       "            color:  #000000;\n",
       "        }    #T_7fef1ade_adf3_11ea_836c_4a850c62b8c6row5_col3 {\n",
       "            background-color:  #b7c5df;\n",
       "            color:  #000000;\n",
       "        }    #T_7fef1ade_adf3_11ea_836c_4a850c62b8c6row5_col4 {\n",
       "            background-color:  #d0d1e6;\n",
       "            color:  #000000;\n",
       "        }    #T_7fef1ade_adf3_11ea_836c_4a850c62b8c6row5_col5 {\n",
       "            background-color:  #023858;\n",
       "            color:  #f1f1f1;\n",
       "        }    #T_7fef1ade_adf3_11ea_836c_4a850c62b8c6row5_col6 {\n",
       "            background-color:  #ebe6f2;\n",
       "            color:  #000000;\n",
       "        }    #T_7fef1ade_adf3_11ea_836c_4a850c62b8c6row5_col7 {\n",
       "            background-color:  #eee9f3;\n",
       "            color:  #000000;\n",
       "        }    #T_7fef1ade_adf3_11ea_836c_4a850c62b8c6row5_col8 {\n",
       "            background-color:  #f7f0f7;\n",
       "            color:  #000000;\n",
       "        }    #T_7fef1ade_adf3_11ea_836c_4a850c62b8c6row5_col9 {\n",
       "            background-color:  #d8d7e9;\n",
       "            color:  #000000;\n",
       "        }    #T_7fef1ade_adf3_11ea_836c_4a850c62b8c6row5_col10 {\n",
       "            background-color:  #ebe6f2;\n",
       "            color:  #000000;\n",
       "        }    #T_7fef1ade_adf3_11ea_836c_4a850c62b8c6row5_col11 {\n",
       "            background-color:  #ebe6f2;\n",
       "            color:  #000000;\n",
       "        }    #T_7fef1ade_adf3_11ea_836c_4a850c62b8c6row5_col12 {\n",
       "            background-color:  #e0dded;\n",
       "            color:  #000000;\n",
       "        }    #T_7fef1ade_adf3_11ea_836c_4a850c62b8c6row6_col0 {\n",
       "            background-color:  #e7e3f0;\n",
       "            color:  #000000;\n",
       "        }    #T_7fef1ade_adf3_11ea_836c_4a850c62b8c6row6_col1 {\n",
       "            background-color:  #dfddec;\n",
       "            color:  #000000;\n",
       "        }    #T_7fef1ade_adf3_11ea_836c_4a850c62b8c6row6_col2 {\n",
       "            background-color:  #d4d4e8;\n",
       "            color:  #000000;\n",
       "        }    #T_7fef1ade_adf3_11ea_836c_4a850c62b8c6row6_col3 {\n",
       "            background-color:  #b7c5df;\n",
       "            color:  #000000;\n",
       "        }    #T_7fef1ade_adf3_11ea_836c_4a850c62b8c6row6_col4 {\n",
       "            background-color:  #acc0dd;\n",
       "            color:  #000000;\n",
       "        }    #T_7fef1ade_adf3_11ea_836c_4a850c62b8c6row6_col5 {\n",
       "            background-color:  #d4d4e8;\n",
       "            color:  #000000;\n",
       "        }    #T_7fef1ade_adf3_11ea_836c_4a850c62b8c6row6_col6 {\n",
       "            background-color:  #023858;\n",
       "            color:  #f1f1f1;\n",
       "        }    #T_7fef1ade_adf3_11ea_836c_4a850c62b8c6row6_col7 {\n",
       "            background-color:  #d0d1e6;\n",
       "            color:  #000000;\n",
       "        }    #T_7fef1ade_adf3_11ea_836c_4a850c62b8c6row6_col8 {\n",
       "            background-color:  #c9cee4;\n",
       "            color:  #000000;\n",
       "        }    #T_7fef1ade_adf3_11ea_836c_4a850c62b8c6row6_col9 {\n",
       "            background-color:  #eee8f3;\n",
       "            color:  #000000;\n",
       "        }    #T_7fef1ade_adf3_11ea_836c_4a850c62b8c6row6_col10 {\n",
       "            background-color:  #eee9f3;\n",
       "            color:  #000000;\n",
       "        }    #T_7fef1ade_adf3_11ea_836c_4a850c62b8c6row6_col11 {\n",
       "            background-color:  #f3edf5;\n",
       "            color:  #000000;\n",
       "        }    #T_7fef1ade_adf3_11ea_836c_4a850c62b8c6row6_col12 {\n",
       "            background-color:  #d4d4e8;\n",
       "            color:  #000000;\n",
       "        }    #T_7fef1ade_adf3_11ea_836c_4a850c62b8c6row7_col0 {\n",
       "            background-color:  #d4d4e8;\n",
       "            color:  #000000;\n",
       "        }    #T_7fef1ade_adf3_11ea_836c_4a850c62b8c6row7_col1 {\n",
       "            background-color:  #8eb3d5;\n",
       "            color:  #000000;\n",
       "        }    #T_7fef1ade_adf3_11ea_836c_4a850c62b8c6row7_col2 {\n",
       "            background-color:  #f4eef6;\n",
       "            color:  #000000;\n",
       "        }    #T_7fef1ade_adf3_11ea_836c_4a850c62b8c6row7_col3 {\n",
       "            background-color:  #fff7fb;\n",
       "            color:  #000000;\n",
       "        }    #T_7fef1ade_adf3_11ea_836c_4a850c62b8c6row7_col4 {\n",
       "            background-color:  #045b8e;\n",
       "            color:  #f1f1f1;\n",
       "        }    #T_7fef1ade_adf3_11ea_836c_4a850c62b8c6row7_col5 {\n",
       "            background-color:  #fff7fb;\n",
       "            color:  #000000;\n",
       "        }    #T_7fef1ade_adf3_11ea_836c_4a850c62b8c6row7_col6 {\n",
       "            background-color:  #f8f1f8;\n",
       "            color:  #000000;\n",
       "        }    #T_7fef1ade_adf3_11ea_836c_4a850c62b8c6row7_col7 {\n",
       "            background-color:  #023858;\n",
       "            color:  #f1f1f1;\n",
       "        }    #T_7fef1ade_adf3_11ea_836c_4a850c62b8c6row7_col8 {\n",
       "            background-color:  #f6eff7;\n",
       "            color:  #000000;\n",
       "        }    #T_7fef1ade_adf3_11ea_836c_4a850c62b8c6row7_col9 {\n",
       "            background-color:  #b0c2de;\n",
       "            color:  #000000;\n",
       "        }    #T_7fef1ade_adf3_11ea_836c_4a850c62b8c6row7_col10 {\n",
       "            background-color:  #d9d8ea;\n",
       "            color:  #000000;\n",
       "        }    #T_7fef1ade_adf3_11ea_836c_4a850c62b8c6row7_col11 {\n",
       "            background-color:  #adc1dd;\n",
       "            color:  #000000;\n",
       "        }    #T_7fef1ade_adf3_11ea_836c_4a850c62b8c6row7_col12 {\n",
       "            background-color:  #79abd0;\n",
       "            color:  #000000;\n",
       "        }    #T_7fef1ade_adf3_11ea_836c_4a850c62b8c6row8_col0 {\n",
       "            background-color:  #efe9f3;\n",
       "            color:  #000000;\n",
       "        }    #T_7fef1ade_adf3_11ea_836c_4a850c62b8c6row8_col1 {\n",
       "            background-color:  #d9d8ea;\n",
       "            color:  #000000;\n",
       "        }    #T_7fef1ade_adf3_11ea_836c_4a850c62b8c6row8_col2 {\n",
       "            background-color:  #cacee5;\n",
       "            color:  #000000;\n",
       "        }    #T_7fef1ade_adf3_11ea_836c_4a850c62b8c6row8_col3 {\n",
       "            background-color:  #bbc7e0;\n",
       "            color:  #000000;\n",
       "        }    #T_7fef1ade_adf3_11ea_836c_4a850c62b8c6row8_col4 {\n",
       "            background-color:  #9ebad9;\n",
       "            color:  #000000;\n",
       "        }    #T_7fef1ade_adf3_11ea_836c_4a850c62b8c6row8_col5 {\n",
       "            background-color:  #e3e0ee;\n",
       "            color:  #000000;\n",
       "        }    #T_7fef1ade_adf3_11ea_836c_4a850c62b8c6row8_col6 {\n",
       "            background-color:  #cacee5;\n",
       "            color:  #000000;\n",
       "        }    #T_7fef1ade_adf3_11ea_836c_4a850c62b8c6row8_col7 {\n",
       "            background-color:  #cacee5;\n",
       "            color:  #000000;\n",
       "        }    #T_7fef1ade_adf3_11ea_836c_4a850c62b8c6row8_col8 {\n",
       "            background-color:  #023858;\n",
       "            color:  #f1f1f1;\n",
       "        }    #T_7fef1ade_adf3_11ea_836c_4a850c62b8c6row8_col9 {\n",
       "            background-color:  #e7e3f0;\n",
       "            color:  #000000;\n",
       "        }    #T_7fef1ade_adf3_11ea_836c_4a850c62b8c6row8_col10 {\n",
       "            background-color:  #e7e3f0;\n",
       "            color:  #000000;\n",
       "        }    #T_7fef1ade_adf3_11ea_836c_4a850c62b8c6row8_col11 {\n",
       "            background-color:  #f6eff7;\n",
       "            color:  #000000;\n",
       "        }    #T_7fef1ade_adf3_11ea_836c_4a850c62b8c6row8_col12 {\n",
       "            background-color:  #c4cbe3;\n",
       "            color:  #000000;\n",
       "        }    #T_7fef1ade_adf3_11ea_836c_4a850c62b8c6row9_col0 {\n",
       "            background-color:  #fff7fb;\n",
       "            color:  #000000;\n",
       "        }    #T_7fef1ade_adf3_11ea_836c_4a850c62b8c6row9_col1 {\n",
       "            background-color:  #efe9f3;\n",
       "            color:  #000000;\n",
       "        }    #T_7fef1ade_adf3_11ea_836c_4a850c62b8c6row9_col2 {\n",
       "            background-color:  #9fbad9;\n",
       "            color:  #000000;\n",
       "        }    #T_7fef1ade_adf3_11ea_836c_4a850c62b8c6row9_col3 {\n",
       "            background-color:  #e2dfee;\n",
       "            color:  #000000;\n",
       "        }    #T_7fef1ade_adf3_11ea_836c_4a850c62b8c6row9_col4 {\n",
       "            background-color:  #84b0d3;\n",
       "            color:  #000000;\n",
       "        }    #T_7fef1ade_adf3_11ea_836c_4a850c62b8c6row9_col5 {\n",
       "            background-color:  #d6d6e9;\n",
       "            color:  #000000;\n",
       "        }    #T_7fef1ade_adf3_11ea_836c_4a850c62b8c6row9_col6 {\n",
       "            background-color:  #fef6fb;\n",
       "            color:  #000000;\n",
       "        }    #T_7fef1ade_adf3_11ea_836c_4a850c62b8c6row9_col7 {\n",
       "            background-color:  #91b5d6;\n",
       "            color:  #000000;\n",
       "        }    #T_7fef1ade_adf3_11ea_836c_4a850c62b8c6row9_col8 {\n",
       "            background-color:  #f8f1f8;\n",
       "            color:  #000000;\n",
       "        }    #T_7fef1ade_adf3_11ea_836c_4a850c62b8c6row9_col9 {\n",
       "            background-color:  #023858;\n",
       "            color:  #f1f1f1;\n",
       "        }    #T_7fef1ade_adf3_11ea_836c_4a850c62b8c6row9_col10 {\n",
       "            background-color:  #eae6f1;\n",
       "            color:  #000000;\n",
       "        }    #T_7fef1ade_adf3_11ea_836c_4a850c62b8c6row9_col11 {\n",
       "            background-color:  #e5e1ef;\n",
       "            color:  #000000;\n",
       "        }    #T_7fef1ade_adf3_11ea_836c_4a850c62b8c6row9_col12 {\n",
       "            background-color:  #fff7fb;\n",
       "            color:  #000000;\n",
       "        }    #T_7fef1ade_adf3_11ea_836c_4a850c62b8c6row10_col0 {\n",
       "            background-color:  #d2d2e7;\n",
       "            color:  #000000;\n",
       "        }    #T_7fef1ade_adf3_11ea_836c_4a850c62b8c6row10_col1 {\n",
       "            background-color:  #e6e2ef;\n",
       "            color:  #000000;\n",
       "        }    #T_7fef1ade_adf3_11ea_836c_4a850c62b8c6row10_col2 {\n",
       "            background-color:  #dddbec;\n",
       "            color:  #000000;\n",
       "        }    #T_7fef1ade_adf3_11ea_836c_4a850c62b8c6row10_col3 {\n",
       "            background-color:  #d5d5e8;\n",
       "            color:  #000000;\n",
       "        }    #T_7fef1ade_adf3_11ea_836c_4a850c62b8c6row10_col4 {\n",
       "            background-color:  #afc1dd;\n",
       "            color:  #000000;\n",
       "        }    #T_7fef1ade_adf3_11ea_836c_4a850c62b8c6row10_col5 {\n",
       "            background-color:  #dbdaeb;\n",
       "            color:  #000000;\n",
       "        }    #T_7fef1ade_adf3_11ea_836c_4a850c62b8c6row10_col6 {\n",
       "            background-color:  #f5eef6;\n",
       "            color:  #000000;\n",
       "        }    #T_7fef1ade_adf3_11ea_836c_4a850c62b8c6row10_col7 {\n",
       "            background-color:  #acc0dd;\n",
       "            color:  #000000;\n",
       "        }    #T_7fef1ade_adf3_11ea_836c_4a850c62b8c6row10_col8 {\n",
       "            background-color:  #eee8f3;\n",
       "            color:  #000000;\n",
       "        }    #T_7fef1ade_adf3_11ea_836c_4a850c62b8c6row10_col9 {\n",
       "            background-color:  #dddbec;\n",
       "            color:  #000000;\n",
       "        }    #T_7fef1ade_adf3_11ea_836c_4a850c62b8c6row10_col10 {\n",
       "            background-color:  #023858;\n",
       "            color:  #f1f1f1;\n",
       "        }    #T_7fef1ade_adf3_11ea_836c_4a850c62b8c6row10_col11 {\n",
       "            background-color:  #fbf4f9;\n",
       "            color:  #000000;\n",
       "        }    #T_7fef1ade_adf3_11ea_836c_4a850c62b8c6row10_col12 {\n",
       "            background-color:  #c2cbe2;\n",
       "            color:  #000000;\n",
       "        }    #T_7fef1ade_adf3_11ea_836c_4a850c62b8c6row11_col0 {\n",
       "            background-color:  #dcdaeb;\n",
       "            color:  #000000;\n",
       "        }    #T_7fef1ade_adf3_11ea_836c_4a850c62b8c6row11_col1 {\n",
       "            background-color:  #c0c9e2;\n",
       "            color:  #000000;\n",
       "        }    #T_7fef1ade_adf3_11ea_836c_4a850c62b8c6row11_col2 {\n",
       "            background-color:  #d9d8ea;\n",
       "            color:  #000000;\n",
       "        }    #T_7fef1ade_adf3_11ea_836c_4a850c62b8c6row11_col3 {\n",
       "            background-color:  #d3d4e7;\n",
       "            color:  #000000;\n",
       "        }    #T_7fef1ade_adf3_11ea_836c_4a850c62b8c6row11_col4 {\n",
       "            background-color:  #81aed2;\n",
       "            color:  #000000;\n",
       "        }    #T_7fef1ade_adf3_11ea_836c_4a850c62b8c6row11_col5 {\n",
       "            background-color:  #d8d7e9;\n",
       "            color:  #000000;\n",
       "        }    #T_7fef1ade_adf3_11ea_836c_4a850c62b8c6row11_col6 {\n",
       "            background-color:  #f7f0f7;\n",
       "            color:  #000000;\n",
       "        }    #T_7fef1ade_adf3_11ea_836c_4a850c62b8c6row11_col7 {\n",
       "            background-color:  #7bacd1;\n",
       "            color:  #000000;\n",
       "        }    #T_7fef1ade_adf3_11ea_836c_4a850c62b8c6row11_col8 {\n",
       "            background-color:  #faf2f8;\n",
       "            color:  #000000;\n",
       "        }    #T_7fef1ade_adf3_11ea_836c_4a850c62b8c6row11_col9 {\n",
       "            background-color:  #d4d4e8;\n",
       "            color:  #000000;\n",
       "        }    #T_7fef1ade_adf3_11ea_836c_4a850c62b8c6row11_col10 {\n",
       "            background-color:  #f8f1f8;\n",
       "            color:  #000000;\n",
       "        }    #T_7fef1ade_adf3_11ea_836c_4a850c62b8c6row11_col11 {\n",
       "            background-color:  #023858;\n",
       "            color:  #f1f1f1;\n",
       "        }    #T_7fef1ade_adf3_11ea_836c_4a850c62b8c6row11_col12 {\n",
       "            background-color:  #cdd0e5;\n",
       "            color:  #000000;\n",
       "        }    #T_7fef1ade_adf3_11ea_836c_4a850c62b8c6row12_col0 {\n",
       "            background-color:  #dfddec;\n",
       "            color:  #000000;\n",
       "        }    #T_7fef1ade_adf3_11ea_836c_4a850c62b8c6row12_col1 {\n",
       "            background-color:  #a2bcda;\n",
       "            color:  #000000;\n",
       "        }    #T_7fef1ade_adf3_11ea_836c_4a850c62b8c6row12_col2 {\n",
       "            background-color:  #e4e1ef;\n",
       "            color:  #000000;\n",
       "        }    #T_7fef1ade_adf3_11ea_836c_4a850c62b8c6row12_col3 {\n",
       "            background-color:  #b7c5df;\n",
       "            color:  #000000;\n",
       "        }    #T_7fef1ade_adf3_11ea_836c_4a850c62b8c6row12_col4 {\n",
       "            background-color:  #89b1d4;\n",
       "            color:  #000000;\n",
       "        }    #T_7fef1ade_adf3_11ea_836c_4a850c62b8c6row12_col5 {\n",
       "            background-color:  #dcdaeb;\n",
       "            color:  #000000;\n",
       "        }    #T_7fef1ade_adf3_11ea_836c_4a850c62b8c6row12_col6 {\n",
       "            background-color:  #e7e3f0;\n",
       "            color:  #000000;\n",
       "        }    #T_7fef1ade_adf3_11ea_836c_4a850c62b8c6row12_col7 {\n",
       "            background-color:  #589ec8;\n",
       "            color:  #000000;\n",
       "        }    #T_7fef1ade_adf3_11ea_836c_4a850c62b8c6row12_col8 {\n",
       "            background-color:  #d9d8ea;\n",
       "            color:  #000000;\n",
       "        }    #T_7fef1ade_adf3_11ea_836c_4a850c62b8c6row12_col9 {\n",
       "            background-color:  #fef6fa;\n",
       "            color:  #000000;\n",
       "        }    #T_7fef1ade_adf3_11ea_836c_4a850c62b8c6row12_col10 {\n",
       "            background-color:  #d1d2e6;\n",
       "            color:  #000000;\n",
       "        }    #T_7fef1ade_adf3_11ea_836c_4a850c62b8c6row12_col11 {\n",
       "            background-color:  #dbdaeb;\n",
       "            color:  #000000;\n",
       "        }    #T_7fef1ade_adf3_11ea_836c_4a850c62b8c6row12_col12 {\n",
       "            background-color:  #023858;\n",
       "            color:  #f1f1f1;\n",
       "        }</style><table id=\"T_7fef1ade_adf3_11ea_836c_4a850c62b8c6\" ><thead>    <tr>        <th class=\"blank level0\" ></th>        <th class=\"col_heading level0 col0\" >length</th>        <th class=\"col_heading level0 col1\" >popularity</th>        <th class=\"col_heading level0 col2\" >danceability</th>        <th class=\"col_heading level0 col3\" >acousticness</th>        <th class=\"col_heading level0 col4\" >energy</th>        <th class=\"col_heading level0 col5\" >instrumentalness</th>        <th class=\"col_heading level0 col6\" >liveness</th>        <th class=\"col_heading level0 col7\" >loudness</th>        <th class=\"col_heading level0 col8\" >speechiness</th>        <th class=\"col_heading level0 col9\" >valence</th>        <th class=\"col_heading level0 col10\" >tempo</th>        <th class=\"col_heading level0 col11\" >time_signature</th>        <th class=\"col_heading level0 col12\" >release_year</th>    </tr></thead><tbody>\n",
       "                <tr>\n",
       "                        <th id=\"T_7fef1ade_adf3_11ea_836c_4a850c62b8c6level0_row0\" class=\"row_heading level0 row0\" >length</th>\n",
       "                        <td id=\"T_7fef1ade_adf3_11ea_836c_4a850c62b8c6row0_col0\" class=\"data row0 col0\" >1</td>\n",
       "                        <td id=\"T_7fef1ade_adf3_11ea_836c_4a850c62b8c6row0_col1\" class=\"data row0 col1\" >0.0887322</td>\n",
       "                        <td id=\"T_7fef1ade_adf3_11ea_836c_4a850c62b8c6row0_col2\" class=\"data row0 col2\" >-0.0779498</td>\n",
       "                        <td id=\"T_7fef1ade_adf3_11ea_836c_4a850c62b8c6row0_col3\" class=\"data row0 col3\" >-0.0710096</td>\n",
       "                        <td id=\"T_7fef1ade_adf3_11ea_836c_4a850c62b8c6row0_col4\" class=\"data row0 col4\" >0.0943565</td>\n",
       "                        <td id=\"T_7fef1ade_adf3_11ea_836c_4a850c62b8c6row0_col5\" class=\"data row0 col5\" >0.25584</td>\n",
       "                        <td id=\"T_7fef1ade_adf3_11ea_836c_4a850c62b8c6row0_col6\" class=\"data row0 col6\" >-0.0558172</td>\n",
       "                        <td id=\"T_7fef1ade_adf3_11ea_836c_4a850c62b8c6row0_col7\" class=\"data row0 col7\" >0.0480141</td>\n",
       "                        <td id=\"T_7fef1ade_adf3_11ea_836c_4a850c62b8c6row0_col8\" class=\"data row0 col8\" >-0.107624</td>\n",
       "                        <td id=\"T_7fef1ade_adf3_11ea_836c_4a850c62b8c6row0_col9\" class=\"data row0 col9\" >-0.240685</td>\n",
       "                        <td id=\"T_7fef1ade_adf3_11ea_836c_4a850c62b8c6row0_col10\" class=\"data row0 col10\" >0.0617171</td>\n",
       "                        <td id=\"T_7fef1ade_adf3_11ea_836c_4a850c62b8c6row0_col11\" class=\"data row0 col11\" >0.00528209</td>\n",
       "                        <td id=\"T_7fef1ade_adf3_11ea_836c_4a850c62b8c6row0_col12\" class=\"data row0 col12\" >-0.0123723</td>\n",
       "            </tr>\n",
       "            <tr>\n",
       "                        <th id=\"T_7fef1ade_adf3_11ea_836c_4a850c62b8c6level0_row1\" class=\"row_heading level0 row1\" >popularity</th>\n",
       "                        <td id=\"T_7fef1ade_adf3_11ea_836c_4a850c62b8c6row1_col0\" class=\"data row1 col0\" >0.0887322</td>\n",
       "                        <td id=\"T_7fef1ade_adf3_11ea_836c_4a850c62b8c6row1_col1\" class=\"data row1 col1\" >1</td>\n",
       "                        <td id=\"T_7fef1ade_adf3_11ea_836c_4a850c62b8c6row1_col2\" class=\"data row1 col2\" >-0.217264</td>\n",
       "                        <td id=\"T_7fef1ade_adf3_11ea_836c_4a850c62b8c6row1_col3\" class=\"data row1 col3\" >-0.00507891</td>\n",
       "                        <td id=\"T_7fef1ade_adf3_11ea_836c_4a850c62b8c6row1_col4\" class=\"data row1 col4\" >0.241476</td>\n",
       "                        <td id=\"T_7fef1ade_adf3_11ea_836c_4a850c62b8c6row1_col5\" class=\"data row1 col5\" >-0.205208</td>\n",
       "                        <td id=\"T_7fef1ade_adf3_11ea_836c_4a850c62b8c6row1_col6\" class=\"data row1 col6\" >0.00767549</td>\n",
       "                        <td id=\"T_7fef1ade_adf3_11ea_836c_4a850c62b8c6row1_col7\" class=\"data row1 col7\" >0.313096</td>\n",
       "                        <td id=\"T_7fef1ade_adf3_11ea_836c_4a850c62b8c6row1_col8\" class=\"data row1 col8\" >0.0394769</td>\n",
       "                        <td id=\"T_7fef1ade_adf3_11ea_836c_4a850c62b8c6row1_col9\" class=\"data row1 col9\" >-0.0849106</td>\n",
       "                        <td id=\"T_7fef1ade_adf3_11ea_836c_4a850c62b8c6row1_col10\" class=\"data row1 col10\" >-0.0271305</td>\n",
       "                        <td id=\"T_7fef1ade_adf3_11ea_836c_4a850c62b8c6row1_col11\" class=\"data row1 col11\" >0.144438</td>\n",
       "                        <td id=\"T_7fef1ade_adf3_11ea_836c_4a850c62b8c6row1_col12\" class=\"data row1 col12\" >0.253451</td>\n",
       "            </tr>\n",
       "            <tr>\n",
       "                        <th id=\"T_7fef1ade_adf3_11ea_836c_4a850c62b8c6level0_row2\" class=\"row_heading level0 row2\" >danceability</th>\n",
       "                        <td id=\"T_7fef1ade_adf3_11ea_836c_4a850c62b8c6row2_col0\" class=\"data row2 col0\" >-0.0779498</td>\n",
       "                        <td id=\"T_7fef1ade_adf3_11ea_836c_4a850c62b8c6row2_col1\" class=\"data row2 col1\" >-0.217264</td>\n",
       "                        <td id=\"T_7fef1ade_adf3_11ea_836c_4a850c62b8c6row2_col2\" class=\"data row2 col2\" >1</td>\n",
       "                        <td id=\"T_7fef1ade_adf3_11ea_836c_4a850c62b8c6row2_col3\" class=\"data row2 col3\" >-0.313381</td>\n",
       "                        <td id=\"T_7fef1ade_adf3_11ea_836c_4a850c62b8c6row2_col4\" class=\"data row2 col4\" >-0.436527</td>\n",
       "                        <td id=\"T_7fef1ade_adf3_11ea_836c_4a850c62b8c6row2_col5\" class=\"data row2 col5\" >0.0110357</td>\n",
       "                        <td id=\"T_7fef1ade_adf3_11ea_836c_4a850c62b8c6row2_col6\" class=\"data row2 col6\" >-0.104831</td>\n",
       "                        <td id=\"T_7fef1ade_adf3_11ea_836c_4a850c62b8c6row2_col7\" class=\"data row2 col7\" >-0.332993</td>\n",
       "                        <td id=\"T_7fef1ade_adf3_11ea_836c_4a850c62b8c6row2_col8\" class=\"data row2 col8\" >-0.0493424</td>\n",
       "                        <td id=\"T_7fef1ade_adf3_11ea_836c_4a850c62b8c6row2_col9\" class=\"data row2 col9\" >0.12982</td>\n",
       "                        <td id=\"T_7fef1ade_adf3_11ea_836c_4a850c62b8c6row2_col10\" class=\"data row2 col10\" >-0.156106</td>\n",
       "                        <td id=\"T_7fef1ade_adf3_11ea_836c_4a850c62b8c6row2_col11\" class=\"data row2 col11\" >-0.135088</td>\n",
       "                        <td id=\"T_7fef1ade_adf3_11ea_836c_4a850c62b8c6row2_col12\" class=\"data row2 col12\" >-0.204804</td>\n",
       "            </tr>\n",
       "            <tr>\n",
       "                        <th id=\"T_7fef1ade_adf3_11ea_836c_4a850c62b8c6level0_row3\" class=\"row_heading level0 row3\" >acousticness</th>\n",
       "                        <td id=\"T_7fef1ade_adf3_11ea_836c_4a850c62b8c6row3_col0\" class=\"data row3 col0\" >-0.0710096</td>\n",
       "                        <td id=\"T_7fef1ade_adf3_11ea_836c_4a850c62b8c6row3_col1\" class=\"data row3 col1\" >-0.00507891</td>\n",
       "                        <td id=\"T_7fef1ade_adf3_11ea_836c_4a850c62b8c6row3_col2\" class=\"data row3 col2\" >-0.313381</td>\n",
       "                        <td id=\"T_7fef1ade_adf3_11ea_836c_4a850c62b8c6row3_col3\" class=\"data row3 col3\" >1</td>\n",
       "                        <td id=\"T_7fef1ade_adf3_11ea_836c_4a850c62b8c6row3_col4\" class=\"data row3 col4\" >-0.402082</td>\n",
       "                        <td id=\"T_7fef1ade_adf3_11ea_836c_4a850c62b8c6row3_col5\" class=\"data row3 col5\" >0.0455993</td>\n",
       "                        <td id=\"T_7fef1ade_adf3_11ea_836c_4a850c62b8c6row3_col6\" class=\"data row3 col6\" >0.0439407</td>\n",
       "                        <td id=\"T_7fef1ade_adf3_11ea_836c_4a850c62b8c6row3_col7\" class=\"data row3 col7\" >-0.415771</td>\n",
       "                        <td id=\"T_7fef1ade_adf3_11ea_836c_4a850c62b8c6row3_col8\" class=\"data row3 col8\" >0.0294208</td>\n",
       "                        <td id=\"T_7fef1ade_adf3_11ea_836c_4a850c62b8c6row3_col9\" class=\"data row3 col9\" >-0.173854</td>\n",
       "                        <td id=\"T_7fef1ade_adf3_11ea_836c_4a850c62b8c6row3_col10\" class=\"data row3 col10\" >-0.0903001</td>\n",
       "                        <td id=\"T_7fef1ade_adf3_11ea_836c_4a850c62b8c6row3_col11\" class=\"data row3 col11\" >-0.083449</td>\n",
       "                        <td id=\"T_7fef1ade_adf3_11ea_836c_4a850c62b8c6row3_col12\" class=\"data row3 col12\" >0.048656</td>\n",
       "            </tr>\n",
       "            <tr>\n",
       "                        <th id=\"T_7fef1ade_adf3_11ea_836c_4a850c62b8c6level0_row4\" class=\"row_heading level0 row4\" >energy</th>\n",
       "                        <td id=\"T_7fef1ade_adf3_11ea_836c_4a850c62b8c6row4_col0\" class=\"data row4 col0\" >0.0943565</td>\n",
       "                        <td id=\"T_7fef1ade_adf3_11ea_836c_4a850c62b8c6row4_col1\" class=\"data row4 col1\" >0.241476</td>\n",
       "                        <td id=\"T_7fef1ade_adf3_11ea_836c_4a850c62b8c6row4_col2\" class=\"data row4 col2\" >-0.436527</td>\n",
       "                        <td id=\"T_7fef1ade_adf3_11ea_836c_4a850c62b8c6row4_col3\" class=\"data row4 col3\" >-0.402082</td>\n",
       "                        <td id=\"T_7fef1ade_adf3_11ea_836c_4a850c62b8c6row4_col4\" class=\"data row4 col4\" >1</td>\n",
       "                        <td id=\"T_7fef1ade_adf3_11ea_836c_4a850c62b8c6row4_col5\" class=\"data row4 col5\" >-0.0725021</td>\n",
       "                        <td id=\"T_7fef1ade_adf3_11ea_836c_4a850c62b8c6row4_col6\" class=\"data row4 col6\" >0.079292</td>\n",
       "                        <td id=\"T_7fef1ade_adf3_11ea_836c_4a850c62b8c6row4_col7\" class=\"data row4 col7\" >0.811894</td>\n",
       "                        <td id=\"T_7fef1ade_adf3_11ea_836c_4a850c62b8c6row4_col8\" class=\"data row4 col8\" >0.132714</td>\n",
       "                        <td id=\"T_7fef1ade_adf3_11ea_836c_4a850c62b8c6row4_col9\" class=\"data row4 col9\" >0.224207</td>\n",
       "                        <td id=\"T_7fef1ade_adf3_11ea_836c_4a850c62b8c6row4_col10\" class=\"data row4 col10\" >0.0677236</td>\n",
       "                        <td id=\"T_7fef1ade_adf3_11ea_836c_4a850c62b8c6row4_col11\" class=\"data row4 col11\" >0.232644</td>\n",
       "                        <td id=\"T_7fef1ade_adf3_11ea_836c_4a850c62b8c6row4_col12\" class=\"data row4 col12\" >0.204299</td>\n",
       "            </tr>\n",
       "            <tr>\n",
       "                        <th id=\"T_7fef1ade_adf3_11ea_836c_4a850c62b8c6level0_row5\" class=\"row_heading level0 row5\" >instrumentalness</th>\n",
       "                        <td id=\"T_7fef1ade_adf3_11ea_836c_4a850c62b8c6row5_col0\" class=\"data row5 col0\" >0.25584</td>\n",
       "                        <td id=\"T_7fef1ade_adf3_11ea_836c_4a850c62b8c6row5_col1\" class=\"data row5 col1\" >-0.205208</td>\n",
       "                        <td id=\"T_7fef1ade_adf3_11ea_836c_4a850c62b8c6row5_col2\" class=\"data row5 col2\" >0.0110357</td>\n",
       "                        <td id=\"T_7fef1ade_adf3_11ea_836c_4a850c62b8c6row5_col3\" class=\"data row5 col3\" >0.0455993</td>\n",
       "                        <td id=\"T_7fef1ade_adf3_11ea_836c_4a850c62b8c6row5_col4\" class=\"data row5 col4\" >-0.0725021</td>\n",
       "                        <td id=\"T_7fef1ade_adf3_11ea_836c_4a850c62b8c6row5_col5\" class=\"data row5 col5\" >1</td>\n",
       "                        <td id=\"T_7fef1ade_adf3_11ea_836c_4a850c62b8c6row5_col6\" class=\"data row5 col6\" >0.0382638</td>\n",
       "                        <td id=\"T_7fef1ade_adf3_11ea_836c_4a850c62b8c6row5_col7\" class=\"data row5 col7\" >-0.256069</td>\n",
       "                        <td id=\"T_7fef1ade_adf3_11ea_836c_4a850c62b8c6row5_col8\" class=\"data row5 col8\" >-0.04974</td>\n",
       "                        <td id=\"T_7fef1ade_adf3_11ea_836c_4a850c62b8c6row5_col9\" class=\"data row5 col9\" >0.0273218</td>\n",
       "                        <td id=\"T_7fef1ade_adf3_11ea_836c_4a850c62b8c6row5_col10\" class=\"data row5 col10\" >-0.00437148</td>\n",
       "                        <td id=\"T_7fef1ade_adf3_11ea_836c_4a850c62b8c6row5_col11\" class=\"data row5 col11\" >0.0148679</td>\n",
       "                        <td id=\"T_7fef1ade_adf3_11ea_836c_4a850c62b8c6row5_col12\" class=\"data row5 col12\" >-0.00590299</td>\n",
       "            </tr>\n",
       "            <tr>\n",
       "                        <th id=\"T_7fef1ade_adf3_11ea_836c_4a850c62b8c6level0_row6\" class=\"row_heading level0 row6\" >liveness</th>\n",
       "                        <td id=\"T_7fef1ade_adf3_11ea_836c_4a850c62b8c6row6_col0\" class=\"data row6 col0\" >-0.0558172</td>\n",
       "                        <td id=\"T_7fef1ade_adf3_11ea_836c_4a850c62b8c6row6_col1\" class=\"data row6 col1\" >0.00767549</td>\n",
       "                        <td id=\"T_7fef1ade_adf3_11ea_836c_4a850c62b8c6row6_col2\" class=\"data row6 col2\" >-0.104831</td>\n",
       "                        <td id=\"T_7fef1ade_adf3_11ea_836c_4a850c62b8c6row6_col3\" class=\"data row6 col3\" >0.0439407</td>\n",
       "                        <td id=\"T_7fef1ade_adf3_11ea_836c_4a850c62b8c6row6_col4\" class=\"data row6 col4\" >0.079292</td>\n",
       "                        <td id=\"T_7fef1ade_adf3_11ea_836c_4a850c62b8c6row6_col5\" class=\"data row6 col5\" >0.0382638</td>\n",
       "                        <td id=\"T_7fef1ade_adf3_11ea_836c_4a850c62b8c6row6_col6\" class=\"data row6 col6\" >1</td>\n",
       "                        <td id=\"T_7fef1ade_adf3_11ea_836c_4a850c62b8c6row6_col7\" class=\"data row6 col7\" >-0.0572118</td>\n",
       "                        <td id=\"T_7fef1ade_adf3_11ea_836c_4a850c62b8c6row6_col8\" class=\"data row6 col8\" >0.19207</td>\n",
       "                        <td id=\"T_7fef1ade_adf3_11ea_836c_4a850c62b8c6row6_col9\" class=\"data row6 col9\" >-0.0995394</td>\n",
       "                        <td id=\"T_7fef1ade_adf3_11ea_836c_4a850c62b8c6row6_col10\" class=\"data row6 col10\" >-0.0284841</td>\n",
       "                        <td id=\"T_7fef1ade_adf3_11ea_836c_4a850c62b8c6row6_col11\" class=\"data row6 col11\" >-0.0429697</td>\n",
       "                        <td id=\"T_7fef1ade_adf3_11ea_836c_4a850c62b8c6row6_col12\" class=\"data row6 col12\" >0.0589934</td>\n",
       "            </tr>\n",
       "            <tr>\n",
       "                        <th id=\"T_7fef1ade_adf3_11ea_836c_4a850c62b8c6level0_row7\" class=\"row_heading level0 row7\" >loudness</th>\n",
       "                        <td id=\"T_7fef1ade_adf3_11ea_836c_4a850c62b8c6row7_col0\" class=\"data row7 col0\" >0.0480141</td>\n",
       "                        <td id=\"T_7fef1ade_adf3_11ea_836c_4a850c62b8c6row7_col1\" class=\"data row7 col1\" >0.313096</td>\n",
       "                        <td id=\"T_7fef1ade_adf3_11ea_836c_4a850c62b8c6row7_col2\" class=\"data row7 col2\" >-0.332993</td>\n",
       "                        <td id=\"T_7fef1ade_adf3_11ea_836c_4a850c62b8c6row7_col3\" class=\"data row7 col3\" >-0.415771</td>\n",
       "                        <td id=\"T_7fef1ade_adf3_11ea_836c_4a850c62b8c6row7_col4\" class=\"data row7 col4\" >0.811894</td>\n",
       "                        <td id=\"T_7fef1ade_adf3_11ea_836c_4a850c62b8c6row7_col5\" class=\"data row7 col5\" >-0.256069</td>\n",
       "                        <td id=\"T_7fef1ade_adf3_11ea_836c_4a850c62b8c6row7_col6\" class=\"data row7 col6\" >-0.0572118</td>\n",
       "                        <td id=\"T_7fef1ade_adf3_11ea_836c_4a850c62b8c6row7_col7\" class=\"data row7 col7\" >1</td>\n",
       "                        <td id=\"T_7fef1ade_adf3_11ea_836c_4a850c62b8c6row7_col8\" class=\"data row7 col8\" >-0.0387437</td>\n",
       "                        <td id=\"T_7fef1ade_adf3_11ea_836c_4a850c62b8c6row7_col9\" class=\"data row7 col9\" >0.188554</td>\n",
       "                        <td id=\"T_7fef1ade_adf3_11ea_836c_4a850c62b8c6row7_col10\" class=\"data row7 col10\" >0.0884765</td>\n",
       "                        <td id=\"T_7fef1ade_adf3_11ea_836c_4a850c62b8c6row7_col11\" class=\"data row7 col11\" >0.267874</td>\n",
       "                        <td id=\"T_7fef1ade_adf3_11ea_836c_4a850c62b8c6row7_col12\" class=\"data row7 col12\" >0.370656</td>\n",
       "            </tr>\n",
       "            <tr>\n",
       "                        <th id=\"T_7fef1ade_adf3_11ea_836c_4a850c62b8c6level0_row8\" class=\"row_heading level0 row8\" >speechiness</th>\n",
       "                        <td id=\"T_7fef1ade_adf3_11ea_836c_4a850c62b8c6row8_col0\" class=\"data row8 col0\" >-0.107624</td>\n",
       "                        <td id=\"T_7fef1ade_adf3_11ea_836c_4a850c62b8c6row8_col1\" class=\"data row8 col1\" >0.0394769</td>\n",
       "                        <td id=\"T_7fef1ade_adf3_11ea_836c_4a850c62b8c6row8_col2\" class=\"data row8 col2\" >-0.0493424</td>\n",
       "                        <td id=\"T_7fef1ade_adf3_11ea_836c_4a850c62b8c6row8_col3\" class=\"data row8 col3\" >0.0294208</td>\n",
       "                        <td id=\"T_7fef1ade_adf3_11ea_836c_4a850c62b8c6row8_col4\" class=\"data row8 col4\" >0.132714</td>\n",
       "                        <td id=\"T_7fef1ade_adf3_11ea_836c_4a850c62b8c6row8_col5\" class=\"data row8 col5\" >-0.04974</td>\n",
       "                        <td id=\"T_7fef1ade_adf3_11ea_836c_4a850c62b8c6row8_col6\" class=\"data row8 col6\" >0.19207</td>\n",
       "                        <td id=\"T_7fef1ade_adf3_11ea_836c_4a850c62b8c6row8_col7\" class=\"data row8 col7\" >-0.0387437</td>\n",
       "                        <td id=\"T_7fef1ade_adf3_11ea_836c_4a850c62b8c6row8_col8\" class=\"data row8 col8\" >1</td>\n",
       "                        <td id=\"T_7fef1ade_adf3_11ea_836c_4a850c62b8c6row8_col9\" class=\"data row8 col9\" >-0.0528328</td>\n",
       "                        <td id=\"T_7fef1ade_adf3_11ea_836c_4a850c62b8c6row8_col10\" class=\"data row8 col10\" >0.0181465</td>\n",
       "                        <td id=\"T_7fef1ade_adf3_11ea_836c_4a850c62b8c6row8_col11\" class=\"data row8 col11\" >-0.0669233</td>\n",
       "                        <td id=\"T_7fef1ade_adf3_11ea_836c_4a850c62b8c6row8_col12\" class=\"data row8 col12\" >0.121799</td>\n",
       "            </tr>\n",
       "            <tr>\n",
       "                        <th id=\"T_7fef1ade_adf3_11ea_836c_4a850c62b8c6level0_row9\" class=\"row_heading level0 row9\" >valence</th>\n",
       "                        <td id=\"T_7fef1ade_adf3_11ea_836c_4a850c62b8c6row9_col0\" class=\"data row9 col0\" >-0.240685</td>\n",
       "                        <td id=\"T_7fef1ade_adf3_11ea_836c_4a850c62b8c6row9_col1\" class=\"data row9 col1\" >-0.0849106</td>\n",
       "                        <td id=\"T_7fef1ade_adf3_11ea_836c_4a850c62b8c6row9_col2\" class=\"data row9 col2\" >0.12982</td>\n",
       "                        <td id=\"T_7fef1ade_adf3_11ea_836c_4a850c62b8c6row9_col3\" class=\"data row9 col3\" >-0.173854</td>\n",
       "                        <td id=\"T_7fef1ade_adf3_11ea_836c_4a850c62b8c6row9_col4\" class=\"data row9 col4\" >0.224207</td>\n",
       "                        <td id=\"T_7fef1ade_adf3_11ea_836c_4a850c62b8c6row9_col5\" class=\"data row9 col5\" >0.0273218</td>\n",
       "                        <td id=\"T_7fef1ade_adf3_11ea_836c_4a850c62b8c6row9_col6\" class=\"data row9 col6\" >-0.0995394</td>\n",
       "                        <td id=\"T_7fef1ade_adf3_11ea_836c_4a850c62b8c6row9_col7\" class=\"data row9 col7\" >0.188554</td>\n",
       "                        <td id=\"T_7fef1ade_adf3_11ea_836c_4a850c62b8c6row9_col8\" class=\"data row9 col8\" >-0.0528328</td>\n",
       "                        <td id=\"T_7fef1ade_adf3_11ea_836c_4a850c62b8c6row9_col9\" class=\"data row9 col9\" >1</td>\n",
       "                        <td id=\"T_7fef1ade_adf3_11ea_836c_4a850c62b8c6row9_col10\" class=\"data row9 col10\" >0.000923057</td>\n",
       "                        <td id=\"T_7fef1ade_adf3_11ea_836c_4a850c62b8c6row9_col11\" class=\"data row9 col11\" >0.0459794</td>\n",
       "                        <td id=\"T_7fef1ade_adf3_11ea_836c_4a850c62b8c6row9_col12\" class=\"data row9 col12\" >-0.228531</td>\n",
       "            </tr>\n",
       "            <tr>\n",
       "                        <th id=\"T_7fef1ade_adf3_11ea_836c_4a850c62b8c6level0_row10\" class=\"row_heading level0 row10\" >tempo</th>\n",
       "                        <td id=\"T_7fef1ade_adf3_11ea_836c_4a850c62b8c6row10_col0\" class=\"data row10 col0\" >0.0617171</td>\n",
       "                        <td id=\"T_7fef1ade_adf3_11ea_836c_4a850c62b8c6row10_col1\" class=\"data row10 col1\" >-0.0271305</td>\n",
       "                        <td id=\"T_7fef1ade_adf3_11ea_836c_4a850c62b8c6row10_col2\" class=\"data row10 col2\" >-0.156106</td>\n",
       "                        <td id=\"T_7fef1ade_adf3_11ea_836c_4a850c62b8c6row10_col3\" class=\"data row10 col3\" >-0.0903001</td>\n",
       "                        <td id=\"T_7fef1ade_adf3_11ea_836c_4a850c62b8c6row10_col4\" class=\"data row10 col4\" >0.0677236</td>\n",
       "                        <td id=\"T_7fef1ade_adf3_11ea_836c_4a850c62b8c6row10_col5\" class=\"data row10 col5\" >-0.00437148</td>\n",
       "                        <td id=\"T_7fef1ade_adf3_11ea_836c_4a850c62b8c6row10_col6\" class=\"data row10 col6\" >-0.0284841</td>\n",
       "                        <td id=\"T_7fef1ade_adf3_11ea_836c_4a850c62b8c6row10_col7\" class=\"data row10 col7\" >0.0884765</td>\n",
       "                        <td id=\"T_7fef1ade_adf3_11ea_836c_4a850c62b8c6row10_col8\" class=\"data row10 col8\" >0.0181465</td>\n",
       "                        <td id=\"T_7fef1ade_adf3_11ea_836c_4a850c62b8c6row10_col9\" class=\"data row10 col9\" >0.000923057</td>\n",
       "                        <td id=\"T_7fef1ade_adf3_11ea_836c_4a850c62b8c6row10_col10\" class=\"data row10 col10\" >1</td>\n",
       "                        <td id=\"T_7fef1ade_adf3_11ea_836c_4a850c62b8c6row10_col11\" class=\"data row10 col11\" >-0.105943</td>\n",
       "                        <td id=\"T_7fef1ade_adf3_11ea_836c_4a850c62b8c6row10_col12\" class=\"data row10 col12\" >0.130354</td>\n",
       "            </tr>\n",
       "            <tr>\n",
       "                        <th id=\"T_7fef1ade_adf3_11ea_836c_4a850c62b8c6level0_row11\" class=\"row_heading level0 row11\" >time_signature</th>\n",
       "                        <td id=\"T_7fef1ade_adf3_11ea_836c_4a850c62b8c6row11_col0\" class=\"data row11 col0\" >0.00528209</td>\n",
       "                        <td id=\"T_7fef1ade_adf3_11ea_836c_4a850c62b8c6row11_col1\" class=\"data row11 col1\" >0.144438</td>\n",
       "                        <td id=\"T_7fef1ade_adf3_11ea_836c_4a850c62b8c6row11_col2\" class=\"data row11 col2\" >-0.135088</td>\n",
       "                        <td id=\"T_7fef1ade_adf3_11ea_836c_4a850c62b8c6row11_col3\" class=\"data row11 col3\" >-0.083449</td>\n",
       "                        <td id=\"T_7fef1ade_adf3_11ea_836c_4a850c62b8c6row11_col4\" class=\"data row11 col4\" >0.232644</td>\n",
       "                        <td id=\"T_7fef1ade_adf3_11ea_836c_4a850c62b8c6row11_col5\" class=\"data row11 col5\" >0.0148679</td>\n",
       "                        <td id=\"T_7fef1ade_adf3_11ea_836c_4a850c62b8c6row11_col6\" class=\"data row11 col6\" >-0.0429697</td>\n",
       "                        <td id=\"T_7fef1ade_adf3_11ea_836c_4a850c62b8c6row11_col7\" class=\"data row11 col7\" >0.267874</td>\n",
       "                        <td id=\"T_7fef1ade_adf3_11ea_836c_4a850c62b8c6row11_col8\" class=\"data row11 col8\" >-0.0669233</td>\n",
       "                        <td id=\"T_7fef1ade_adf3_11ea_836c_4a850c62b8c6row11_col9\" class=\"data row11 col9\" >0.0459794</td>\n",
       "                        <td id=\"T_7fef1ade_adf3_11ea_836c_4a850c62b8c6row11_col10\" class=\"data row11 col10\" >-0.105943</td>\n",
       "                        <td id=\"T_7fef1ade_adf3_11ea_836c_4a850c62b8c6row11_col11\" class=\"data row11 col11\" >1</td>\n",
       "                        <td id=\"T_7fef1ade_adf3_11ea_836c_4a850c62b8c6row11_col12\" class=\"data row11 col12\" >0.0921325</td>\n",
       "            </tr>\n",
       "            <tr>\n",
       "                        <th id=\"T_7fef1ade_adf3_11ea_836c_4a850c62b8c6level0_row12\" class=\"row_heading level0 row12\" >release_year</th>\n",
       "                        <td id=\"T_7fef1ade_adf3_11ea_836c_4a850c62b8c6row12_col0\" class=\"data row12 col0\" >-0.0123723</td>\n",
       "                        <td id=\"T_7fef1ade_adf3_11ea_836c_4a850c62b8c6row12_col1\" class=\"data row12 col1\" >0.253451</td>\n",
       "                        <td id=\"T_7fef1ade_adf3_11ea_836c_4a850c62b8c6row12_col2\" class=\"data row12 col2\" >-0.204804</td>\n",
       "                        <td id=\"T_7fef1ade_adf3_11ea_836c_4a850c62b8c6row12_col3\" class=\"data row12 col3\" >0.048656</td>\n",
       "                        <td id=\"T_7fef1ade_adf3_11ea_836c_4a850c62b8c6row12_col4\" class=\"data row12 col4\" >0.204299</td>\n",
       "                        <td id=\"T_7fef1ade_adf3_11ea_836c_4a850c62b8c6row12_col5\" class=\"data row12 col5\" >-0.00590299</td>\n",
       "                        <td id=\"T_7fef1ade_adf3_11ea_836c_4a850c62b8c6row12_col6\" class=\"data row12 col6\" >0.0589934</td>\n",
       "                        <td id=\"T_7fef1ade_adf3_11ea_836c_4a850c62b8c6row12_col7\" class=\"data row12 col7\" >0.370656</td>\n",
       "                        <td id=\"T_7fef1ade_adf3_11ea_836c_4a850c62b8c6row12_col8\" class=\"data row12 col8\" >0.121799</td>\n",
       "                        <td id=\"T_7fef1ade_adf3_11ea_836c_4a850c62b8c6row12_col9\" class=\"data row12 col9\" >-0.228531</td>\n",
       "                        <td id=\"T_7fef1ade_adf3_11ea_836c_4a850c62b8c6row12_col10\" class=\"data row12 col10\" >0.130354</td>\n",
       "                        <td id=\"T_7fef1ade_adf3_11ea_836c_4a850c62b8c6row12_col11\" class=\"data row12 col11\" >0.0921325</td>\n",
       "                        <td id=\"T_7fef1ade_adf3_11ea_836c_4a850c62b8c6row12_col12\" class=\"data row12 col12\" >1</td>\n",
       "            </tr>\n",
       "    </tbody></table>"
      ],
      "text/plain": [
       "<pandas.io.formats.style.Styler at 0x7f739dc1dcd0>"
      ]
     },
     "execution_count": 22,
     "metadata": {},
     "output_type": "execute_result"
    }
   ],
   "source": [
    "# Create a correlation matrix\n",
    "corr_metrics = info_feature.corr()\n",
    "corr_metrics.style.background_gradient()"
   ]
  },
  {
   "cell_type": "code",
   "execution_count": 23,
   "metadata": {},
   "outputs": [
    {
     "data": {
      "image/png": "[encoded data removed]",
      "text/plain": [
       "<Figure size 1080x720 with 1 Axes>"
      ]
     },
     "metadata": {
      "needs_background": "light"
     },
     "output_type": "display_data"
    }
   ],
   "source": [
    "# This is just to make plots appear in the notebook\n",
    "%matplotlib inline\n",
    "\n",
    "# Import our plotting module, and PCA class\n",
    "import matplotlib.pyplot as plt\n",
    "from sklearn.decomposition import PCA\n",
    "\n",
    "# Get our explained variance ratios from PCA using all features\n",
    "pca = PCA()\n",
    "pca.fit(scaled_features)\n",
    "exp_variance = pca.explained_variance_ratio_\n",
    "\n",
    "# plot the explained variance using a barplot\n",
    "fig, ax = plt.subplots(figsize=(15,10))\n",
    "ax.bar(range(pca.n_components_), exp_variance)\n",
    "ax.set_xlabel('Principal Component #');"
   ]
  },
  {
   "cell_type": "code",
   "execution_count": 24,
   "metadata": {},
   "outputs": [
    {
     "data": {
      "image/png": "[encoded data removed]",
      "text/plain": [
       "<Figure size 720x720 with 1 Axes>"
      ]
     },
     "metadata": {
      "needs_background": "light"
     },
     "output_type": "display_data"
    }
   ],
   "source": [
    "# Import numpy\n",
    "import numpy as np\n",
    "\n",
    "# Calculate the cumulative explained variance\n",
    "cum_exp_variance = np.cumsum(exp_variance)\n",
    "\n",
    "# Plot the cumulative explained variance and draw a dashed line at 0.85.\n",
    "fig, ax = plt.subplots(figsize=(10,10))\n",
    "ax.plot(range(pca.n_components_),cum_exp_variance)\n",
    "ax.axhline(y=0.85, linestyle='--')\n",
    "\n",
    "# choose the n_components where about 85% of our variance can be explained\n",
    "n_components = 9\n",
    "\n",
    "# Perform PCA with the chosen number of components and project data onto components\n",
    "pca = PCA(n_components)\n",
    "pca.fit(scaled_features)\n",
    "pca_projection = pca.transform(scaled_features)"
   ]
  },
  {
   "cell_type": "code",
   "execution_count": 25,
   "metadata": {},
   "outputs": [
    {
     "data": {
      "text/plain": [
       "9"
      ]
     },
     "execution_count": 25,
     "metadata": {},
     "output_type": "execute_result"
    }
   ],
   "source": [
    "len(pca_projection[0])"
   ]
  },
  {
   "cell_type": "code",
   "execution_count": 26,
   "metadata": {},
   "outputs": [],
   "source": [
    "# Import train_test_split function and Decision tree classifier\n",
    "from sklearn.model_selection import train_test_split\n",
    "\n",
    "# Split our data\n",
    "X_train, X_test, y_train, y_test = train_test_split(pca_projection,info_label,test_size=0.2)"
   ]
  },
  {
   "cell_type": "code",
   "execution_count": 29,
   "metadata": {},
   "outputs": [],
   "source": [
    "from sklearn.linear_model import LogisticRegression\n",
    "from sklearn.tree import DecisionTreeClassifier\n",
    "from sklearn.neighbors import KNeighborsClassifier\n",
    "from sklearn.svm import SVC\n",
    "from sklearn.ensemble import RandomForestClassifier\n",
    "from sklearn.metrics import roc_auc_score\n",
    "from sklearn.model_selection import cross_val_score"
   ]
  },
  {
   "cell_type": "markdown",
   "metadata": {},
   "source": [
    "**Logistic Regression Model**"
   ]
  },
  {
   "cell_type": "code",
   "execution_count": 30,
   "metadata": {},
   "outputs": [
    {
     "name": "stdout",
     "output_type": "stream",
     "text": [
      "[[16  4]\n",
      " [ 3 17]]\n",
      "              precision    recall  f1-score   support\n",
      "\n",
      "           0       0.84      0.80      0.82        20\n",
      "           1       0.81      0.85      0.83        20\n",
      "\n",
      "    accuracy                           0.82        40\n",
      "   macro avg       0.83      0.82      0.82        40\n",
      "weighted avg       0.83      0.82      0.82        40\n",
      "\n",
      "Training Accuracy:  0.825\n",
      "Testing Accuracy:  0.825\n"
     ]
    }
   ],
   "source": [
    "from sklearn.metrics import confusion_matrix, classification_report\n",
    "# Create the classifier: logreg\n",
    "logreg = LogisticRegression()\n",
    "\n",
    "# Fit the classifier to the training data\n",
    "logreg.fit(X_train, y_train)\n",
    "\n",
    "# Predict the labels of the test set: y_pred\n",
    "y_pred = logreg.predict(X_test)\n",
    "\n",
    "# Compute and print the confusion matrix and classification report\n",
    "print(confusion_matrix(y_test, y_pred))\n",
    "\n",
    "print(classification_report(y_test, y_pred))\n",
    "\n",
    "training_accuracy = logreg.score(X_train, y_train)\n",
    "print(\"Training Accuracy: \", training_accuracy)\n",
    "testing_accuracy = logreg.score(X_test, y_test)\n",
    "print(\"Testing Accuracy: \", testing_accuracy)"
   ]
  },
  {
   "cell_type": "code",
   "execution_count": 31,
   "metadata": {},
   "outputs": [
    {
     "data": {
      "image/png": "[encoded data removed]",
      "text/plain": [
       "<Figure size 432x288 with 1 Axes>"
      ]
     },
     "metadata": {
      "needs_background": "light"
     },
     "output_type": "display_data"
    }
   ],
   "source": [
    "from sklearn.metrics import roc_curve \n",
    "\n",
    "# Compute predicted probabilities: y_pred_prob\n",
    "y_pred_prob = logreg.predict_proba(X_test)[:,1]\n",
    "\n",
    "# Generate ROC curve values: fpr, tpr, thresholds\n",
    "fpr, tpr, thresholds = roc_curve(y_test, y_pred_prob)\n",
    "\n",
    "# Plot ROC curve\n",
    "plt.plot([0, 1], [0, 1], 'k--')\n",
    "plt.plot(fpr, tpr)\n",
    "plt.xlabel('False Positive Rate')\n",
    "plt.ylabel('True Positive Rate')\n",
    "plt.title('ROC Curve');"
   ]
  },
  {
   "cell_type": "code",
   "execution_count": 32,
   "metadata": {},
   "outputs": [
    {
     "name": "stdout",
     "output_type": "stream",
     "text": [
      "AUC: 0.9025\n",
      "AUC scores computed using 5-fold cross-validation: [0.8828125  0.96875    0.9140625  0.8984375  0.87890625]\n",
      "mean cross-validation AUC scores: 0.90859375\n"
     ]
    }
   ],
   "source": [
    "# Compute and print AUC score\n",
    "print(\"AUC: {}\".format(roc_auc_score(y_test, y_pred_prob)))\n",
    "\n",
    "# Compute cross-validated AUC scores: cv_auc\n",
    "cv_auc = cross_val_score(logreg, X_train, y_train, cv=5, scoring='roc_auc')\n",
    "\n",
    "# Print list of AUC scores\n",
    "print(\"AUC scores computed using 5-fold cross-validation: {}\".format(cv_auc))\n",
    "print(\"mean cross-validation AUC scores: {}\".format(cv_auc.mean()))"
   ]
  },
  {
   "cell_type": "code",
   "execution_count": 33,
   "metadata": {},
   "outputs": [
    {
     "name": "stdout",
     "output_type": "stream",
     "text": [
      "Tuned Logistic Regression Parameters: {'C': 0.4393970560760795}\n",
      "Best score is 0.91328125\n"
     ]
    }
   ],
   "source": [
    "from sklearn.model_selection import GridSearchCV\n",
    "\n",
    "# Setup the hyperparameter grid\n",
    "c_space = np.logspace(-5, 8, 15)\n",
    "param_grid = {'C': c_space}\n",
    "\n",
    "# Instantiate the GridSearchCV object: logreg_cv\n",
    "logreg_cv = GridSearchCV(logreg, param_grid, cv=5, scoring='roc_auc')\n",
    "\n",
    "# Fit it to the data\n",
    "logreg_cv.fit(X_train,y_train)\n",
    "\n",
    "# Print the tuned parameters and score\n",
    "print(\"Tuned Logistic Regression Parameters: {}\".format(logreg_cv.best_params_)) \n",
    "print(\"Best score is {}\".format(logreg_cv.best_score_))"
   ]
  },
  {
   "cell_type": "code",
   "execution_count": 121,
   "metadata": {},
   "outputs": [
    {
     "data": {
      "text/plain": [
       "[0.4393970560760795]"
      ]
     },
     "execution_count": 121,
     "metadata": {},
     "output_type": "execute_result"
    }
   ],
   "source": [
    "logreg_param = [logreg_cv.best_params_.get('C')]\n",
    "logreg_param"
   ]
  },
  {
   "cell_type": "code",
   "execution_count": 82,
   "metadata": {
    "scrolled": true
   },
   "outputs": [
    {
     "name": "stdout",
     "output_type": "stream",
     "text": [
      "{'Logistic Regression': 0.91328125}\n"
     ]
    }
   ],
   "source": [
    "models = {}\n",
    "models['Logistic Regression'] = logreg_cv.best_score_\n",
    "print(models)"
   ]
  },
  {
   "cell_type": "code",
   "execution_count": 83,
   "metadata": {},
   "outputs": [
    {
     "data": {
      "text/plain": [
       "LogisticRegression(C=0.4393970560760795, class_weight=None, dual=False,\n",
       "                   fit_intercept=True, intercept_scaling=1, l1_ratio=None,\n",
       "                   max_iter=100, multi_class='auto', n_jobs=None, penalty='l2',\n",
       "                   random_state=None, solver='lbfgs', tol=0.0001, verbose=0,\n",
       "                   warm_start=False)"
      ]
     },
     "execution_count": 83,
     "metadata": {},
     "output_type": "execute_result"
    }
   ],
   "source": [
    "best_logreg = LogisticRegression(C=logreg_param[0])\n",
    "best_logreg.fit(X_train, y_train)"
   ]
  },
  {
   "cell_type": "code",
   "execution_count": 85,
   "metadata": {
    "scrolled": true
   },
   "outputs": [
    {
     "name": "stdout",
     "output_type": "stream",
     "text": [
      "{'Logistic Regression': LogisticRegression(C=0.4393970560760795, class_weight=None, dual=False,\n",
      "                   fit_intercept=True, intercept_scaling=1, l1_ratio=None,\n",
      "                   max_iter=100, multi_class='auto', n_jobs=None, penalty='l2',\n",
      "                   random_state=None, solver='lbfgs', tol=0.0001, verbose=0,\n",
      "                   warm_start=False)}\n"
     ]
    }
   ],
   "source": [
    "best_models = {}\n",
    "best_models['Logistic Regression'] = best_logreg\n",
    "print(best_models)"
   ]
  },
  {
   "cell_type": "markdown",
   "metadata": {},
   "source": [
    "**Decision Tree Model**"
   ]
  },
  {
   "cell_type": "code",
   "execution_count": 35,
   "metadata": {},
   "outputs": [
    {
     "name": "stdout",
     "output_type": "stream",
     "text": [
      "[[18  2]\n",
      " [ 5 15]]\n",
      "              precision    recall  f1-score   support\n",
      "\n",
      "           0       0.78      0.90      0.84        20\n",
      "           1       0.88      0.75      0.81        20\n",
      "\n",
      "    accuracy                           0.82        40\n",
      "   macro avg       0.83      0.82      0.82        40\n",
      "weighted avg       0.83      0.82      0.82        40\n",
      "\n",
      "Training Accuracy:  1.0\n",
      "Testing Accuracy:  0.825\n"
     ]
    }
   ],
   "source": [
    "# Create the classifier: logreg\n",
    "tree = DecisionTreeClassifier()\n",
    "\n",
    "# Fit the classifier to the training data\n",
    "tree.fit(X_train, y_train)\n",
    "\n",
    "# Predict the labels of the test set: y_pred\n",
    "y_pred = tree.predict(X_test)\n",
    "\n",
    "# Compute and print the confusion matrix and classification report\n",
    "print(confusion_matrix(y_test, y_pred))\n",
    "\n",
    "print(classification_report(y_test, y_pred))\n",
    "\n",
    "training_accuracy = tree.score(X_train, y_train)\n",
    "print(\"Training Accuracy: \", training_accuracy)\n",
    "testing_accuracy = tree.score(X_test, y_test)\n",
    "print(\"Testing Accuracy: \", testing_accuracy)"
   ]
  },
  {
   "cell_type": "code",
   "execution_count": 36,
   "metadata": {},
   "outputs": [
    {
     "data": {
      "text/plain": [
       "7"
      ]
     },
     "execution_count": 36,
     "metadata": {},
     "output_type": "execute_result"
    }
   ],
   "source": [
    "dp = tree.tree_.max_depth\n",
    "dp"
   ]
  },
  {
   "cell_type": "code",
   "execution_count": 37,
   "metadata": {},
   "outputs": [
    {
     "data": {
      "image/png": "[encoded data removed]",
      "text/plain": [
       "<Figure size 432x288 with 1 Axes>"
      ]
     },
     "metadata": {
      "needs_background": "light"
     },
     "output_type": "display_data"
    }
   ],
   "source": [
    "from sklearn.metrics import roc_curve \n",
    "\n",
    "# Compute predicted probabilities: y_pred_prob\n",
    "y_pred_prob = tree.predict_proba(X_test)[:,1]\n",
    "\n",
    "# Generate ROC curve values: fpr, tpr, thresholds\n",
    "fpr, tpr, thresholds = roc_curve(y_test, y_pred_prob)\n",
    "\n",
    "# Plot ROC curve\n",
    "plt.plot([0, 1], [0, 1], 'k--')\n",
    "plt.plot(fpr, tpr)\n",
    "plt.xlabel('False Positive Rate')\n",
    "plt.ylabel('True Positive Rate')\n",
    "plt.title('ROC Curve');"
   ]
  },
  {
   "cell_type": "code",
   "execution_count": 38,
   "metadata": {},
   "outputs": [
    {
     "name": "stdout",
     "output_type": "stream",
     "text": [
      "AUC: 0.825\n",
      "AUC scores computed using 5-fold cross-validation: [0.71875 0.78125 0.75    0.84375 0.84375]\n",
      "mean cross-validation AUC scores: 0.7875\n"
     ]
    }
   ],
   "source": [
    "# Compute and print AUC score\n",
    "print(\"AUC: {}\".format(roc_auc_score(y_test, y_pred_prob)))\n",
    "\n",
    "# Compute cross-validated AUC scores: cv_auc\n",
    "cv_auc = cross_val_score(tree, X_train, y_train, cv=5, scoring='roc_auc')\n",
    "\n",
    "# Print list of AUC scores\n",
    "print(\"AUC scores computed using 5-fold cross-validation: {}\".format(cv_auc))\n",
    "print(\"mean cross-validation AUC scores: {}\".format(cv_auc.mean()))"
   ]
  },
  {
   "cell_type": "code",
   "execution_count": 39,
   "metadata": {},
   "outputs": [
    {
     "name": "stdout",
     "output_type": "stream",
     "text": [
      "Tuned Tree Regression Parameters: {'criterion': 'gini', 'max_depth': 7, 'max_features': 9, 'min_samples_leaf': 9}\n",
      "Best score is 0.926171875\n"
     ]
    }
   ],
   "source": [
    "# Setup the hyperparameter grid\n",
    "param_dist = {\"max_depth\": np.arange(1, dp+1),\n",
    "              \"max_features\": np.arange(1,10),\n",
    "              \"min_samples_leaf\": np.arange(1, 10),\n",
    "              \"criterion\": [\"gini\", \"entropy\"]}\n",
    "\n",
    "# Instantiate the GridSearchCV object: logreg_cv\n",
    "tree_cv = GridSearchCV(tree, param_dist, cv=5, scoring='roc_auc')\n",
    "\n",
    "# Fit it to the data\n",
    "tree_cv.fit(X_train, y_train)\n",
    "\n",
    "# Print the tuned parameters and score\n",
    "print(\"Tuned Tree Regression Parameters: {}\".format(tree_cv.best_params_)) \n",
    "print(\"Best score is {}\".format(tree_cv.best_score_))"
   ]
  },
  {
   "cell_type": "code",
   "execution_count": 119,
   "metadata": {},
   "outputs": [
    {
     "data": {
      "text/plain": [
       "['gini', 7, 9, 9]"
      ]
     },
     "execution_count": 119,
     "metadata": {},
     "output_type": "execute_result"
    }
   ],
   "source": [
    "tree_param = [tree_cv.best_params_.get('criterion'), tree_cv.best_params_.get('max_depth'), \n",
    "                tree_cv.best_params_.get('max_features'), tree_cv.best_params_.get('min_samples_leaf')]\n",
    "tree_param"
   ]
  },
  {
   "cell_type": "code",
   "execution_count": 86,
   "metadata": {},
   "outputs": [
    {
     "name": "stdout",
     "output_type": "stream",
     "text": [
      "{'Logistic Regression': 0.91328125, 'Decision Tree': 0.926171875}\n"
     ]
    }
   ],
   "source": [
    "models['Decision Tree'] = tree_cv.best_score_\n",
    "print(models)"
   ]
  },
  {
   "cell_type": "code",
   "execution_count": 87,
   "metadata": {},
   "outputs": [
    {
     "name": "stdout",
     "output_type": "stream",
     "text": [
      "{'Logistic Regression': LogisticRegression(C=0.4393970560760795, class_weight=None, dual=False,\n",
      "                   fit_intercept=True, intercept_scaling=1, l1_ratio=None,\n",
      "                   max_iter=100, multi_class='auto', n_jobs=None, penalty='l2',\n",
      "                   random_state=None, solver='lbfgs', tol=0.0001, verbose=0,\n",
      "                   warm_start=False), 'Decision Tree': DecisionTreeClassifier(ccp_alpha=0.0, class_weight=None, criterion='gini',\n",
      "                       max_depth=7, max_features=9, max_leaf_nodes=None,\n",
      "                       min_impurity_decrease=0.0, min_impurity_split=None,\n",
      "                       min_samples_leaf=9, min_samples_split=2,\n",
      "                       min_weight_fraction_leaf=0.0, presort='deprecated',\n",
      "                       random_state=None, splitter='best')}\n"
     ]
    }
   ],
   "source": [
    "best_tree = DecisionTreeClassifier(criterion=tree_param[0], max_depth=tree_param[1], max_features=tree_param[2], \n",
    "                                   min_samples_leaf=tree_param[3])\n",
    "best_tree.fit(X_train, y_train)\n",
    "\n",
    "best_models['Decision Tree'] = best_tree\n",
    "print(best_models)"
   ]
  },
  {
   "cell_type": "markdown",
   "metadata": {},
   "source": [
    "**Random Forest Model**"
   ]
  },
  {
   "cell_type": "code",
   "execution_count": 41,
   "metadata": {},
   "outputs": [
    {
     "name": "stdout",
     "output_type": "stream",
     "text": [
      "[[18  2]\n",
      " [ 2 18]]\n",
      "              precision    recall  f1-score   support\n",
      "\n",
      "           0       0.90      0.90      0.90        20\n",
      "           1       0.90      0.90      0.90        20\n",
      "\n",
      "    accuracy                           0.90        40\n",
      "   macro avg       0.90      0.90      0.90        40\n",
      "weighted avg       0.90      0.90      0.90        40\n",
      "\n",
      "Training Accuracy:  1.0\n",
      "Testing Accuracy:  0.9\n"
     ]
    }
   ],
   "source": [
    "# Create the classifier: logreg\n",
    "forest = RandomForestClassifier()\n",
    "\n",
    "# Fit the classifier to the training data\n",
    "forest.fit(X_train, y_train)\n",
    "\n",
    "# Predict the labels of the test set: y_pred\n",
    "y_pred = forest.predict(X_test)\n",
    "\n",
    "# Compute and print the confusion matrix and classification report\n",
    "print(confusion_matrix(y_test, y_pred))\n",
    "\n",
    "print(classification_report(y_test, y_pred))\n",
    "\n",
    "training_accuracy = forest.score(X_train, y_train)\n",
    "print(\"Training Accuracy: \", training_accuracy)\n",
    "testing_accuracy = forest.score(X_test, y_test)\n",
    "print(\"Testing Accuracy: \", testing_accuracy)"
   ]
  },
  {
   "cell_type": "code",
   "execution_count": 42,
   "metadata": {},
   "outputs": [
    {
     "data": {
      "image/png": "[encoded data removed]",
      "text/plain": [
       "<Figure size 432x288 with 1 Axes>"
      ]
     },
     "metadata": {
      "needs_background": "light"
     },
     "output_type": "display_data"
    }
   ],
   "source": [
    "from sklearn.metrics import roc_curve \n",
    "\n",
    "# Compute predicted probabilities: y_pred_prob\n",
    "y_pred_prob = forest.predict_proba(X_test)[:,1]\n",
    "\n",
    "# Generate ROC curve values: fpr, tpr, thresholds\n",
    "fpr, tpr, thresholds = roc_curve(y_test, y_pred_prob)\n",
    "\n",
    "# Plot ROC curve\n",
    "plt.plot([0, 1], [0, 1], 'k--')\n",
    "plt.plot(fpr, tpr)\n",
    "plt.xlabel('False Positive Rate')\n",
    "plt.ylabel('True Positive Rate')\n",
    "plt.title('ROC Curve');"
   ]
  },
  {
   "cell_type": "code",
   "execution_count": 43,
   "metadata": {},
   "outputs": [
    {
     "name": "stdout",
     "output_type": "stream",
     "text": [
      "AUC: 0.9424999999999999\n",
      "AUC scores computed using 5-fold cross-validation: [0.8828125  0.91992188 0.921875   0.984375   0.94335938]\n",
      "mean cross-validation AUC scores: 0.93046875\n"
     ]
    }
   ],
   "source": [
    "# Compute and print AUC score\n",
    "print(\"AUC: {}\".format(roc_auc_score(y_test, y_pred_prob)))\n",
    "\n",
    "# Compute cross-validated AUC scores: cv_auc\n",
    "cv_auc = cross_val_score(forest, X_train, y_train, cv=5, scoring='roc_auc')\n",
    "\n",
    "# Print list of AUC scores\n",
    "print(\"AUC scores computed using 5-fold cross-validation: {}\".format(cv_auc))\n",
    "print(\"mean cross-validation AUC scores: {}\".format(cv_auc.mean()))"
   ]
  },
  {
   "cell_type": "code",
   "execution_count": 47,
   "metadata": {},
   "outputs": [
    {
     "name": "stdout",
     "output_type": "stream",
     "text": [
      "Tuned Tree Regression Parameters: {'n_estimators': 200, 'min_samples_leaf': 6, 'max_features': 9, 'max_depth': 8, 'criterion': 'entropy'}\n",
      "Best score is 0.94375\n"
     ]
    }
   ],
   "source": [
    "from sklearn.model_selection import RandomizedSearchCV\n",
    "\n",
    "# Setup the hyperparameter grid\n",
    "param_forest = {\"max_depth\": np.arange(1, 32),\n",
    "              \"max_features\": np.arange(1,10),\n",
    "              \"min_samples_leaf\": np.arange(1, 10),\n",
    "              \"n_estimators\": np.arange(100,500,100),\n",
    "              \"criterion\": [\"gini\", \"entropy\"]}\n",
    "\n",
    "# Instantiate the GridSearchCV object: logreg_cv\n",
    "forest_cv = RandomizedSearchCV(forest, param_forest, cv=5, scoring='roc_auc')\n",
    "\n",
    "# Fit it to the data\n",
    "forest_cv.fit(X_train, y_train)\n",
    "\n",
    "# Print the tuned parameters and score\n",
    "print(\"Tuned Tree Regression Parameters: {}\".format(forest_cv.best_params_)) \n",
    "print(\"Best score is {}\".format(forest_cv.best_score_))"
   ]
  },
  {
   "cell_type": "code",
   "execution_count": 118,
   "metadata": {},
   "outputs": [
    {
     "data": {
      "text/plain": [
       "[200, 6, 9, 8, 'entropy']"
      ]
     },
     "execution_count": 118,
     "metadata": {},
     "output_type": "execute_result"
    }
   ],
   "source": [
    "forest_param = [forest_cv.best_params_.get('n_estimators'), forest_cv.best_params_.get('min_samples_leaf'), \n",
    "                forest_cv.best_params_.get('max_features'), forest_cv.best_params_.get('max_depth'),\n",
    "               forest_cv.best_params_.get('criterion')]\n",
    "forest_param"
   ]
  },
  {
   "cell_type": "code",
   "execution_count": 88,
   "metadata": {},
   "outputs": [
    {
     "name": "stdout",
     "output_type": "stream",
     "text": [
      "{'Logistic Regression': 0.91328125, 'Decision Tree': 0.926171875, 'Random forest': 0.94375}\n"
     ]
    }
   ],
   "source": [
    "models['Random forest'] = forest_cv.best_score_\n",
    "print(models)"
   ]
  },
  {
   "cell_type": "code",
   "execution_count": 89,
   "metadata": {},
   "outputs": [
    {
     "name": "stdout",
     "output_type": "stream",
     "text": [
      "{'Logistic Regression': LogisticRegression(C=0.4393970560760795, class_weight=None, dual=False,\n",
      "                   fit_intercept=True, intercept_scaling=1, l1_ratio=None,\n",
      "                   max_iter=100, multi_class='auto', n_jobs=None, penalty='l2',\n",
      "                   random_state=None, solver='lbfgs', tol=0.0001, verbose=0,\n",
      "                   warm_start=False), 'Decision Tree': DecisionTreeClassifier(ccp_alpha=0.0, class_weight=None, criterion='gini',\n",
      "                       max_depth=7, max_features=9, max_leaf_nodes=None,\n",
      "                       min_impurity_decrease=0.0, min_impurity_split=None,\n",
      "                       min_samples_leaf=9, min_samples_split=2,\n",
      "                       min_weight_fraction_leaf=0.0, presort='deprecated',\n",
      "                       random_state=None, splitter='best'), 'Random Forest': RandomForestClassifier(bootstrap=True, ccp_alpha=0.0, class_weight=None,\n",
      "                       criterion='entropy', max_depth=8, max_features=9,\n",
      "                       max_leaf_nodes=None, max_samples=None,\n",
      "                       min_impurity_decrease=0.0, min_impurity_split=None,\n",
      "                       min_samples_leaf=6, min_samples_split=2,\n",
      "                       min_weight_fraction_leaf=0.0, n_estimators=200,\n",
      "                       n_jobs=None, oob_score=False, random_state=None,\n",
      "                       verbose=0, warm_start=False)}\n"
     ]
    }
   ],
   "source": [
    "best_forest =  RandomForestClassifier(n_estimators=forest_param[0], min_samples_leaf=forest_param[1], \n",
    "                                      max_features=forest_param[2], max_depth=forest_param[3], \n",
    "                                      criterion=forest_param[4])\n",
    "best_forest.fit(X_train, y_train)\n",
    "\n",
    "best_models['Random Forest'] = best_forest\n",
    "print(best_models)"
   ]
  },
  {
   "cell_type": "markdown",
   "metadata": {},
   "source": [
    "**K-nearest Neighbor Model**"
   ]
  },
  {
   "cell_type": "code",
   "execution_count": 49,
   "metadata": {},
   "outputs": [
    {
     "name": "stdout",
     "output_type": "stream",
     "text": [
      "[[17  3]\n",
      " [ 1 19]]\n",
      "              precision    recall  f1-score   support\n",
      "\n",
      "           0       0.94      0.85      0.89        20\n",
      "           1       0.86      0.95      0.90        20\n",
      "\n",
      "    accuracy                           0.90        40\n",
      "   macro avg       0.90      0.90      0.90        40\n",
      "weighted avg       0.90      0.90      0.90        40\n",
      "\n",
      "Training Accuracy:  0.925\n",
      "Testing Accuracy:  0.9\n"
     ]
    }
   ],
   "source": [
    "# Create the classifier: logreg\n",
    "KNN = KNeighborsClassifier()\n",
    "\n",
    "# Fit the classifier to the training data\n",
    "KNN.fit(X_train, y_train)\n",
    "\n",
    "# Predict the labels of the test set: y_pred\n",
    "y_pred = KNN.predict(X_test)\n",
    "\n",
    "# Compute and print the confusion matrix and classification report\n",
    "print(confusion_matrix(y_test, y_pred))\n",
    "\n",
    "print(classification_report(y_test, y_pred))\n",
    "\n",
    "training_accuracy = KNN.score(X_train, y_train)\n",
    "print(\"Training Accuracy: \", training_accuracy)\n",
    "testing_accuracy = KNN.score(X_test, y_test)\n",
    "print(\"Testing Accuracy: \", testing_accuracy)"
   ]
  },
  {
   "cell_type": "code",
   "execution_count": 50,
   "metadata": {},
   "outputs": [
    {
     "data": {
      "image/png": "[encoded data removed]",
      "text/plain": [
       "<Figure size 432x288 with 1 Axes>"
      ]
     },
     "metadata": {
      "needs_background": "light"
     },
     "output_type": "display_data"
    }
   ],
   "source": [
    "from sklearn.metrics import roc_curve \n",
    "\n",
    "# Compute predicted probabilities: y_pred_prob\n",
    "y_pred_prob = KNN.predict_proba(X_test)[:,1]\n",
    "\n",
    "# Generate ROC curve values: fpr, tpr, thresholds\n",
    "fpr, tpr, thresholds = roc_curve(y_test, y_pred_prob)\n",
    "\n",
    "# Plot ROC curve\n",
    "plt.plot([0, 1], [0, 1], 'k--')\n",
    "plt.plot(fpr, tpr)\n",
    "plt.xlabel('False Positive Rate')\n",
    "plt.ylabel('True Positive Rate')\n",
    "plt.title('ROC Curve');"
   ]
  },
  {
   "cell_type": "code",
   "execution_count": 51,
   "metadata": {},
   "outputs": [
    {
     "name": "stdout",
     "output_type": "stream",
     "text": [
      "AUC: 0.96625\n",
      "AUC scores computed using 5-fold cross-validation: [0.91601562 0.94921875 0.98242188 0.9921875  0.94726562]\n",
      "mean cross-validation AUC scores: 0.957421875\n"
     ]
    }
   ],
   "source": [
    "# Compute and print AUC score\n",
    "print(\"AUC: {}\".format(roc_auc_score(y_test, y_pred_prob)))\n",
    "\n",
    "# Compute cross-validated AUC scores: cv_auc\n",
    "cv_auc = cross_val_score(KNN, X_train, y_train, cv=5, scoring='roc_auc')\n",
    "\n",
    "# Print list of AUC scores\n",
    "print(\"AUC scores computed using 5-fold cross-validation: {}\".format(cv_auc))\n",
    "print(\"mean cross-validation AUC scores: {}\".format(cv_auc.mean()))"
   ]
  },
  {
   "cell_type": "code",
   "execution_count": 73,
   "metadata": {},
   "outputs": [
    {
     "name": "stdout",
     "output_type": "stream",
     "text": [
      "Tuned KNN Parameters: {'n_neighbors': 12, 'weights': 'distance'}\n",
      "Best score is 0.97265625\n"
     ]
    }
   ],
   "source": [
    "# Setup the hyperparameter grid\n",
    "param_KNN = {\"n_neighbors\": np.arange(1, 20),\n",
    "              \"weights\": ['uniform','distance']}\n",
    "\n",
    "# Instantiate the GridSearchCV object: logreg_cv\n",
    "KNN_cv = GridSearchCV(KNN, param_KNN, cv=5, scoring='roc_auc')\n",
    "\n",
    "# Fit it to the data\n",
    "KNN_cv.fit(X_train, y_train)\n",
    "\n",
    "# Print the tuned parameters and score\n",
    "print(\"Tuned KNN Parameters: {}\".format(KNN_cv.best_params_)) \n",
    "print(\"Best score is {}\".format(KNN_cv.best_score_))"
   ]
  },
  {
   "cell_type": "code",
   "execution_count": 117,
   "metadata": {},
   "outputs": [
    {
     "data": {
      "text/plain": [
       "[12, 'distance']"
      ]
     },
     "execution_count": 117,
     "metadata": {},
     "output_type": "execute_result"
    }
   ],
   "source": [
    "KNN_param = [KNN_cv.best_params_.get('n_neighbors'), KNN_cv.best_params_.get('weights')]\n",
    "KNN_param"
   ]
  },
  {
   "cell_type": "code",
   "execution_count": 90,
   "metadata": {},
   "outputs": [
    {
     "name": "stdout",
     "output_type": "stream",
     "text": [
      "{'Logistic Regression': 0.91328125, 'Decision Tree': 0.926171875, 'Random forest': 0.94375, 'KNN': 0.97265625}\n"
     ]
    }
   ],
   "source": [
    "models['KNN'] = KNN_cv.best_score_\n",
    "print(models)"
   ]
  },
  {
   "cell_type": "code",
   "execution_count": 91,
   "metadata": {},
   "outputs": [
    {
     "name": "stdout",
     "output_type": "stream",
     "text": [
      "{'Logistic Regression': LogisticRegression(C=0.4393970560760795, class_weight=None, dual=False,\n",
      "                   fit_intercept=True, intercept_scaling=1, l1_ratio=None,\n",
      "                   max_iter=100, multi_class='auto', n_jobs=None, penalty='l2',\n",
      "                   random_state=None, solver='lbfgs', tol=0.0001, verbose=0,\n",
      "                   warm_start=False), 'Decision Tree': DecisionTreeClassifier(ccp_alpha=0.0, class_weight=None, criterion='gini',\n",
      "                       max_depth=7, max_features=9, max_leaf_nodes=None,\n",
      "                       min_impurity_decrease=0.0, min_impurity_split=None,\n",
      "                       min_samples_leaf=9, min_samples_split=2,\n",
      "                       min_weight_fraction_leaf=0.0, presort='deprecated',\n",
      "                       random_state=None, splitter='best'), 'Random Forest': RandomForestClassifier(bootstrap=True, ccp_alpha=0.0, class_weight=None,\n",
      "                       criterion='entropy', max_depth=8, max_features=9,\n",
      "                       max_leaf_nodes=None, max_samples=None,\n",
      "                       min_impurity_decrease=0.0, min_impurity_split=None,\n",
      "                       min_samples_leaf=6, min_samples_split=2,\n",
      "                       min_weight_fraction_leaf=0.0, n_estimators=200,\n",
      "                       n_jobs=None, oob_score=False, random_state=None,\n",
      "                       verbose=0, warm_start=False), 'KNN': KNeighborsClassifier(algorithm='auto', leaf_size=30, metric='minkowski',\n",
      "                     metric_params=None, n_jobs=None, n_neighbors=12, p=2,\n",
      "                     weights='distance')}\n"
     ]
    }
   ],
   "source": [
    "best_KNN = KNeighborsClassifier(n_neighbors=KNN_param[0], weights=KNN_param[1])\n",
    "best_KNN.fit(X_train, y_train)\n",
    "\n",
    "best_models['KNN'] = best_KNN\n",
    "print(best_models)"
   ]
  },
  {
   "cell_type": "markdown",
   "metadata": {},
   "source": [
    "**Support Vector Machine (SVM)**"
   ]
  },
  {
   "cell_type": "code",
   "execution_count": 56,
   "metadata": {},
   "outputs": [
    {
     "name": "stdout",
     "output_type": "stream",
     "text": [
      "[[16  4]\n",
      " [ 2 18]]\n",
      "              precision    recall  f1-score   support\n",
      "\n",
      "           0       0.89      0.80      0.84        20\n",
      "           1       0.82      0.90      0.86        20\n",
      "\n",
      "    accuracy                           0.85        40\n",
      "   macro avg       0.85      0.85      0.85        40\n",
      "weighted avg       0.85      0.85      0.85        40\n",
      "\n",
      "Training Accuracy:  0.93125\n",
      "Testing Accuracy:  0.85\n"
     ]
    }
   ],
   "source": [
    "# Create the classifier: logreg\n",
    "SVM = SVC()\n",
    "\n",
    "# Fit the classifier to the training data\n",
    "SVM.fit(X_train, y_train)\n",
    "\n",
    "# Predict the labels of the test set: y_pred\n",
    "y_pred = SVM.predict(X_test)\n",
    "\n",
    "# Compute and print the confusion matrix and classification report\n",
    "print(confusion_matrix(y_test, y_pred))\n",
    "\n",
    "print(classification_report(y_test, y_pred))\n",
    "\n",
    "training_accuracy = SVM.score(X_train, y_train)\n",
    "print(\"Training Accuracy: \", training_accuracy)\n",
    "testing_accuracy = SVM.score(X_test, y_test)\n",
    "print(\"Testing Accuracy: \", testing_accuracy)"
   ]
  },
  {
   "cell_type": "code",
   "execution_count": 60,
   "metadata": {
    "scrolled": true
   },
   "outputs": [
    {
     "name": "stdout",
     "output_type": "stream",
     "text": [
      "AUC scores computed using 5-fold cross-validation: [0.91601562 0.94921875 0.98242188 0.9921875  0.94726562]\n",
      "mean cross-validation AUC scores: 0.957421875\n"
     ]
    }
   ],
   "source": [
    "# Compute cross-validated AUC scores: cv_auc\n",
    "cv_auc = cross_val_score(KNN, X_train, y_train, cv=5, scoring='roc_auc')\n",
    "\n",
    "# Print list of AUC scores\n",
    "print(\"AUC scores computed using 5-fold cross-validation: {}\".format(cv_auc))\n",
    "print(\"mean cross-validation AUC scores: {}\".format(cv_auc.mean()))"
   ]
  },
  {
   "cell_type": "code",
   "execution_count": 75,
   "metadata": {},
   "outputs": [
    {
     "name": "stdout",
     "output_type": "stream",
     "text": [
      "Tuned SVM Parameters: {'C': 10, 'gamma': 0.1, 'kernel': 'rbf'}\n",
      "Best score is 0.97109375\n"
     ]
    }
   ],
   "source": [
    "# Setup the hyperparameter grid\n",
    "param_SVM = {'C': [0.1,1, 10, 100], \n",
    "              'gamma': [1,0.1,0.01,0.001],\n",
    "              'kernel': ['rbf', 'poly', 'sigmoid']}\n",
    "\n",
    "# Instantiate the GridSearchCV object: logreg_cv\n",
    "SVM_cv = GridSearchCV(SVM, param_SVM, cv=5, scoring='roc_auc')\n",
    "\n",
    "# Fit it to the data\n",
    "SVM_cv.fit(X_train, y_train)\n",
    "\n",
    "# Print the tuned parameters and score\n",
    "print(\"Tuned SVM Parameters: {}\".format(SVM_cv.best_params_)) \n",
    "print(\"Best score is {}\".format(SVM_cv.best_score_))"
   ]
  },
  {
   "cell_type": "code",
   "execution_count": 116,
   "metadata": {},
   "outputs": [
    {
     "data": {
      "text/plain": [
       "[10, 0.1, 'rbf']"
      ]
     },
     "execution_count": 116,
     "metadata": {},
     "output_type": "execute_result"
    }
   ],
   "source": [
    "SVM_param = [SVM_cv.best_params_.get('C'), SVM_cv.best_params_.get('gamma'), SVM_cv.best_params_.get('kernel')]\n",
    "SVM_param"
   ]
  },
  {
   "cell_type": "code",
   "execution_count": 92,
   "metadata": {
    "scrolled": true
   },
   "outputs": [
    {
     "name": "stdout",
     "output_type": "stream",
     "text": [
      "{'Logistic Regression': 0.91328125, 'Decision Tree': 0.926171875, 'Random forest': 0.94375, 'KNN': 0.97265625, 'SVC': 0.97109375}\n"
     ]
    }
   ],
   "source": [
    "models['SVC'] = SVM_cv.best_score_\n",
    "print(models)"
   ]
  },
  {
   "cell_type": "code",
   "execution_count": 93,
   "metadata": {},
   "outputs": [
    {
     "name": "stdout",
     "output_type": "stream",
     "text": [
      "{'Logistic Regression': LogisticRegression(C=0.4393970560760795, class_weight=None, dual=False,\n",
      "                   fit_intercept=True, intercept_scaling=1, l1_ratio=None,\n",
      "                   max_iter=100, multi_class='auto', n_jobs=None, penalty='l2',\n",
      "                   random_state=None, solver='lbfgs', tol=0.0001, verbose=0,\n",
      "                   warm_start=False), 'Decision Tree': DecisionTreeClassifier(ccp_alpha=0.0, class_weight=None, criterion='gini',\n",
      "                       max_depth=7, max_features=9, max_leaf_nodes=None,\n",
      "                       min_impurity_decrease=0.0, min_impurity_split=None,\n",
      "                       min_samples_leaf=9, min_samples_split=2,\n",
      "                       min_weight_fraction_leaf=0.0, presort='deprecated',\n",
      "                       random_state=None, splitter='best'), 'Random Forest': RandomForestClassifier(bootstrap=True, ccp_alpha=0.0, class_weight=None,\n",
      "                       criterion='entropy', max_depth=8, max_features=9,\n",
      "                       max_leaf_nodes=None, max_samples=None,\n",
      "                       min_impurity_decrease=0.0, min_impurity_split=None,\n",
      "                       min_samples_leaf=6, min_samples_split=2,\n",
      "                       min_weight_fraction_leaf=0.0, n_estimators=200,\n",
      "                       n_jobs=None, oob_score=False, random_state=None,\n",
      "                       verbose=0, warm_start=False), 'KNN': KNeighborsClassifier(algorithm='auto', leaf_size=30, metric='minkowski',\n",
      "                     metric_params=None, n_jobs=None, n_neighbors=12, p=2,\n",
      "                     weights='distance'), 'SVC': SVC(C=10, break_ties=False, cache_size=200, class_weight=None, coef0=0.0,\n",
      "    decision_function_shape='ovr', degree=3, gamma=0.1, kernel='rbf',\n",
      "    max_iter=-1, probability=False, random_state=None, shrinking=True,\n",
      "    tol=0.001, verbose=False)}\n"
     ]
    }
   ],
   "source": [
    "best_SVC = SVC(C=SVM_param[0], gamma=SVM_param[1], kernel=SVM_param[2])\n",
    "best_SVC.fit(X_train, y_train)\n",
    "\n",
    "best_models['SVC'] = best_SVC\n",
    "print(best_models)"
   ]
  },
  {
   "cell_type": "code",
   "execution_count": 78,
   "metadata": {},
   "outputs": [
    {
     "name": "stdout",
     "output_type": "stream",
     "text": [
      "KNN 0.97265625\n",
      "SVC 0.97109375\n",
      "Random forest 0.94375\n",
      "Decision Tree 0.926171875\n",
      "Logistic Regression 0.91328125\n"
     ]
    }
   ],
   "source": [
    "sort_dict = sorted(models.items(), key=lambda x: x[1], reverse=True)\n",
    "\n",
    "for i in sort_dict:\n",
    "    print(i[0], i[1])"
   ]
  },
  {
   "cell_type": "markdown",
   "metadata": {},
   "source": [
    "**Visualization of all the models**"
   ]
  },
  {
   "cell_type": "code",
   "execution_count": 122,
   "metadata": {},
   "outputs": [],
   "source": [
    "def compare_models(models):\n",
    "    # Compute the training accuracy for each model\n",
    "    #training_score = [model.score(X_train, y_train) for model in best_models.values()]\n",
    "    # Compute the cross validation error for each model\n",
    "    validation_roc_auc_score = [score for score in models.values()]\n",
    "    # Compute the test error for each model (don't do this!)\n",
    "    #test_rmse = [rmse(te['mpg'], model.predict(te)) for model in models.values()]\n",
    "    names = list(models.keys())\n",
    "    fig = go.Figure([\n",
    "        #go.Bar(x = names, y = training_score, name=\"Training score\"),\n",
    "        go.Bar(x = names, y = validation_roc_auc_score, name=\"CV score\"),\n",
    "        #go.Bar(x = names, y = test_rmse, name=\"Test RMSE\", opacity=.3)\n",
    "    ])\n",
    "    return fig"
   ]
  },
  {
   "cell_type": "code",
   "execution_count": 123,
   "metadata": {
    "scrolled": false
   },
   "outputs": [
    {
     "data": {
      "application/vnd.plotly.v1+json": {
       "config": {
        "plotlyServerURL": "https://plot.ly"
       },
       "data": [
        {
         "name": "CV score",
         "type": "bar",
         "x": [
          "Logistic Regression",
          "Decision Tree",
          "Random forest",
          "KNN",
          "SVC"
         ],
         "y": [
          0.91328125,
          0.926171875,
          0.94375,
          0.97265625,
          0.97109375
         ]
        }
       ],
       "layout": {
        "template": {
         "data": {
          "bar": [
           {
            "error_x": {
             "color": "#2a3f5f"
            },
            "error_y": {
             "color": "#2a3f5f"
            },
            "marker": {
             "line": {
              "color": "#E5ECF6",
              "width": 0.5
             }
            },
            "type": "bar"
           }
          ],
          "barpolar": [
           {
            "marker": {
             "line": {
              "color": "#E5ECF6",
              "width": 0.5
             }
            },
            "type": "barpolar"
           }
          ],
          "carpet": [
           {
            "aaxis": {
             "endlinecolor": "#2a3f5f",
             "gridcolor": "white",
             "linecolor": "white",
             "minorgridcolor": "white",
             "startlinecolor": "#2a3f5f"
            },
            "baxis": {
             "endlinecolor": "#2a3f5f",
             "gridcolor": "white",
             "linecolor": "white",
             "minorgridcolor": "white",
             "startlinecolor": "#2a3f5f"
            },
            "type": "carpet"
           }
          ],
          "choropleth": [
           {
            "colorbar": {
             "outlinewidth": 0,
             "ticks": ""
            },
            "type": "choropleth"
           }
          ],
          "contour": [
           {
            "colorbar": {
             "outlinewidth": 0,
             "ticks": ""
            },
            "colorscale": [
             [
              0,
              "#0d0887"
             ],
             [
              0.1111111111111111,
              "#46039f"
             ],
             [
              0.2222222222222222,
              "#7201a8"
             ],
             [
              0.3333333333333333,
              "#9c179e"
             ],
             [
              0.4444444444444444,
              "#bd3786"
             ],
             [
              0.5555555555555556,
              "#d8576b"
             ],
             [
              0.6666666666666666,
              "#ed7953"
             ],
             [
              0.7777777777777778,
              "#fb9f3a"
             ],
             [
              0.8888888888888888,
              "#fdca26"
             ],
             [
              1,
              "#f0f921"
             ]
            ],
            "type": "contour"
           }
          ],
          "contourcarpet": [
           {
            "colorbar": {
             "outlinewidth": 0,
             "ticks": ""
            },
            "type": "contourcarpet"
           }
          ],
          "heatmap": [
           {
            "colorbar": {
             "outlinewidth": 0,
             "ticks": ""
            },
            "colorscale": [
             [
              0,
              "#0d0887"
             ],
             [
              0.1111111111111111,
              "#46039f"
             ],
             [
              0.2222222222222222,
              "#7201a8"
             ],
             [
              0.3333333333333333,
              "#9c179e"
             ],
             [
              0.4444444444444444,
              "#bd3786"
             ],
             [
              0.5555555555555556,
              "#d8576b"
             ],
             [
              0.6666666666666666,
              "#ed7953"
             ],
             [
              0.7777777777777778,
              "#fb9f3a"
             ],
             [
              0.8888888888888888,
              "#fdca26"
             ],
             [
              1,
              "#f0f921"
             ]
            ],
            "type": "heatmap"
           }
          ],
          "heatmapgl": [
           {
            "colorbar": {
             "outlinewidth": 0,
             "ticks": ""
            },
            "colorscale": [
             [
              0,
              "#0d0887"
             ],
             [
              0.1111111111111111,
              "#46039f"
             ],
             [
              0.2222222222222222,
              "#7201a8"
             ],
             [
              0.3333333333333333,
              "#9c179e"
             ],
             [
              0.4444444444444444,
              "#bd3786"
             ],
             [
              0.5555555555555556,
              "#d8576b"
             ],
             [
              0.6666666666666666,
              "#ed7953"
             ],
             [
              0.7777777777777778,
              "#fb9f3a"
             ],
             [
              0.8888888888888888,
              "#fdca26"
             ],
             [
              1,
              "#f0f921"
             ]
            ],
            "type": "heatmapgl"
           }
          ],
          "histogram": [
           {
            "marker": {
             "colorbar": {
              "outlinewidth": 0,
              "ticks": ""
             }
            },
            "type": "histogram"
           }
          ],
          "histogram2d": [
           {
            "colorbar": {
             "outlinewidth": 0,
             "ticks": ""
            },
            "colorscale": [
             [
              0,
              "#0d0887"
             ],
             [
              0.1111111111111111,
              "#46039f"
             ],
             [
              0.2222222222222222,
              "#7201a8"
             ],
             [
              0.3333333333333333,
              "#9c179e"
             ],
             [
              0.4444444444444444,
              "#bd3786"
             ],
             [
              0.5555555555555556,
              "#d8576b"
             ],
             [
              0.6666666666666666,
              "#ed7953"
             ],
             [
              0.7777777777777778,
              "#fb9f3a"
             ],
             [
              0.8888888888888888,
              "#fdca26"
             ],
             [
              1,
              "#f0f921"
             ]
            ],
            "type": "histogram2d"
           }
          ],
          "histogram2dcontour": [
           {
            "colorbar": {
             "outlinewidth": 0,
             "ticks": ""
            },
            "colorscale": [
             [
              0,
              "#0d0887"
             ],
             [
              0.1111111111111111,
              "#46039f"
             ],
             [
              0.2222222222222222,
              "#7201a8"
             ],
             [
              0.3333333333333333,
              "#9c179e"
             ],
             [
              0.4444444444444444,
              "#bd3786"
             ],
             [
              0.5555555555555556,
              "#d8576b"
             ],
             [
              0.6666666666666666,
              "#ed7953"
             ],
             [
              0.7777777777777778,
              "#fb9f3a"
             ],
             [
              0.8888888888888888,
              "#fdca26"
             ],
             [
              1,
              "#f0f921"
             ]
            ],
            "type": "histogram2dcontour"
           }
          ],
          "mesh3d": [
           {
            "colorbar": {
             "outlinewidth": 0,
             "ticks": ""
            },
            "type": "mesh3d"
           }
          ],
          "parcoords": [
           {
            "line": {
             "colorbar": {
              "outlinewidth": 0,
              "ticks": ""
             }
            },
            "type": "parcoords"
           }
          ],
          "pie": [
           {
            "automargin": true,
            "type": "pie"
           }
          ],
          "scatter": [
           {
            "marker": {
             "colorbar": {
              "outlinewidth": 0,
              "ticks": ""
             }
            },
            "type": "scatter"
           }
          ],
          "scatter3d": [
           {
            "line": {
             "colorbar": {
              "outlinewidth": 0,
              "ticks": ""
             }
            },
            "marker": {
             "colorbar": {
              "outlinewidth": 0,
              "ticks": ""
             }
            },
            "type": "scatter3d"
           }
          ],
          "scattercarpet": [
           {
            "marker": {
             "colorbar": {
              "outlinewidth": 0,
              "ticks": ""
             }
            },
            "type": "scattercarpet"
           }
          ],
          "scattergeo": [
           {
            "marker": {
             "colorbar": {
              "outlinewidth": 0,
              "ticks": ""
             }
            },
            "type": "scattergeo"
           }
          ],
          "scattergl": [
           {
            "marker": {
             "colorbar": {
              "outlinewidth": 0,
              "ticks": ""
             }
            },
            "type": "scattergl"
           }
          ],
          "scattermapbox": [
           {
            "marker": {
             "colorbar": {
              "outlinewidth": 0,
              "ticks": ""
             }
            },
            "type": "scattermapbox"
           }
          ],
          "scatterpolar": [
           {
            "marker": {
             "colorbar": {
              "outlinewidth": 0,
              "ticks": ""
             }
            },
            "type": "scatterpolar"
           }
          ],
          "scatterpolargl": [
           {
            "marker": {
             "colorbar": {
              "outlinewidth": 0,
              "ticks": ""
             }
            },
            "type": "scatterpolargl"
           }
          ],
          "scatterternary": [
           {
            "marker": {
             "colorbar": {
              "outlinewidth": 0,
              "ticks": ""
             }
            },
            "type": "scatterternary"
           }
          ],
          "surface": [
           {
            "colorbar": {
             "outlinewidth": 0,
             "ticks": ""
            },
            "colorscale": [
             [
              0,
              "#0d0887"
             ],
             [
              0.1111111111111111,
              "#46039f"
             ],
             [
              0.2222222222222222,
              "#7201a8"
             ],
             [
              0.3333333333333333,
              "#9c179e"
             ],
             [
              0.4444444444444444,
              "#bd3786"
             ],
             [
              0.5555555555555556,
              "#d8576b"
             ],
             [
              0.6666666666666666,
              "#ed7953"
             ],
             [
              0.7777777777777778,
              "#fb9f3a"
             ],
             [
              0.8888888888888888,
              "#fdca26"
             ],
             [
              1,
              "#f0f921"
             ]
            ],
            "type": "surface"
           }
          ],
          "table": [
           {
            "cells": {
             "fill": {
              "color": "#EBF0F8"
             },
             "line": {
              "color": "white"
             }
            },
            "header": {
             "fill": {
              "color": "#C8D4E3"
             },
             "line": {
              "color": "white"
             }
            },
            "type": "table"
           }
          ]
         },
         "layout": {
          "annotationdefaults": {
           "arrowcolor": "#2a3f5f",
           "arrowhead": 0,
           "arrowwidth": 1
          },
          "coloraxis": {
           "colorbar": {
            "outlinewidth": 0,
            "ticks": ""
           }
          },
          "colorscale": {
           "diverging": [
            [
             0,
             "#8e0152"
            ],
            [
             0.1,
             "#c51b7d"
            ],
            [
             0.2,
             "#de77ae"
            ],
            [
             0.3,
             "#f1b6da"
            ],
            [
             0.4,
             "#fde0ef"
            ],
            [
             0.5,
             "#f7f7f7"
            ],
            [
             0.6,
             "#e6f5d0"
            ],
            [
             0.7,
             "#b8e186"
            ],
            [
             0.8,
             "#7fbc41"
            ],
            [
             0.9,
             "#4d9221"
            ],
            [
             1,
             "#276419"
            ]
           ],
           "sequential": [
            [
             0,
             "#0d0887"
            ],
            [
             0.1111111111111111,
             "#46039f"
            ],
            [
             0.2222222222222222,
             "#7201a8"
            ],
            [
             0.3333333333333333,
             "#9c179e"
            ],
            [
             0.4444444444444444,
             "#bd3786"
            ],
            [
             0.5555555555555556,
             "#d8576b"
            ],
            [
             0.6666666666666666,
             "#ed7953"
            ],
            [
             0.7777777777777778,
             "#fb9f3a"
            ],
            [
             0.8888888888888888,
             "#fdca26"
            ],
            [
             1,
             "#f0f921"
            ]
           ],
           "sequentialminus": [
            [
             0,
             "#0d0887"
            ],
            [
             0.1111111111111111,
             "#46039f"
            ],
            [
             0.2222222222222222,
             "#7201a8"
            ],
            [
             0.3333333333333333,
             "#9c179e"
            ],
            [
             0.4444444444444444,
             "#bd3786"
            ],
            [
             0.5555555555555556,
             "#d8576b"
            ],
            [
             0.6666666666666666,
             "#ed7953"
            ],
            [
             0.7777777777777778,
             "#fb9f3a"
            ],
            [
             0.8888888888888888,
             "#fdca26"
            ],
            [
             1,
             "#f0f921"
            ]
           ]
          },
          "colorway": [
           "#636efa",
           "#EF553B",
           "#00cc96",
           "#ab63fa",
           "#FFA15A",
           "#19d3f3",
           "#FF6692",
           "#B6E880",
           "#FF97FF",
           "#FECB52"
          ],
          "font": {
           "color": "#2a3f5f"
          },
          "geo": {
           "bgcolor": "white",
           "lakecolor": "white",
           "landcolor": "#E5ECF6",
           "showlakes": true,
           "showland": true,
           "subunitcolor": "white"
          },
          "hoverlabel": {
           "align": "left"
          },
          "hovermode": "closest",
          "mapbox": {
           "style": "light"
          },
          "paper_bgcolor": "white",
          "plot_bgcolor": "#E5ECF6",
          "polar": {
           "angularaxis": {
            "gridcolor": "white",
            "linecolor": "white",
            "ticks": ""
           },
           "bgcolor": "#E5ECF6",
           "radialaxis": {
            "gridcolor": "white",
            "linecolor": "white",
            "ticks": ""
           }
          },
          "scene": {
           "xaxis": {
            "backgroundcolor": "#E5ECF6",
            "gridcolor": "white",
            "gridwidth": 2,
            "linecolor": "white",
            "showbackground": true,
            "ticks": "",
            "zerolinecolor": "white"
           },
           "yaxis": {
            "backgroundcolor": "#E5ECF6",
            "gridcolor": "white",
            "gridwidth": 2,
            "linecolor": "white",
            "showbackground": true,
            "ticks": "",
            "zerolinecolor": "white"
           },
           "zaxis": {
            "backgroundcolor": "#E5ECF6",
            "gridcolor": "white",
            "gridwidth": 2,
            "linecolor": "white",
            "showbackground": true,
            "ticks": "",
            "zerolinecolor": "white"
           }
          },
          "shapedefaults": {
           "line": {
            "color": "#2a3f5f"
           }
          },
          "ternary": {
           "aaxis": {
            "gridcolor": "white",
            "linecolor": "white",
            "ticks": ""
           },
           "baxis": {
            "gridcolor": "white",
            "linecolor": "white",
            "ticks": ""
           },
           "bgcolor": "#E5ECF6",
           "caxis": {
            "gridcolor": "white",
            "linecolor": "white",
            "ticks": ""
           }
          },
          "title": {
           "x": 0.05
          },
          "xaxis": {
           "automargin": true,
           "gridcolor": "white",
           "linecolor": "white",
           "ticks": "",
           "title": {
            "standoff": 15
           },
           "zerolinecolor": "white",
           "zerolinewidth": 2
          },
          "yaxis": {
           "automargin": true,
           "gridcolor": "white",
           "linecolor": "white",
           "ticks": "",
           "title": {
            "standoff": 15
           },
           "zerolinecolor": "white",
           "zerolinewidth": 2
          }
         }
        },
        "yaxis": {
         "range": [
          0.8,
          1
         ],
         "title": {
          "text": "AUC"
         }
        }
       }
      },
      "text/html": [
       "<div>\n",
       "        \n",
       "        \n",
       "            <div id=\"53946df6-964a-485a-b9cd-199ef3029d50\" class=\"plotly-graph-div\" style=\"height:525px; width:100%;\"></div>\n",
       "            <script type=\"text/javascript\">\n",
       "                require([\"plotly\"], function(Plotly) {\n",
       "                    window.PLOTLYENV=window.PLOTLYENV || {};\n",
       "                    \n",
       "                if (document.getElementById(\"53946df6-964a-485a-b9cd-199ef3029d50\")) {\n",
       "                    Plotly.newPlot(\n",
       "                        '53946df6-964a-485a-b9cd-199ef3029d50',\n",
       "                        [{\"name\": \"CV score\", \"type\": \"bar\", \"x\": [\"Logistic Regression\", \"Decision Tree\", \"Random forest\", \"KNN\", \"SVC\"], \"y\": [0.91328125, 0.926171875, 0.94375, 0.97265625, 0.97109375]}],\n",
       "                        {\"template\": {\"data\": {\"bar\": [{\"error_x\": {\"color\": \"#2a3f5f\"}, \"error_y\": {\"color\": \"#2a3f5f\"}, \"marker\": {\"line\": {\"color\": \"#E5ECF6\", \"width\": 0.5}}, \"type\": \"bar\"}], \"barpolar\": [{\"marker\": {\"line\": {\"color\": \"#E5ECF6\", \"width\": 0.5}}, \"type\": \"barpolar\"}], \"carpet\": [{\"aaxis\": {\"endlinecolor\": \"#2a3f5f\", \"gridcolor\": \"white\", \"linecolor\": \"white\", \"minorgridcolor\": \"white\", \"startlinecolor\": \"#2a3f5f\"}, \"baxis\": {\"endlinecolor\": \"#2a3f5f\", \"gridcolor\": \"white\", \"linecolor\": \"white\", \"minorgridcolor\": \"white\", \"startlinecolor\": \"#2a3f5f\"}, \"type\": \"carpet\"}], \"choropleth\": [{\"colorbar\": {\"outlinewidth\": 0, \"ticks\": \"\"}, \"type\": \"choropleth\"}], \"contour\": [{\"colorbar\": {\"outlinewidth\": 0, \"ticks\": \"\"}, \"colorscale\": [[0.0, \"#0d0887\"], [0.1111111111111111, \"#46039f\"], [0.2222222222222222, \"#7201a8\"], [0.3333333333333333, \"#9c179e\"], [0.4444444444444444, \"#bd3786\"], [0.5555555555555556, \"#d8576b\"], [0.6666666666666666, \"#ed7953\"], [0.7777777777777778, \"#fb9f3a\"], [0.8888888888888888, \"#fdca26\"], [1.0, \"#f0f921\"]], \"type\": \"contour\"}], \"contourcarpet\": [{\"colorbar\": {\"outlinewidth\": 0, \"ticks\": \"\"}, \"type\": \"contourcarpet\"}], \"heatmap\": [{\"colorbar\": {\"outlinewidth\": 0, \"ticks\": \"\"}, \"colorscale\": [[0.0, \"#0d0887\"], [0.1111111111111111, \"#46039f\"], [0.2222222222222222, \"#7201a8\"], [0.3333333333333333, \"#9c179e\"], [0.4444444444444444, \"#bd3786\"], [0.5555555555555556, \"#d8576b\"], [0.6666666666666666, \"#ed7953\"], [0.7777777777777778, \"#fb9f3a\"], [0.8888888888888888, \"#fdca26\"], [1.0, \"#f0f921\"]], \"type\": \"heatmap\"}], \"heatmapgl\": [{\"colorbar\": {\"outlinewidth\": 0, \"ticks\": \"\"}, \"colorscale\": [[0.0, \"#0d0887\"], [0.1111111111111111, \"#46039f\"], [0.2222222222222222, \"#7201a8\"], [0.3333333333333333, \"#9c179e\"], [0.4444444444444444, \"#bd3786\"], [0.5555555555555556, \"#d8576b\"], [0.6666666666666666, \"#ed7953\"], [0.7777777777777778, \"#fb9f3a\"], [0.8888888888888888, \"#fdca26\"], [1.0, \"#f0f921\"]], \"type\": \"heatmapgl\"}], \"histogram\": [{\"marker\": {\"colorbar\": {\"outlinewidth\": 0, \"ticks\": \"\"}}, \"type\": \"histogram\"}], \"histogram2d\": [{\"colorbar\": {\"outlinewidth\": 0, \"ticks\": \"\"}, \"colorscale\": [[0.0, \"#0d0887\"], [0.1111111111111111, \"#46039f\"], [0.2222222222222222, \"#7201a8\"], [0.3333333333333333, \"#9c179e\"], [0.4444444444444444, \"#bd3786\"], [0.5555555555555556, \"#d8576b\"], [0.6666666666666666, \"#ed7953\"], [0.7777777777777778, \"#fb9f3a\"], [0.8888888888888888, \"#fdca26\"], [1.0, \"#f0f921\"]], \"type\": \"histogram2d\"}], \"histogram2dcontour\": [{\"colorbar\": {\"outlinewidth\": 0, \"ticks\": \"\"}, \"colorscale\": [[0.0, \"#0d0887\"], [0.1111111111111111, \"#46039f\"], [0.2222222222222222, \"#7201a8\"], [0.3333333333333333, \"#9c179e\"], [0.4444444444444444, \"#bd3786\"], [0.5555555555555556, \"#d8576b\"], [0.6666666666666666, \"#ed7953\"], [0.7777777777777778, \"#fb9f3a\"], [0.8888888888888888, \"#fdca26\"], [1.0, \"#f0f921\"]], \"type\": \"histogram2dcontour\"}], \"mesh3d\": [{\"colorbar\": {\"outlinewidth\": 0, \"ticks\": \"\"}, \"type\": \"mesh3d\"}], \"parcoords\": [{\"line\": {\"colorbar\": {\"outlinewidth\": 0, \"ticks\": \"\"}}, \"type\": \"parcoords\"}], \"pie\": [{\"automargin\": true, \"type\": \"pie\"}], \"scatter\": [{\"marker\": {\"colorbar\": {\"outlinewidth\": 0, \"ticks\": \"\"}}, \"type\": \"scatter\"}], \"scatter3d\": [{\"line\": {\"colorbar\": {\"outlinewidth\": 0, \"ticks\": \"\"}}, \"marker\": {\"colorbar\": {\"outlinewidth\": 0, \"ticks\": \"\"}}, \"type\": \"scatter3d\"}], \"scattercarpet\": [{\"marker\": {\"colorbar\": {\"outlinewidth\": 0, \"ticks\": \"\"}}, \"type\": \"scattercarpet\"}], \"scattergeo\": [{\"marker\": {\"colorbar\": {\"outlinewidth\": 0, \"ticks\": \"\"}}, \"type\": \"scattergeo\"}], \"scattergl\": [{\"marker\": {\"colorbar\": {\"outlinewidth\": 0, \"ticks\": \"\"}}, \"type\": \"scattergl\"}], \"scattermapbox\": [{\"marker\": {\"colorbar\": {\"outlinewidth\": 0, \"ticks\": \"\"}}, \"type\": \"scattermapbox\"}], \"scatterpolar\": [{\"marker\": {\"colorbar\": {\"outlinewidth\": 0, \"ticks\": \"\"}}, \"type\": \"scatterpolar\"}], \"scatterpolargl\": [{\"marker\": {\"colorbar\": {\"outlinewidth\": 0, \"ticks\": \"\"}}, \"type\": \"scatterpolargl\"}], \"scatterternary\": [{\"marker\": {\"colorbar\": {\"outlinewidth\": 0, \"ticks\": \"\"}}, \"type\": \"scatterternary\"}], \"surface\": [{\"colorbar\": {\"outlinewidth\": 0, \"ticks\": \"\"}, \"colorscale\": [[0.0, \"#0d0887\"], [0.1111111111111111, \"#46039f\"], [0.2222222222222222, \"#7201a8\"], [0.3333333333333333, \"#9c179e\"], [0.4444444444444444, \"#bd3786\"], [0.5555555555555556, \"#d8576b\"], [0.6666666666666666, \"#ed7953\"], [0.7777777777777778, \"#fb9f3a\"], [0.8888888888888888, \"#fdca26\"], [1.0, \"#f0f921\"]], \"type\": \"surface\"}], \"table\": [{\"cells\": {\"fill\": {\"color\": \"#EBF0F8\"}, \"line\": {\"color\": \"white\"}}, \"header\": {\"fill\": {\"color\": \"#C8D4E3\"}, \"line\": {\"color\": \"white\"}}, \"type\": \"table\"}]}, \"layout\": {\"annotationdefaults\": {\"arrowcolor\": \"#2a3f5f\", \"arrowhead\": 0, \"arrowwidth\": 1}, \"coloraxis\": {\"colorbar\": {\"outlinewidth\": 0, \"ticks\": \"\"}}, \"colorscale\": {\"diverging\": [[0, \"#8e0152\"], [0.1, \"#c51b7d\"], [0.2, \"#de77ae\"], [0.3, \"#f1b6da\"], [0.4, \"#fde0ef\"], [0.5, \"#f7f7f7\"], [0.6, \"#e6f5d0\"], [0.7, \"#b8e186\"], [0.8, \"#7fbc41\"], [0.9, \"#4d9221\"], [1, \"#276419\"]], \"sequential\": [[0.0, \"#0d0887\"], [0.1111111111111111, \"#46039f\"], [0.2222222222222222, \"#7201a8\"], [0.3333333333333333, \"#9c179e\"], [0.4444444444444444, \"#bd3786\"], [0.5555555555555556, \"#d8576b\"], [0.6666666666666666, \"#ed7953\"], [0.7777777777777778, \"#fb9f3a\"], [0.8888888888888888, \"#fdca26\"], [1.0, \"#f0f921\"]], \"sequentialminus\": [[0.0, \"#0d0887\"], [0.1111111111111111, \"#46039f\"], [0.2222222222222222, \"#7201a8\"], [0.3333333333333333, \"#9c179e\"], [0.4444444444444444, \"#bd3786\"], [0.5555555555555556, \"#d8576b\"], [0.6666666666666666, \"#ed7953\"], [0.7777777777777778, \"#fb9f3a\"], [0.8888888888888888, \"#fdca26\"], [1.0, \"#f0f921\"]]}, \"colorway\": [\"#636efa\", \"#EF553B\", \"#00cc96\", \"#ab63fa\", \"#FFA15A\", \"#19d3f3\", \"#FF6692\", \"#B6E880\", \"#FF97FF\", \"#FECB52\"], \"font\": {\"color\": \"#2a3f5f\"}, \"geo\": {\"bgcolor\": \"white\", \"lakecolor\": \"white\", \"landcolor\": \"#E5ECF6\", \"showlakes\": true, \"showland\": true, \"subunitcolor\": \"white\"}, \"hoverlabel\": {\"align\": \"left\"}, \"hovermode\": \"closest\", \"mapbox\": {\"style\": \"light\"}, \"paper_bgcolor\": \"white\", \"plot_bgcolor\": \"#E5ECF6\", \"polar\": {\"angularaxis\": {\"gridcolor\": \"white\", \"linecolor\": \"white\", \"ticks\": \"\"}, \"bgcolor\": \"#E5ECF6\", \"radialaxis\": {\"gridcolor\": \"white\", \"linecolor\": \"white\", \"ticks\": \"\"}}, \"scene\": {\"xaxis\": {\"backgroundcolor\": \"#E5ECF6\", \"gridcolor\": \"white\", \"gridwidth\": 2, \"linecolor\": \"white\", \"showbackground\": true, \"ticks\": \"\", \"zerolinecolor\": \"white\"}, \"yaxis\": {\"backgroundcolor\": \"#E5ECF6\", \"gridcolor\": \"white\", \"gridwidth\": 2, \"linecolor\": \"white\", \"showbackground\": true, \"ticks\": \"\", \"zerolinecolor\": \"white\"}, \"zaxis\": {\"backgroundcolor\": \"#E5ECF6\", \"gridcolor\": \"white\", \"gridwidth\": 2, \"linecolor\": \"white\", \"showbackground\": true, \"ticks\": \"\", \"zerolinecolor\": \"white\"}}, \"shapedefaults\": {\"line\": {\"color\": \"#2a3f5f\"}}, \"ternary\": {\"aaxis\": {\"gridcolor\": \"white\", \"linecolor\": \"white\", \"ticks\": \"\"}, \"baxis\": {\"gridcolor\": \"white\", \"linecolor\": \"white\", \"ticks\": \"\"}, \"bgcolor\": \"#E5ECF6\", \"caxis\": {\"gridcolor\": \"white\", \"linecolor\": \"white\", \"ticks\": \"\"}}, \"title\": {\"x\": 0.05}, \"xaxis\": {\"automargin\": true, \"gridcolor\": \"white\", \"linecolor\": \"white\", \"ticks\": \"\", \"title\": {\"standoff\": 15}, \"zerolinecolor\": \"white\", \"zerolinewidth\": 2}, \"yaxis\": {\"automargin\": true, \"gridcolor\": \"white\", \"linecolor\": \"white\", \"ticks\": \"\", \"title\": {\"standoff\": 15}, \"zerolinecolor\": \"white\", \"zerolinewidth\": 2}}}, \"yaxis\": {\"range\": [0.8, 1], \"title\": {\"text\": \"AUC\"}}},\n",
       "                        {\"responsive\": true}\n",
       "                    ).then(function(){\n",
       "                            \n",
       "var gd = document.getElementById('53946df6-964a-485a-b9cd-199ef3029d50');\n",
       "var x = new MutationObserver(function (mutations, observer) {{\n",
       "        var display = window.getComputedStyle(gd).display;\n",
       "        if (!display || display === 'none') {{\n",
       "            console.log([gd, 'removed!']);\n",
       "            Plotly.purge(gd);\n",
       "            observer.disconnect();\n",
       "        }}\n",
       "}});\n",
       "\n",
       "// Listen for the removal of the full notebook cells\n",
       "var notebookContainer = gd.closest('#notebook-container');\n",
       "if (notebookContainer) {{\n",
       "    x.observe(notebookContainer, {childList: true});\n",
       "}}\n",
       "\n",
       "// Listen for the clearing of the current output cell\n",
       "var outputEl = gd.closest('.output');\n",
       "if (outputEl) {{\n",
       "    x.observe(outputEl, {childList: true});\n",
       "}}\n",
       "\n",
       "                        })\n",
       "                };\n",
       "                });\n",
       "            </script>\n",
       "        </div>"
      ]
     },
     "metadata": {},
     "output_type": "display_data"
    }
   ],
   "source": [
    "import plotly.graph_objects as go\n",
    "fig = compare_models(models)\n",
    "fig.update_yaxes(range=[0.8,1], title=\"AUC\")"
   ]
  },
  {
   "cell_type": "markdown",
   "metadata": {},
   "source": [
    "## Final Optimal model performance\n",
    "Since KNN achieves the best auc score on training set, let's choose KNN as our final model."
   ]
  },
  {
   "cell_type": "code",
   "execution_count": 104,
   "metadata": {},
   "outputs": [
    {
     "name": "stdout",
     "output_type": "stream",
     "text": [
      "AUC: 0.98\n"
     ]
    }
   ],
   "source": [
    "#final optimal model and its auc score\n",
    "y_pred_prob = best_KNN.predict_proba(X_test)[:,1]\n",
    "print(\"AUC: {}\".format(roc_auc_score(y_test, y_pred_prob)))"
   ]
  },
  {
   "cell_type": "code",
   "execution_count": null,
   "metadata": {},
   "outputs": [],
   "source": []
  }
 ],
 "metadata": {
  "kernelspec": {
   "display_name": "Python 3",
   "language": "python",
   "name": "python3"
  },
  "language_info": {
   "codemirror_mode": {
    "name": "ipython",
    "version": 3
   },
   "file_extension": ".py",
   "mimetype": "text/x-python",
   "name": "python",
   "nbconvert_exporter": "python",
   "pygments_lexer": "ipython3",
   "version": "3.7.6"
  }
 },
 "nbformat": 4,
 "nbformat_minor": 4
}
