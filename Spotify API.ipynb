{
 "cells": [
  {
   "cell_type": "markdown",
   "metadata": {},
   "source": [
    "# Personal Project: Spotify - Song Preference Classification Model\n",
    "\n",
    "In this notebook, we use `Spotify API` and the `Spotipy` libaray to get audio features and information about tracks from our personal playlist on Spotify. Code reference: [Angelica Dietzel](https://medium.com/better-programming/how-to-extract-any-artists-data-using-spotify-s-api-python-and-spotipy-4c079401bc37)."
   ]
  },
  {
   "cell_type": "code",
   "execution_count": null,
   "metadata": {},
   "outputs": [],
   "source": [
    "pip install spotipy"
   ]
  },
  {
   "cell_type": "code",
   "execution_count": null,
   "metadata": {},
   "outputs": [],
   "source": [
    "import numpy as np\n",
    "import pandas as pd\n",
    "import spotipy\n",
    "from spotipy.oauth2 import SpotifyClientCredentials #To access authorised Spotify data"
   ]
  },
  {
   "cell_type": "code",
   "execution_count": null,
   "metadata": {},
   "outputs": [],
   "source": [
    "client_id = 'b75938892b064b9baeca572ed2a7e3eb'\n",
    "client_secret = '6a3d349d1d80407ca7e351d0a58c476a'\n",
    "\n",
    "client_credentials_manager = SpotifyClientCredentials(client_id, client_secret)\n",
    "sp = spotipy.Spotify(client_credentials_manager=client_credentials_manager)"
   ]
  },
  {
   "cell_type": "code",
   "execution_count": null,
   "metadata": {},
   "outputs": [],
   "source": [
    "def getTrackIDs(user, playlist_id):\n",
    "    ids = []\n",
    "    playlist = sp.user_playlist(user, playlist_id)\n",
    "    for item in playlist['tracks']['items']:\n",
    "        track = item['track']\n",
    "        ids.append(track['id'])\n",
    "    return ids\n",
    "\n",
    "ids = getTrackIDs('31u7oa6oimwta34cqy2zdywdwlaa', '4NT6nFzm24RUGosxGcSfnd')"
   ]
  },
  {
   "cell_type": "code",
   "execution_count": null,
   "metadata": {},
   "outputs": [],
   "source": [
    "print(len(ids))\n",
    "print(ids[0])"
   ]
  },
  {
   "cell_type": "code",
   "execution_count": null,
   "metadata": {},
   "outputs": [],
   "source": [
    "def getTrackFeatures(id):\n",
    "    meta = sp.track(id)\n",
    "    features = sp.audio_features(id)\n",
    "\n",
    "    # meta\n",
    "    name = meta['name']\n",
    "    album = meta['album']['name']\n",
    "    artist = meta['album']['artists'][0]['name']\n",
    "    release_date = meta['album']['release_date']\n",
    "    length = meta['duration_ms']\n",
    "    popularity = meta['popularity']\n",
    "\n",
    "    # features\n",
    "    acousticness = features[0]['acousticness']\n",
    "    danceability = features[0]['danceability']\n",
    "    energy = features[0]['energy']\n",
    "    instrumentalness = features[0]['instrumentalness']\n",
    "    liveness = features[0]['liveness']\n",
    "    loudness = features[0]['loudness']\n",
    "    speechiness = features[0]['speechiness']\n",
    "    valence = features[0]['valence']\n",
    "    tempo = features[0]['tempo']\n",
    "    time_signature = features[0]['time_signature']\n",
    "\n",
    "    track = [name, album, artist, release_date, length, popularity, acousticness, danceability, energy, instrumentalness, liveness, loudness, speechiness, valence, tempo, time_signature]\n",
    "\n",
    "    return track"
   ]
  },
  {
   "cell_type": "code",
   "execution_count": null,
   "metadata": {},
   "outputs": [],
   "source": [
    "# loop over track ids \n",
    "tracks = []\n",
    "for i in range(len(ids)):\n",
    "  time.sleep(.5)\n",
    "  track = getTrackFeatures(ids[i])\n",
    "  tracks.append(track)\n",
    "\n",
    "# create dataset\n",
    "sophie = pd.DataFrame(tracks, columns = ['name', 'album', 'artist', 'release_date', 'length', 'popularity', 'danceability', 'acousticness', 'energy', 'instrumentalness', 'liveness', 'loudness', 'speechiness', 'valence', 'tempo', 'time_signature'])\n",
    "sophie.to_csv(\"mix.csv\", sep = ',')"
   ]
  }
 ],
 "metadata": {
  "kernelspec": {
   "display_name": "Python 3",
   "language": "python",
   "name": "python3"
  },
  "language_info": {
   "codemirror_mode": {
    "name": "ipython",
    "version": 3
   },
   "file_extension": ".py",
   "mimetype": "text/x-python",
   "name": "python",
   "nbconvert_exporter": "python",
   "pygments_lexer": "ipython3",
   "version": "3.7.6"
  }
 },
 "nbformat": 4,
 "nbformat_minor": 4
}
